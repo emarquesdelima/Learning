{
 "cells": [
  {
   "cell_type": "markdown",
   "metadata": {
    "slideshow": {
     "slide_type": "slide"
    }
   },
   "source": [
    "# Arrays\n",
    "\n",
    "Siga esse tutorial para fazer o Jupyter funcionar com JavaScript\n",
    "https://github.com/n-riesco/ijavascript#installation"
   ]
  },
  {
   "cell_type": "markdown",
   "metadata": {
    "slideshow": {
     "slide_type": "slide"
    }
   },
   "source": [
    "## Series Favoritas\n",
    "\n",
    "Suponha que queremos representar o conjunto de nossas séries favoritas. Como poderíamos fazer isso?"
   ]
  },
  {
   "cell_type": "code",
   "execution_count": 1,
   "metadata": {
    "slideshow": {
     "slide_type": "fragment"
    }
   },
   "outputs": [],
   "source": [
    "var seriesFavoritasDaAna = \n",
    "[\"Game of Thrones\", \"Breaking Bad\", \"House of Cards\"];\n",
    "var seriesFavoritasDoHector = [\"Blindspot\", \"Blacklist\"]"
   ]
  },
  {
   "cell_type": "markdown",
   "metadata": {
    "slideshow": {
     "slide_type": "fragment"
    }
   },
   "source": [
    "Como você pode ver, para representar um conjunto (Array) de strings, colocamos todas as strings que nos interessam, em colchetes separados por vírgulas. Fácil, certo?\n",
    "\n",
    "Tente as seguintes consultas no console:\n",
    "- seriesFavoritasDaAna\n",
    "- seriesFavoritasDoHector\n",
    "- [\"olá\",\"mundo!\"]\n",
    "- [\"olá\",\"olá\"]"
   ]
  },
  {
   "cell_type": "code",
   "execution_count": 2,
   "metadata": {
    "slideshow": {
     "slide_type": "fragment"
    }
   },
   "outputs": [
    {
     "data": {
      "text/plain": [
       "[ 'olá', 'olá' ]"
      ]
     },
     "execution_count": 2,
     "metadata": {},
     "output_type": "execute_result"
    }
   ],
   "source": [
    "[\"olá\",\"olá\"]"
   ]
  },
  {
   "cell_type": "code",
   "execution_count": 3,
   "metadata": {
    "slideshow": {
     "slide_type": "fragment"
    }
   },
   "outputs": [
    {
     "data": {
      "text/plain": [
       "[ 'Game of Thrones', 'Breaking Bad', 'House of Cards' ]"
      ]
     },
     "execution_count": 3,
     "metadata": {},
     "output_type": "execute_result"
    }
   ],
   "source": [
    "seriesFavoritasDaAna"
   ]
  },
  {
   "cell_type": "code",
   "execution_count": 4,
   "metadata": {
    "slideshow": {
     "slide_type": "fragment"
    }
   },
   "outputs": [
    {
     "data": {
      "text/plain": [
       "[ 'Blindspot', 'Blacklist' ]"
      ]
     },
     "execution_count": 4,
     "metadata": {},
     "output_type": "execute_result"
    }
   ],
   "source": [
    "seriesFavoritasDoHector"
   ]
  },
  {
   "cell_type": "markdown",
   "metadata": {},
   "source": [
    "## E isso é uma matriz\n",
    "\n",
    "O que acabamos de ver é que podemos facilmente modelar conjuntos de coisas. E isso porque em JavaScript, como acabamos de conhecer, temos dados do tipo array, também conhecido como vetor.\n",
    "\n",
    "Matrizes podem ter vários elementos, não há limite!\n",
    "\n",
    "E não é só isso, a ordem é importante! Por exemplo: “[\" hello \",\" world \"]” não é o mesmo que “[\" world \",\" hello \"]”, ambos têm os mesmos elementos, mas em diferentes posições.\n",
    "\n",
    "Tente as seguintes consultas no console:\n",
    "\n",
    "- arraysIguais([\"olá\", \"mundo\"], [\"mundo\", \"olá\"])\n",
    "- arraysIguais([\"olá\", \"mundo\"], [\"olá\", \"mundo\"])\n",
    "- arraysIguais([\"olá\", \"mundo\"], [\"olá\", \"todo\", \"o\", \"mundo\"])\n",
    "- arraysIguais([\"olá\"], [\"olá\", \"mundo\"])\n",
    "- [\"olá\", \"mundo\"] === [\"mundo\", \"olá\"]\n",
    "- pessoas\n",
    "- [\"mara\", \"juliana\"] === pessoas\n",
    "- pessoas === pessoas\n",
    "\n",
    "Que conclusões você pode tirar?"
   ]
  },
  {
   "cell_type": "markdown",
   "metadata": {},
   "source": [
    "## Jogos de Azar\n",
    "\n",
    "Mas, podemos apenas criar matrizes de String? E se eu quiser, por exemplo, representar os números de loteria que saíram na semana passada? Ou os giros sucessivos de um dado? Ou se foi “cara ou coroa” em sucessivos giros de uma moeda?"
   ]
  },
  {
   "cell_type": "code",
   "execution_count": 5,
   "metadata": {},
   "outputs": [],
   "source": [
    "var numerosDeLoteria = [2, 11, 17, 32, 36, 39];\n",
    "var girosDeDado = [1, 6, 6, 2, 2, 4];\n",
    "var saiuCara = [false, false, true, false];"
   ]
  },
  {
   "cell_type": "markdown",
   "metadata": {},
   "source": [
    "Como você pode ver, também podemos representar conjuntos de números ou booleanos da mesma maneira: escrevê-los entre colchetes e separados por vírgulas. Podemos ter matrizes de números, strings, booleanos, etc. Poderíamos até ter matrizes de matrizes!\n",
    "\n",
    "Vamos ver se está claro, tente as seguintes consultas no console:\n",
    "\n",
    "- numerosDeLoteria\n",
    "- saiuCara\n",
    "- [[1, 2, 3], [4, 5, 6]]\n",
    "- girosDeDado"
   ]
  },
  {
   "cell_type": "code",
   "execution_count": 6,
   "metadata": {},
   "outputs": [
    {
     "data": {
      "text/plain": [
       "[ 2, 11, 17, 32, 36, 39 ]"
      ]
     },
     "execution_count": 6,
     "metadata": {},
     "output_type": "execute_result"
    }
   ],
   "source": [
    "numerosDeLoteria"
   ]
  },
  {
   "cell_type": "code",
   "execution_count": 7,
   "metadata": {},
   "outputs": [
    {
     "data": {
      "text/plain": [
       "[ false, false, true, false ]"
      ]
     },
     "execution_count": 7,
     "metadata": {},
     "output_type": "execute_result"
    }
   ],
   "source": [
    "saiuCara"
   ]
  },
  {
   "cell_type": "code",
   "execution_count": 8,
   "metadata": {},
   "outputs": [
    {
     "data": {
      "text/plain": [
       "[ [ 1, 2, 3 ], [ 4, 5, 6 ] ]"
      ]
     },
     "execution_count": 8,
     "metadata": {},
     "output_type": "execute_result"
    }
   ],
   "source": [
    "[[1,2,3],[4,5,6]]"
   ]
  },
  {
   "cell_type": "code",
   "execution_count": 9,
   "metadata": {},
   "outputs": [
    {
     "data": {
      "text/plain": [
       "[ 1, 6, 6, 2, 2, 4 ]"
      ]
     },
     "execution_count": 9,
     "metadata": {},
     "output_type": "execute_result"
    }
   ],
   "source": [
    "girosDeDado"
   ]
  },
  {
   "cell_type": "markdown",
   "metadata": {},
   "source": [
    "## Matrizes vazias\n",
    "\n",
    "Ótimo, parece que uma matriz pode conter qualquer tipo de elemento!\n",
    "\n",
    "E não apenas isso, também podem conter qualquer quantidade de elementos: um, dois, quinze, centenas...\n",
    "\n",
    "Podemos então ter matrizes vazias, isto é, sem elementos!"
   ]
  },
  {
   "cell_type": "code",
   "execution_count": 10,
   "metadata": {},
   "outputs": [],
   "source": [
    "var umArrayVazio = []"
   ]
  },
  {
   "cell_type": "markdown",
   "metadata": {},
   "source": [
    "Tente escrever um array vazio no console"
   ]
  },
  {
   "cell_type": "code",
   "execution_count": 11,
   "metadata": {},
   "outputs": [
    {
     "data": {
      "text/plain": [
       "[]"
      ]
     },
     "execution_count": 11,
     "metadata": {},
     "output_type": "execute_result"
    }
   ],
   "source": [
    "umArrayVazio"
   ]
  },
  {
   "cell_type": "markdown",
   "metadata": {},
   "source": [
    "## Quantos elementos você tem?\n",
    "\n",
    "Bem, já sabemos quais são as coisas que podemos representar com matrizes e como fazer isso. Mas o que podemos fazer com elas?\n",
    "\n",
    "Vamos começar com o fácil: saiba quantos elementos estão no array. Podemos fazer isso usando a propriedade “length”, semelhante ao que fizemos com as strings. Para perguntar a um array quantos elementos ele possui, devemos indicar o array em questão seguido por um ”.” e a propriedade que queremos acessar (\"length\").\n",
    "\n",
    "Realize as seguintes consultas no console:\n",
    "\n",
    "- “[] .length”\n",
    "- “numerosDeLoteria.length”\n",
    "- “[4, 3].length”"
   ]
  },
  {
   "cell_type": "code",
   "execution_count": 12,
   "metadata": {},
   "outputs": [
    {
     "data": {
      "text/plain": [
       "6"
      ]
     },
     "execution_count": 12,
     "metadata": {},
     "output_type": "execute_result"
    }
   ],
   "source": [
    "numerosDeLoteria.length"
   ]
  },
  {
   "cell_type": "markdown",
   "metadata": {},
   "source": [
    "## Adicionando itens\n",
    "\n",
    "Os arrays são muito úteis para conter vários elementos e nos ajudam a consultar quantos elementos eles contêm. Mas há outra coisa: podemos também adicionar elementos a qualquer momento, o que resolvemos usando o método push. Novamente, para adicionar um elemento a um array, devemos indicar o array seguido por um '.' e o método push com o elemento que queremos adicionar entre parenteses. Por exemplo:"
   ]
  },
  {
   "cell_type": "code",
   "execution_count": 13,
   "metadata": {},
   "outputs": [
    {
     "data": {
      "text/plain": [
       "4"
      ]
     },
     "execution_count": 13,
     "metadata": {},
     "output_type": "execute_result"
    }
   ],
   "source": [
    "var pertences = [\"espada\", \"escudo\", \"tocha\"];\n",
    "//pertences.length aqui vale 3;\n",
    "\n",
    "pertences.push (\"amuleto mágico\");\n",
    "//agora pertences.length vale 4"
   ]
  },
  {
   "cell_type": "markdown",
   "metadata": {},
   "source": [
    "Como podemos ver, o “push” adiciona um elemento à lista, o que faz com que seu tamanho aumente. Mas em que parte da lista você adiciona? No princípio? Ao final? No meio?\n",
    "\n",
    "Crie uma variável do tipo array chamada pertences que contém as strings \"espada\",\"escudo\",\"crossbow\".\n",
    "\n",
    "Utilize o método push para adicionar a string \"cross\".\n",
    "\n",
    "Ah e, além disso, existe um método “pop”, que não possui parâmetros. Escreva “pertences.pop()” e investigue o que faz no console."
   ]
  },
  {
   "cell_type": "code",
   "execution_count": 14,
   "metadata": {},
   "outputs": [
    {
     "data": {
      "text/plain": [
       "[ 'espada', 'escudo', 'tocha', 'amuleto mágico' ]"
      ]
     },
     "execution_count": 14,
     "metadata": {},
     "output_type": "execute_result"
    }
   ],
   "source": [
    "pertences"
   ]
  },
  {
   "cell_type": "code",
   "execution_count": 15,
   "metadata": {},
   "outputs": [
    {
     "data": {
      "text/plain": [
       "'amuleto mágico'"
      ]
     },
     "execution_count": 15,
     "metadata": {},
     "output_type": "execute_result"
    }
   ],
   "source": [
    "pertences.pop();"
   ]
  },
  {
   "cell_type": "code",
   "execution_count": 16,
   "metadata": {},
   "outputs": [
    {
     "data": {
      "text/plain": [
       "[ 'espada', 'escudo', 'tocha' ]"
      ]
     },
     "execution_count": 16,
     "metadata": {},
     "output_type": "execute_result"
    }
   ],
   "source": [
    "pertences"
   ]
  },
  {
   "cell_type": "code",
   "execution_count": 17,
   "metadata": {},
   "outputs": [
    {
     "data": {
      "text/plain": [
       "[ 'espada', 'escudo', 'crossbow' ]"
      ]
     },
     "execution_count": 17,
     "metadata": {},
     "output_type": "execute_result"
    }
   ],
   "source": [
    "var pertences = ['espada', 'escudo', 'crossbow'];\n",
    "pertences"
   ]
  },
  {
   "cell_type": "code",
   "execution_count": 18,
   "metadata": {},
   "outputs": [
    {
     "data": {
      "text/plain": [
       "[ 'espada', 'escudo', 'crossbow', 'cross' ]"
      ]
     },
     "execution_count": 18,
     "metadata": {},
     "output_type": "execute_result"
    }
   ],
   "source": [
    "pertences.push('cross');\n",
    "pertences;"
   ]
  },
  {
   "cell_type": "code",
   "execution_count": 19,
   "metadata": {},
   "outputs": [
    {
     "data": {
      "text/plain": [
       "'cross'"
      ]
     },
     "execution_count": 19,
     "metadata": {},
     "output_type": "execute_result"
    }
   ],
   "source": [
    "pertences.pop();"
   ]
  },
  {
   "cell_type": "code",
   "execution_count": 20,
   "metadata": {},
   "outputs": [
    {
     "data": {
      "text/plain": [
       "[ 'espada', 'escudo', 'crossbow' ]"
      ]
     },
     "execution_count": 20,
     "metadata": {},
     "output_type": "execute_result"
    }
   ],
   "source": [
    "pertences;"
   ]
  },
  {
   "cell_type": "markdown",
   "metadata": {},
   "source": [
    "## Mover\n",
    "\n",
    "Bem, nós conversamos o suficiente; Chegou a hora da ação!\n",
    "\n",
    "Declarar uma função chamada “mover”, que recebe dois arrays, remove o último elemento do primeiro e adiciona-o ao segundo.\n",
    "\n",
    "Exemplo:"
   ]
  },
  {
   "cell_type": "markdown",
   "metadata": {},
   "source": [
    "var umArray = [1, 2, 3];\n",
    "\n",
    "var outroArray = [4, 5];\n",
    "\n",
    "mover(umArray, outroArray);\n",
    "\n",
    "umArray //deveria ser [1, 2]\n",
    "\n",
    "outroArray //deveria ser [4, 5, 3]"
   ]
  },
  {
   "cell_type": "code",
   "execution_count": 21,
   "metadata": {},
   "outputs": [],
   "source": [
    "var umArray = [1, 2, 3];\n",
    "\n",
    "var outroArray = [4, 5];"
   ]
  },
  {
   "cell_type": "code",
   "execution_count": 22,
   "metadata": {},
   "outputs": [],
   "source": [
    "function mover(arrayA, arrayB){\n",
    "    arrayB.push(arrayA.pop());\n",
    "}"
   ]
  },
  {
   "cell_type": "code",
   "execution_count": 23,
   "metadata": {},
   "outputs": [],
   "source": [
    "mover(umArray, outroArray);"
   ]
  },
  {
   "cell_type": "code",
   "execution_count": 24,
   "metadata": {},
   "outputs": [
    {
     "data": {
      "text/plain": [
       "[ 1, 2 ]"
      ]
     },
     "execution_count": 24,
     "metadata": {},
     "output_type": "execute_result"
    }
   ],
   "source": [
    "umArray"
   ]
  },
  {
   "cell_type": "code",
   "execution_count": 25,
   "metadata": {},
   "outputs": [
    {
     "data": {
      "text/plain": [
       "[ 4, 5, 3 ]"
      ]
     },
     "execution_count": 25,
     "metadata": {},
     "output_type": "execute_result"
    }
   ],
   "source": [
    "outroArray"
   ]
  },
  {
   "cell_type": "markdown",
   "metadata": {},
   "source": [
    "## E onde está?\n",
    "\n",
    "Outro método útil dos arrays é o “indexOf”, que nos diz em que posição um elemento está dentro do array:"
   ]
  },
  {
   "cell_type": "code",
   "execution_count": 26,
   "metadata": {},
   "outputs": [
    {
     "name": "stdout",
     "output_type": "stream",
     "text": [
      "Posição de \"grande\" dentro do meuArray -> 2\n",
      "Posição de \"segunda-feira\" dentro do diasDeTrabalho -> 0\n"
     ]
    }
   ],
   "source": [
    "var meuArray = [\"a\", \"la\", \"grande\", \"le\", \"puse\", \"cuca\"]\n",
    "var posicao = meuArray.indexOf(\"grande\"); //devolve 2\n",
    "console.log('Posição de \"grande\" dentro do meuArray -> ' + posicao)\n",
    "\n",
    "var diasDeTrabalho = [\"segunda-feira\", \"terça-feira\", \"quarta-feira\", \"quinta-feira\", \"sexta-feira\"]\n",
    "var umDia = diasDeTrabalho.indexOf (\"segunda-feira\"); // retorna 0\n",
    "console.log('Posição de \"segunda-feira\" dentro do diasDeTrabalho -> ' + umDia)"
   ]
  },
  {
   "cell_type": "markdown",
   "metadata": {},
   "source": [
    "Como você pode ver, a “curiosidade” do método \"indexOf\" é que ele sempre retorna um número à menos que o esperado. Será que os criadores de JavaScript estavam errados? o.O\n",
    "\n",
    "Não, é que em JavaScript, como em muitas linguagens, as posições das matrizes começam em 0: o primeiro elemento é a posição 0, a segunda é a posição 1, a terceira 2 e assim por diante.\n",
    "\n",
    "E o que acontece se você passar por parâmetro para indexOf um elemento que não tem? Descubra você mesmo!\n",
    "\n",
    "Tente o seguinte no console:"
   ]
  },
  {
   "cell_type": "code",
   "execution_count": 27,
   "metadata": {},
   "outputs": [
    {
     "data": {
      "text/plain": [
       "-1"
      ]
     },
     "execution_count": 27,
     "metadata": {},
     "output_type": "execute_result"
    }
   ],
   "source": [
    "diasDeTrabalho.indexOf (\"osvaldo\")"
   ]
  },
  {
   "cell_type": "markdown",
   "metadata": {},
   "source": [
    "## Contém\n",
    "\n",
    "Agora é a sua vez!\n",
    "\n",
    "Escreva função “contem” que nos diz se um array contém um determinado elemento."
   ]
  },
  {
   "cell_type": "code",
   "execution_count": 28,
   "metadata": {},
   "outputs": [],
   "source": [
    "function contem(array, valueCheck){\n",
    "    return !(array.indexOf(valueCheck) == -1);\n",
    "}"
   ]
  },
  {
   "cell_type": "code",
   "execution_count": 29,
   "metadata": {},
   "outputs": [
    {
     "data": {
      "text/plain": [
       "false"
      ]
     },
     "execution_count": 29,
     "metadata": {},
     "output_type": "execute_result"
    }
   ],
   "source": [
    "contem(meuArray, \"dasdas\")"
   ]
  },
  {
   "cell_type": "code",
   "execution_count": 30,
   "metadata": {},
   "outputs": [
    {
     "data": {
      "text/plain": [
       "true"
      ]
     },
     "execution_count": 30,
     "metadata": {},
     "output_type": "execute_result"
    }
   ],
   "source": [
    "contem(meuArray, \"a\")"
   ]
  },
  {
   "cell_type": "markdown",
   "metadata": {},
   "source": [
    "## Enésimo elemento\n",
    "\n",
    "Por outro lado, com o “indexOf” (que nos diz a posição de um elemento em particular), existe um operador para descobrir qual elemento está em uma determinada posição:"
   ]
  },
  {
   "cell_type": "code",
   "execution_count": 31,
   "metadata": {},
   "outputs": [
    {
     "data": {
      "text/plain": [
       "'janeiro'"
      ]
     },
     "execution_count": 31,
     "metadata": {},
     "output_type": "execute_result"
    }
   ],
   "source": [
    "var mesesDoAno = ['janeiro',\n",
    "                  'fevereiro',\n",
    "                  'março',\n",
    "                  'abril',\n",
    "                  'maio',\n",
    "                  'junho',\n",
    "                  'julho',\n",
    "                  'agosto',\n",
    "                  'setembro',\n",
    "                  'outubro',\n",
    "                  'novembro',\n",
    "                  'dezembro'];\n",
    "mesesDoAno[0]"
   ]
  },
  {
   "cell_type": "code",
   "execution_count": 32,
   "metadata": {},
   "outputs": [
    {
     "data": {
      "text/plain": [
       "'cachorro'"
      ]
     },
     "execution_count": 32,
     "metadata": {},
     "output_type": "execute_result"
    }
   ],
   "source": [
    "[\"esse\", \"cachorro\", \"tem\", \"a\", \"cauda\", \"peluda\"][1]"
   ]
  },
  {
   "cell_type": "code",
   "execution_count": 33,
   "metadata": {},
   "outputs": [],
   "source": [
    "mesesDoAno[32]"
   ]
  },
  {
   "cell_type": "code",
   "execution_count": 34,
   "metadata": {},
   "outputs": [
    {
     "data": {
      "text/plain": [
       "[ 'janeiro',\n",
       "  'fevereiro',\n",
       "  'março',\n",
       "  'abril',\n",
       "  'maio',\n",
       "  'junho',\n",
       "  'julho',\n",
       "  'agosto',\n",
       "  'setembro',\n",
       "  'outubro',\n",
       "  'novembro',\n",
       "  'dezembro' ]"
      ]
     },
     "execution_count": 34,
     "metadata": {},
     "output_type": "execute_result"
    }
   ],
   "source": [
    "mesesDoAno"
   ]
  },
  {
   "cell_type": "markdown",
   "metadata": {},
   "source": [
    "## Mais prêmios\n",
    "\n",
    "Se você pedir por um elemento em uma posição que seja igual ou maior que o tamanho da matriz, você receberá undefined. Não parece uma coisa terrível, mas o problema é que com algo indefinido você não pode fazer nada realmente útil.\n",
    "\n",
    "Então você está avisado: não exagere!\n",
    "\n",
    "Escreva a função “medalhaDeAcordoComPosto(numero)”, que recebe um número como parâmetro. Usando apenas o máximo de um “if” apenas. Talvez os arrays possam ser úteis aqui.\n",
    "\n",
    "Você tem que devolver a medalha que corresponde às primeiras posições de uma competição:"
   ]
  },
  {
   "cell_type": "code",
   "execution_count": 35,
   "metadata": {},
   "outputs": [],
   "source": [
    "function medalhaDeAcordoComPosto(numero){\n",
    "    var medalhas = ['ouro',\n",
    "                   'prata',\n",
    "                   'bronze'];\n",
    "    if(numero != 0 && (numero -1) < medalhas.length){\n",
    "        return medalhas[numero-1];\n",
    "    }else{\n",
    "        return 'nada'\n",
    "    }\n",
    "}"
   ]
  },
  {
   "cell_type": "code",
   "execution_count": 36,
   "metadata": {},
   "outputs": [
    {
     "data": {
      "text/plain": [
       "'ouro'"
      ]
     },
     "execution_count": 36,
     "metadata": {},
     "output_type": "execute_result"
    }
   ],
   "source": [
    "medalhaDeAcordoComPosto(1)"
   ]
  },
  {
   "cell_type": "code",
   "execution_count": 37,
   "metadata": {},
   "outputs": [
    {
     "data": {
      "text/plain": [
       "'prata'"
      ]
     },
     "execution_count": 37,
     "metadata": {},
     "output_type": "execute_result"
    }
   ],
   "source": [
    "medalhaDeAcordoComPosto(2)"
   ]
  },
  {
   "cell_type": "code",
   "execution_count": 38,
   "metadata": {},
   "outputs": [
    {
     "data": {
      "text/plain": [
       "'bronze'"
      ]
     },
     "execution_count": 38,
     "metadata": {},
     "output_type": "execute_result"
    }
   ],
   "source": [
    "medalhaDeAcordoComPosto(3)"
   ]
  },
  {
   "cell_type": "code",
   "execution_count": 39,
   "metadata": {},
   "outputs": [
    {
     "data": {
      "text/plain": [
       "'nada'"
      ]
     },
     "execution_count": 39,
     "metadata": {},
     "output_type": "execute_result"
    }
   ],
   "source": [
    "medalhaDeAcordoComPosto(4)"
   ]
  },
  {
   "cell_type": "code",
   "execution_count": 40,
   "metadata": {},
   "outputs": [
    {
     "data": {
      "text/plain": [
       "'nada'"
      ]
     },
     "execution_count": 40,
     "metadata": {},
     "output_type": "execute_result"
    }
   ],
   "source": [
    "medalhaDeAcordoComPosto(5)"
   ]
  },
  {
   "cell_type": "code",
   "execution_count": 41,
   "metadata": {},
   "outputs": [
    {
     "data": {
      "text/plain": [
       "'nada'"
      ]
     },
     "execution_count": 41,
     "metadata": {},
     "output_type": "execute_result"
    }
   ],
   "source": [
    "medalhaDeAcordoComPosto(0)"
   ]
  },
  {
   "cell_type": "markdown",
   "metadata": {},
   "source": [
    "##  Soma\n",
    "\n",
    "Ana, contadora de uma empresa bem conhecida, contabiliza os lucros de cada mês em uma matriz. Por exemplo, para o último semestre do ano passado registrou o seguinte:"
   ]
  },
  {
   "cell_type": "code",
   "execution_count": 42,
   "metadata": {},
   "outputs": [],
   "source": [
    "//Em julho ganhou $ 50, em agosto perdeu $ 12, etc.\n",
    "var lucroUltimoSemestre = [50, -12, 1000, 300, 200, 0];"
   ]
  },
  {
   "cell_type": "markdown",
   "metadata": {},
   "source": [
    "E ela acabou de nos perguntar: \"posso saber o lucro de todo um semestre?\"\n",
    "\n",
    "\"Óbvio\", nós dissemos, e escrevemos o seguinte código:"
   ]
  },
  {
   "cell_type": "code",
   "execution_count": 43,
   "metadata": {},
   "outputs": [],
   "source": [
    "function somaLucroSemestre(umSemestre) {\n",
    "  return umSemestre[0] + umSemestre[1] +\n",
    "        umSemestre[2] + umSemestre[3] +\n",
    "        umSemestre[4] + umSemestre[5];\n",
    "}"
   ]
  },
  {
   "cell_type": "markdown",
   "metadata": {},
   "source": [
    "\"Muito Obrigada\", Ana disse, e os lucros foram calculados usando a função que passamos para ela. Mas pouco tempo depois, ele voltou dizendo que também registrou os lucros do primeiro trimestre deste ano:"
   ]
  },
  {
   "cell_type": "code",
   "execution_count": 44,
   "metadata": {},
   "outputs": [],
   "source": [
    "//Em janeiro a empresa faturou $80, em fevereiro, $453, em março $1.000\n",
    "var lucrosPrimeiroTrimestre = [80, 453, 1000];"
   ]
  },
  {
   "cell_type": "markdown",
   "metadata": {},
   "source": [
    "E ela nos perguntou: _ \"Você poderia usar essa função que você me deu para calcular os ganhos do primeiro trimestre?\"_\n",
    "\n",
    "E estamos pensando\n",
    "\n",
    "Tem algum problema na função somaLucroSemestre que escrevemos anteriormente? Funcionará com trimestres? E com quadrimestres?\n",
    "\n",
    "Experimente no console!"
   ]
  },
  {
   "cell_type": "code",
   "execution_count": 45,
   "metadata": {},
   "outputs": [
    {
     "data": {
      "text/plain": [
       "NaN"
      ]
     },
     "execution_count": 45,
     "metadata": {},
     "output_type": "execute_result"
    }
   ],
   "source": [
    "somaLucroSemestre(lucrosPrimeiroTrimestre)"
   ]
  },
  {
   "cell_type": "markdown",
   "metadata": {},
   "source": [
    "A função somaLucroSemestre anterior tem dois problemas:\n",
    "\n",
    "1. É muito repetitiva e tediosa para escrever. Temos que fazer muitas somas à mão!\n",
    "2. E não é genérica, serve apenas para arrays de 6 elementos:\n",
    "\n",
    "> - se tiver mais de seis elementos, só adiciona os seis primeiros;\n",
    "- se você tem menos, retorne coisas bizarras (você se lembra quando nós dissemos que se você fosse indexar coisas ruins poderiam acontecer  ?).\n",
    "\n",
    "O que gostaríamos é adicionar todos os elementos do array de uma forma genérica, não importa quantos realmente existam: queremos uma função lucroTotal, que pode adicionar períodos de qualquer tamanho: semetres, quartos, etc. Que difícil!\n",
    "\n",
    "Agora que já sabemos o que queremos (lucroTotal), podemos descobrir como fazer isso ...\n",
    "\n",
    "Vamos aos poucos: se a matriz não tivesse elementos, quanto deveria ser a soma? 0!"
   ]
  },
  {
   "cell_type": "code",
   "execution_count": 46,
   "metadata": {},
   "outputs": [],
   "source": [
    "function lucroTotal0(umPeriodo) {\n",
    "  var soma = 0;\n",
    "  return soma;\n",
    "}"
   ]
  },
  {
   "cell_type": "markdown",
   "metadata": {},
   "source": [
    "E se eu tivesse exatamente um item? Este ... 0 .... mais esse elemento? Exatamente!"
   ]
  },
  {
   "cell_type": "code",
   "execution_count": 47,
   "metadata": {},
   "outputs": [],
   "source": [
    "function lucroTotal1(umPeriodo) {\n",
    "  var soma = 0;\n",
    "  soma = soma + umPeriodo[0];\n",
    "  return soma;\n",
    "}"
   ]
  },
  {
   "cell_type": "markdown",
   "metadata": {},
   "source": [
    "E se eu tivesse 2 elementos?"
   ]
  },
  {
   "cell_type": "code",
   "execution_count": 48,
   "metadata": {},
   "outputs": [],
   "source": [
    "function lucroTotal2(umPeriodo) {\n",
    "  var soma = 0;\n",
    "  soma = soma + umPeriodo[0];\n",
    "  soma = soma + umPeriodo[1];\n",
    "  return soma ;\n",
    "}"
   ]
  },
  {
   "cell_type": "markdown",
   "metadata": {},
   "source": [
    "E se eu tivesse 3 elementos?"
   ]
  },
  {
   "cell_type": "code",
   "execution_count": 49,
   "metadata": {},
   "outputs": [],
   "source": [
    "function lucroTotal3(umPeriodo) {\n",
    "  var soma = 0;\n",
    "  soma = soma + umPeriodo[0];\n",
    "  soma = soma + umPeriodo[1];\n",
    "  soma = soma + umPeriodo[2];\n",
    "  return soma ;\n",
    "}"
   ]
  },
  {
   "cell_type": "markdown",
   "metadata": {},
   "source": [
    "Você começa a ver um padrão? Tente escrever lucroTotal4 que funciona para 4 itens."
   ]
  },
  {
   "cell_type": "code",
   "execution_count": 50,
   "metadata": {},
   "outputs": [],
   "source": [
    "function lucroTotal4(umPeriodo) {\n",
    "  var soma = 0;\n",
    "    soma = soma + umPeriodo[0];\n",
    "    soma = soma + umPeriodo[1];\n",
    "    soma = soma + umPeriodo[2];\n",
    "    soma = soma + umPeriodo[3];\n",
    "  return soma ;\n",
    "}"
   ]
  },
  {
   "cell_type": "markdown",
   "metadata": {},
   "source": [
    "Bem feito!\n",
    "\n",
    "E se a array tivesse N elementos?\n",
    "\n",
    "Se continuarmos repetindo esse padrão, veremos que uma soma de uma matriz sempre começa do mesmo jeito (soma variável = 0) e termina do mesmo jeito (retornando a variável de soma local)."
   ]
  },
  {
   "cell_type": "code",
   "execution_count": 51,
   "metadata": {},
   "outputs": [],
   "source": [
    "function lucroTotalN(umPeriodo) {\n",
    "  var soma = 0; // isso é sempre\n",
    "  //... etc\n",
    "  return soma; //isso é sempre\n",
    "}"
   ]
  },
  {
   "cell_type": "markdown",
   "metadata": {},
   "source": [
    "Quais mudanças são as acumulativas (soma = soma + ...), precisamos de uma para cada elemento da matriz. Em outras palavras, temos que visitar cada elemento dele, não importa quantos tenha. Mas como fazer isso? Essa ideia de repetir algo muitas vezes não lhe parece familiar?"
   ]
  },
  {
   "cell_type": "markdown",
   "metadata": {},
   "source": [
    "Então temos que repetir a operação de acumulação várias vezes, uma para cada elemento do array. Isso não só nos deixa desarrumados, mas também muito repetitivos!\n",
    "\n",
    "Não havia uma estrutura que vimos anteriormente que nos permitisse repetir uma ação várias vezes?\n",
    "\n",
    "Sim, é o for!\n",
    "\n",
    "E como posso pedir que ele repita essa ação dinamicamente para todos os elementos?\n",
    "\n",
    "Perguntando o length para o array!\n",
    "\n",
    "Exemplo:"
   ]
  },
  {
   "cell_type": "code",
   "execution_count": 52,
   "metadata": {},
   "outputs": [],
   "source": [
    "function lucroTotal(umPeriodo) {\n",
    "  var soma= 0;\n",
    "  var mes = 0;\n",
    "  for (var i=0; i<umPeriodo.length; i++) {\n",
    "    mes = umPeriodo[i];\n",
    "    soma= soma+ mes;\n",
    "  }\n",
    "  return soma;\n",
    "}"
   ]
  },
  {
   "cell_type": "markdown",
   "metadata": {},
   "source": [
    "Ainda não está convencido? Novamente, tente as seguintes expressões no console:"
   ]
  },
  {
   "cell_type": "code",
   "execution_count": 53,
   "metadata": {},
   "outputs": [
    {
     "data": {
      "text/plain": [
       "0"
      ]
     },
     "execution_count": 53,
     "metadata": {},
     "output_type": "execute_result"
    }
   ],
   "source": [
    "lucroTotal([])"
   ]
  },
  {
   "cell_type": "code",
   "execution_count": 54,
   "metadata": {},
   "outputs": [
    {
     "data": {
      "text/plain": [
       "100"
      ]
     },
     "execution_count": 54,
     "metadata": {},
     "output_type": "execute_result"
    }
   ],
   "source": [
    "lucroTotal([100])"
   ]
  },
  {
   "cell_type": "code",
   "execution_count": 55,
   "metadata": {},
   "outputs": [
    {
     "data": {
      "text/plain": [
       "102"
      ]
     },
     "execution_count": 55,
     "metadata": {},
     "output_type": "execute_result"
    }
   ],
   "source": [
    "lucroTotal([100, 2])"
   ]
  },
  {
   "cell_type": "code",
   "execution_count": 56,
   "metadata": {},
   "outputs": [
    {
     "data": {
      "text/plain": [
       "-8"
      ]
     },
     "execution_count": 56,
     "metadata": {},
     "output_type": "execute_result"
    }
   ],
   "source": [
    "lucroTotal([2, 10, -20])"
   ]
  },
  {
   "cell_type": "code",
   "execution_count": 57,
   "metadata": {},
   "outputs": [
    {
     "data": {
      "text/plain": [
       "12"
      ]
     },
     "execution_count": 57,
     "metadata": {},
     "output_type": "execute_result"
    }
   ],
   "source": [
    "lucroTotal([2, 10, -20, 0, 0, 10, 10])"
   ]
  },
  {
   "cell_type": "markdown",
   "metadata": {},
   "source": [
    "## Ciclos com arrays\n",
    "\n",
    "Nós convidamos você a assistir o seguinte vídeo de ciclos com matrizes.\n",
    "\n",
    "https://www.youtube.com/embed/lwSn5u_l2Dk"
   ]
  },
  {
   "cell_type": "markdown",
   "metadata": {},
   "source": [
    "## Contagens\n",
    "\n",
    "Ah, mas isso não acaba aqui\" - disse Ana \"Eu quero saber em quantos meses houve lucro, ou seja, o saldo foi maior que zero\".\n",
    "\n",
    "> Complete a função quantidadeDeMesesComLucro. Se você prestar atenção, notará que tem uma estrutura semelhante ao problema anterior \n",
    "\n",
    "Exemplo:"
   ]
  },
  {
   "cell_type": "code",
   "execution_count": 62,
   "metadata": {},
   "outputs": [],
   "source": [
    "function quantidadeDeMesesComLucro(umPeriodo) {\n",
    "  let quantidade= 0;\n",
    "  for (let i = 0; i < umPeriodo.length; i++) {\n",
    "    if(umPeriodo[i] > 0){\n",
    "        quantidade = quantidade + 1;\n",
    "    }\n",
    "  }\n",
    "  return quantidade;\n",
    "}"
   ]
  },
  {
   "cell_type": "code",
   "execution_count": 63,
   "metadata": {},
   "outputs": [
    {
     "data": {
      "text/plain": [
       "4"
      ]
     },
     "execution_count": 63,
     "metadata": {},
     "output_type": "execute_result"
    }
   ],
   "source": [
    "quantidadeDeMesesComLucro([2, 10, -20, 0, 0, 10, 10])"
   ]
  },
  {
   "cell_type": "markdown",
   "metadata": {},
   "source": [
    "## Mais contagens\n",
    "\n",
    "Ana, vendo que somos tão produtivos, nos perguntou algo mais: agora ela quer saber quantos meses de um período houve perda.\n",
    "\n",
    "Dizemos que há uma perda em um período em que o saldo é menor que zero.\n",
    "\n",
    "> Escreva a função quantidadeDeMesesComPerda. A estrutura da função é semelhante às que temos feito, vamos lá!"
   ]
  },
  {
   "cell_type": "code",
   "execution_count": 64,
   "metadata": {},
   "outputs": [],
   "source": [
    "function quantidadeDeMesesComPerda(array){\n",
    "    let quantidade = 0;\n",
    "    for(let i = 0; i < array.length; i++){\n",
    "        if(array[i] < 0){\n",
    "            quantidade = quantidade + 1;\n",
    "        }\n",
    "    }\n",
    "    return quantidade\n",
    "}"
   ]
  },
  {
   "cell_type": "code",
   "execution_count": 65,
   "metadata": {},
   "outputs": [
    {
     "data": {
      "text/plain": [
       "1"
      ]
     },
     "execution_count": 65,
     "metadata": {},
     "output_type": "execute_result"
    }
   ],
   "source": [
    "quantidadeDeMesesComPerda([2, 10, -20, 0, 0, 10, 10])"
   ]
  },
  {
   "cell_type": "markdown",
   "metadata": {},
   "source": [
    "## Filtrados\n",
    "\n",
    "Bem na hora! , Ana nos deixou com um problema mais interessante: quer saber o saldo dos meses com lucro.\n",
    "\n",
    "> Faça a função saldoDeMesesComLucro. Novamente tem uma estrutura similar com os problemas anteriores, porém não tão rápido! Esta função precisa retornar um array."
   ]
  },
  {
   "cell_type": "code",
   "execution_count": 72,
   "metadata": {},
   "outputs": [],
   "source": [
    "function saldoDeMesesComLucro(array){\n",
    "    var lucro = [];\n",
    "    for(let i = 0; i < array.length; i++){\n",
    "        if(array[i] > 0){\n",
    "            lucro.push(array[i])\n",
    "        }\n",
    "    }\n",
    "    return lucro;\n",
    "}"
   ]
  },
  {
   "cell_type": "code",
   "execution_count": 73,
   "metadata": {},
   "outputs": [],
   "source": [
    "var arrayTesteA = [1, 2, 3];\n",
    "var arrayTesteB = [4, 5, 6];\n",
    "var arrayTesteC = [2, 10, -20, 0, 0, 10, 10];"
   ]
  },
  {
   "cell_type": "code",
   "execution_count": 69,
   "metadata": {},
   "outputs": [
    {
     "data": {
      "text/plain": [
       "1"
      ]
     },
     "execution_count": 69,
     "metadata": {},
     "output_type": "execute_result"
    }
   ],
   "source": [
    "arrayTesteA[0]."
   ]
  },
  {
   "cell_type": "code",
   "execution_count": 70,
   "metadata": {},
   "outputs": [
    {
     "data": {
      "text/plain": [
       "[ 1, 2, 3, 4 ]"
      ]
     },
     "execution_count": 70,
     "metadata": {},
     "output_type": "execute_result"
    }
   ],
   "source": [
    "arrayTesteA.push(arrayTesteB[0])\n",
    "arrayTesteA"
   ]
  },
  {
   "cell_type": "code",
   "execution_count": 74,
   "metadata": {},
   "outputs": [
    {
     "data": {
      "text/plain": [
       "[ 2, 10, 10, 10 ]"
      ]
     },
     "execution_count": 74,
     "metadata": {},
     "output_type": "execute_result"
    }
   ],
   "source": [
    "saldoDeMesesComLucro(arrayTesteC)"
   ]
  },
  {
   "cell_type": "markdown",
   "metadata": {},
   "source": [
    "## Naipe de Truco\n",
    "\n",
    "Vamos terminar essa sessão com um desafio \n",
    "\n",
    "Queremos escrever uma função naipeDeTruco, que dado um naipe, devolva uma lista de strings, uma por cada carta desse naipe seguindo as cartas do truco\n",
    "\n",
    "Lembre-se! As cartas incluem todos os números, com exceção das cartas 8 e 9\n",
    "\n",
    "> escreva a função naipeDeTruco"
   ]
  },
  {
   "cell_type": "code",
   "execution_count": 75,
   "metadata": {},
   "outputs": [],
   "source": [
    "function naipeDeTruco(naipe){\n",
    "    var filling = [1, 2, 3, 4 ,5 ,6 ,7, 10, 11, 12];\n",
    "    var result = [];\n",
    "    for(var i = 0; i < filling.length; i++){\n",
    "        result.push(filling[i] + ' de ' + naipe);\n",
    "    }\n",
    "    return result\n",
    "}"
   ]
  },
  {
   "cell_type": "code",
   "execution_count": 76,
   "metadata": {},
   "outputs": [
    {
     "data": {
      "text/plain": [
       "[ '1 de espada',\n",
       "  '2 de espada',\n",
       "  '3 de espada',\n",
       "  '4 de espada',\n",
       "  '5 de espada',\n",
       "  '6 de espada',\n",
       "  '7 de espada',\n",
       "  '10 de espada',\n",
       "  '11 de espada',\n",
       "  '12 de espada' ]"
      ]
     },
     "execution_count": 76,
     "metadata": {},
     "output_type": "execute_result"
    }
   ],
   "source": [
    "naipeDeTruco('espada')"
   ]
  },
  {
   "cell_type": "code",
   "execution_count": null,
   "metadata": {},
   "outputs": [],
   "source": []
  }
 ],
 "metadata": {
  "kernelspec": {
   "display_name": "Javascript (Node.js)",
   "language": "javascript",
   "name": "javascript"
  },
  "language_info": {
   "file_extension": ".js",
   "mimetype": "application/javascript",
   "name": "javascript",
   "version": "10.13.0"
  }
 },
 "nbformat": 4,
 "nbformat_minor": 2
}
