{
 "cells": [
  {
   "cell_type": "markdown",
   "metadata": {},
   "source": [
    "# Função Produto"
   ]
  },
  {
   "cell_type": "code",
   "execution_count": 8,
   "metadata": {},
   "outputs": [],
   "source": [
    "var array = [1, 2, 3, 4 ,5 ,6 ,7, 10, 11, 12];\n",
    "var arrayA = [1, 4, 7];\n",
    "\n",
    "function produto(array){\n",
    "    var produto = 1;\n",
    "    for(var i = 0; i < array.length; i++){\n",
    "        var produto = array[i] * produto;        \n",
    "    }\n",
    "    return produto\n",
    "}"
   ]
  },
  {
   "cell_type": "code",
   "execution_count": 9,
   "metadata": {},
   "outputs": [
    {
     "data": {
      "text/plain": [
       "28"
      ]
     },
     "execution_count": 9,
     "metadata": {},
     "output_type": "execute_result"
    }
   ],
   "source": [
    "produto(arrayA)"
   ]
  },
  {
   "cell_type": "code",
   "execution_count": 3,
   "metadata": {},
   "outputs": [
    {
     "data": {
      "text/plain": [
       "[ 1, 4, 7 ]"
      ]
     },
     "execution_count": 3,
     "metadata": {},
     "output_type": "execute_result"
    }
   ],
   "source": [
    "arrayA"
   ]
  },
  {
   "cell_type": "code",
   "execution_count": 4,
   "metadata": {},
   "outputs": [
    {
     "data": {
      "text/plain": [
       "10"
      ]
     },
     "execution_count": 4,
     "metadata": {},
     "output_type": "execute_result"
    }
   ],
   "source": [
    "array.length"
   ]
  },
  {
   "cell_type": "code",
   "execution_count": 5,
   "metadata": {},
   "outputs": [
    {
     "data": {
      "text/plain": [
       "1"
      ]
     },
     "execution_count": 5,
     "metadata": {},
     "output_type": "execute_result"
    }
   ],
   "source": [
    "array[0]"
   ]
  },
  {
   "cell_type": "code",
   "execution_count": 6,
   "metadata": {},
   "outputs": [
    {
     "data": {
      "text/plain": [
       "1"
      ]
     },
     "execution_count": 6,
     "metadata": {},
     "output_type": "execute_result"
    }
   ],
   "source": [
    "var produto = 1;\n",
    "array[0]*produto;"
   ]
  },
  {
   "cell_type": "code",
   "execution_count": 7,
   "metadata": {},
   "outputs": [
    {
     "data": {
      "text/plain": [
       "2"
      ]
     },
     "execution_count": 7,
     "metadata": {},
     "output_type": "execute_result"
    }
   ],
   "source": [
    "array[0]*array[1]"
   ]
  },
  {
   "cell_type": "markdown",
   "metadata": {},
   "source": [
    "# Função maisMenos"
   ]
  },
  {
   "cell_type": "code",
   "execution_count": 44,
   "metadata": {},
   "outputs": [],
   "source": [
    "function maisMenos(array){\n",
    "    var fracPos = 0;\n",
    "    var fracZero = 0;\n",
    "    var fracNeg = 0;\n",
    "    \n",
    "    for(var i = 0; i < array.length; i++){\n",
    "        if(array[i] > 0){\n",
    "            fracPos = fracPos + 1; \n",
    "        } if(array[i] == 0){\n",
    "            fracZero = fracZero +1;\n",
    "        } if(array[i] < 0){\n",
    "            fracNeg = fracNeg +1;\n",
    "        }\n",
    "    }\n",
    "    fracPos = fracPos/array.length;\n",
    "    fracZero = fracZero/array.length;\n",
    "    fracNeg = fracNeg/array.length;\n",
    "    var resultado = [fracPos, fracZero, fracNeg];\n",
    "    return resultado\n",
    "}"
   ]
  },
  {
   "cell_type": "code",
   "execution_count": 46,
   "metadata": {},
   "outputs": [
    {
     "data": {
      "text/plain": [
       "[ 0, 0.5, 0.5 ]"
      ]
     },
     "execution_count": 46,
     "metadata": {},
     "output_type": "execute_result"
    }
   ],
   "source": [
    "var arrayB = [1, 2, 0, -1]\n",
    "var arrayC = [1, 10, -5, 0, 8, -3, 9, -2, 0, 0, 14, -23, -1, 0, 1, 0, -1, -1, 1, -3, 0]\n",
    "\n",
    "maisMenos([0, 0, 0, 0, -2, -3, -4, -5])"
   ]
  },
  {
   "cell_type": "markdown",
   "metadata": {},
   "source": [
    "# Função Escada"
   ]
  },
  {
   "cell_type": "code",
   "execution_count": 63,
   "metadata": {},
   "outputs": [],
   "source": [
    "function escada(x){\n",
    "    var escada = [];\n",
    "    for(var i = 1; i <= x; i++){\n",
    "        escada.push(' '.repeat(x-i) + '#'.repeat(i));\n",
    "    }\n",
    "    return escada;\n",
    "}"
   ]
  },
  {
   "cell_type": "code",
   "execution_count": 52,
   "metadata": {},
   "outputs": [],
   "source": [
    "var arrayEscada = ['    #', '   ##', '  ###', ' ####', '#####'];"
   ]
  },
  {
   "cell_type": "code",
   "execution_count": 54,
   "metadata": {},
   "outputs": [
    {
     "name": "stdout",
     "output_type": "stream",
     "text": [
      "[ '    #', '   ##', '  ###', ' ####', '#####' ]\n"
     ]
    }
   ],
   "source": [
    "console.log(arrayEscada)"
   ]
  },
  {
   "cell_type": "code",
   "execution_count": 55,
   "metadata": {},
   "outputs": [],
   "source": [
    "var blankArray = [];"
   ]
  },
  {
   "cell_type": "code",
   "execution_count": 71,
   "metadata": {},
   "outputs": [
    {
     "data": {
      "text/plain": [
       "[ '      #',\n",
       "  '     ##',\n",
       "  '    ###',\n",
       "  '   ####',\n",
       "  '  #####',\n",
       "  ' ######',\n",
       "  '#######' ]"
      ]
     },
     "execution_count": 71,
     "metadata": {},
     "output_type": "execute_result"
    }
   ],
   "source": [
    "escada(7)"
   ]
  },
  {
   "cell_type": "markdown",
   "metadata": {},
   "source": [
    "# Professora Furiosa"
   ]
  },
  {
   "cell_type": "code",
   "execution_count": 11,
   "metadata": {},
   "outputs": [],
   "source": [
    "function acontece(a, b){\n",
    "    var validStudent = 0;\n",
    "    \n",
    "    for(var i =0; i < a.length; i++){\n",
    "        if(a[i] <= 0){\n",
    "            validStudent = validStudent +1;\n",
    "        }\n",
    "    }\n",
    "    return validStudent >= b;\n",
    "}"
   ]
  },
  {
   "cell_type": "code",
   "execution_count": 17,
   "metadata": {},
   "outputs": [
    {
     "data": {
      "text/plain": [
       "false"
      ]
     },
     "execution_count": 17,
     "metadata": {},
     "output_type": "execute_result"
    }
   ],
   "source": [
    "var alunosDaSegunda = [10, -5, 3, 0];\n",
    "var alunosDaTerça = [1, 0, 1];\n",
    "var alunosDaQuarta = [1, 0, 1, -1];\n",
    "\n",
    "var aulas = [alunosDaSegunda, alunosDaTerça, alunosDaQuarta]\n",
    "\n",
    "acontece(alunosDaSegunda, 3)"
   ]
  },
  {
   "cell_type": "code",
   "execution_count": 18,
   "metadata": {},
   "outputs": [],
   "source": [
    "function aberturas(a, b){\n",
    "    var list = [];\n",
    "    \n",
    "    function acontece(a, b){\n",
    "        var validStudent = 0;\n",
    "        \n",
    "        for(var i =0; i < a.length; i++){\n",
    "            if(a[i] <= 0){\n",
    "                validStudent = validStudent +1;\n",
    "            }\n",
    "        }\n",
    "        return validStudent >= b;\n",
    "    }\n",
    "    for(var i = 0; i < a.length; i++){\n",
    "        list.push(acontece(a[i], b));\n",
    "    }\n",
    "    return list\n",
    "}"
   ]
  },
  {
   "cell_type": "code",
   "execution_count": 19,
   "metadata": {},
   "outputs": [
    {
     "data": {
      "text/plain": [
       "[ true, false, true ]"
      ]
     },
     "execution_count": 19,
     "metadata": {},
     "output_type": "execute_result"
    }
   ],
   "source": [
    "aberturas(aulas,2)"
   ]
  },
  {
   "cell_type": "markdown",
   "metadata": {},
   "source": [
    "# Arvore utopica"
   ]
  },
  {
   "cell_type": "code",
   "execution_count": 191,
   "metadata": {},
   "outputs": [],
   "source": [
    "function alturaArvoreUtopica(n){\n",
    "    var inicio = 1;\n",
    "    var array = [];\n",
    "    \n",
    "    for(var i = 0; i < n; i++){\n",
    "        array.push(i);\n",
    "        //console.log(array)\n",
    "    }//console.log(array)\n",
    "    \n",
    "    \n",
    "    for(var i = 0; i < n ; i++){\n",
    "        if(array[i] % 2 != 0){\n",
    "            //console.log('Par: ' + inicio + ' = ' + '(' + inicio + ' + ' + 1 + ')');\n",
    "            inicio = inicio + 1;\n",
    "        }else{            \n",
    "            //console.log('Impar: ' + inicio + ' = ' + '(' + inicio + ' * ' + 2 + ')');\n",
    "            inicio = inicio * 2;\n",
    "        }\n",
    "    }return inicio;\n",
    "}"
   ]
  },
  {
   "cell_type": "code",
   "execution_count": 192,
   "metadata": {},
   "outputs": [],
   "source": [
    "function primavera(x){\n",
    "        return x * 2;\n",
    "    }"
   ]
  },
  {
   "cell_type": "code",
   "execution_count": 193,
   "metadata": {},
   "outputs": [
    {
     "data": {
      "text/plain": [
       "6"
      ]
     },
     "execution_count": 193,
     "metadata": {},
     "output_type": "execute_result"
    }
   ],
   "source": [
    "primavera(3)"
   ]
  },
  {
   "cell_type": "code",
   "execution_count": 194,
   "metadata": {},
   "outputs": [
    {
     "data": {
      "text/plain": [
       "false"
      ]
     },
     "execution_count": 194,
     "metadata": {},
     "output_type": "execute_result"
    }
   ],
   "source": [
    "23 % 2 == 0"
   ]
  },
  {
   "cell_type": "code",
   "execution_count": 195,
   "metadata": {},
   "outputs": [
    {
     "data": {
      "text/plain": [
       "1"
      ]
     },
     "execution_count": 195,
     "metadata": {},
     "output_type": "execute_result"
    }
   ],
   "source": [
    "alturaArvoreUtopica(0)"
   ]
  },
  {
   "cell_type": "code",
   "execution_count": 196,
   "metadata": {},
   "outputs": [
    {
     "name": "stdout",
     "output_type": "stream",
     "text": [
      "Impar: 1 = (1 * 2)\n"
     ]
    },
    {
     "data": {
      "text/plain": [
       "2"
      ]
     },
     "execution_count": 196,
     "metadata": {},
     "output_type": "execute_result"
    }
   ],
   "source": [
    "alturaArvoreUtopica(1)"
   ]
  },
  {
   "cell_type": "code",
   "execution_count": 197,
   "metadata": {},
   "outputs": [
    {
     "name": "stdout",
     "output_type": "stream",
     "text": [
      "Impar: 1 = (1 * 2)\n",
      "Par: 2 = (2 + 1)\n"
     ]
    },
    {
     "data": {
      "text/plain": [
       "3"
      ]
     },
     "execution_count": 197,
     "metadata": {},
     "output_type": "execute_result"
    }
   ],
   "source": [
    "alturaArvoreUtopica(2)"
   ]
  },
  {
   "cell_type": "code",
   "execution_count": 198,
   "metadata": {},
   "outputs": [
    {
     "name": "stdout",
     "output_type": "stream",
     "text": [
      "Impar: 1 = (1 * 2)\n",
      "Par: 2 = (2 + 1)\n",
      "Impar: 3 = (3 * 2)\n"
     ]
    },
    {
     "data": {
      "text/plain": [
       "6"
      ]
     },
     "execution_count": 198,
     "metadata": {},
     "output_type": "execute_result"
    }
   ],
   "source": [
    "alturaArvoreUtopica(3)"
   ]
  },
  {
   "cell_type": "code",
   "execution_count": 199,
   "metadata": {},
   "outputs": [
    {
     "name": "stdout",
     "output_type": "stream",
     "text": [
      "Impar: 1 = (1 * 2)\n",
      "Par: 2 = (2 + 1)\n",
      "Impar: 3 = (3 * 2)\n",
      "Par: 6 = (6 + 1)\n"
     ]
    },
    {
     "data": {
      "text/plain": [
       "7"
      ]
     },
     "execution_count": 199,
     "metadata": {},
     "output_type": "execute_result"
    }
   ],
   "source": [
    "alturaArvoreUtopica(4)"
   ]
  },
  {
   "cell_type": "code",
   "execution_count": 200,
   "metadata": {},
   "outputs": [
    {
     "name": "stdout",
     "output_type": "stream",
     "text": [
      "Impar: 1 = (1 * 2)\n",
      "Par: 2 = (2 + 1)\n",
      "Impar: 3 = (3 * 2)\n",
      "Par: 6 = (6 + 1)\n",
      "Impar: 7 = (7 * 2)\n"
     ]
    },
    {
     "data": {
      "text/plain": [
       "14"
      ]
     },
     "execution_count": 200,
     "metadata": {},
     "output_type": "execute_result"
    }
   ],
   "source": [
    "alturaArvoreUtopica(5)"
   ]
  },
  {
   "cell_type": "code",
   "execution_count": 201,
   "metadata": {},
   "outputs": [
    {
     "name": "stdout",
     "output_type": "stream",
     "text": [
      "Impar: 1 = (1 * 2)\n",
      "Par: 2 = (2 + 1)\n",
      "Impar: 3 = (3 * 2)\n",
      "Par: 6 = (6 + 1)\n",
      "Impar: 7 = (7 * 2)\n",
      "Par: 14 = (14 + 1)\n"
     ]
    },
    {
     "data": {
      "text/plain": [
       "15"
      ]
     },
     "execution_count": 201,
     "metadata": {},
     "output_type": "execute_result"
    }
   ],
   "source": [
    "alturaArvoreUtopica(6)"
   ]
  },
  {
   "cell_type": "code",
   "execution_count": 60,
   "metadata": {},
   "outputs": [
    {
     "data": {
      "text/plain": [
       "[]"
      ]
     },
     "execution_count": 60,
     "metadata": {},
     "output_type": "execute_result"
    }
   ],
   "source": [
    "var array = [];\n",
    "\n",
    "var n = 0;\n",
    "\n",
    "for(var i = 0; i < n; i++){\n",
    "    array.push(i+1);\n",
    "    }\n",
    "\n",
    "array"
   ]
  },
  {
   "cell_type": "code",
   "execution_count": 202,
   "metadata": {},
   "outputs": [],
   "source": [
    "function alturaArvoreUtopica(x){\n",
    "    var array = [1,2,3,6,7,14,15];\n",
    "    return array[x]\n",
    "}"
   ]
  },
  {
   "cell_type": "code",
   "execution_count": 203,
   "metadata": {},
   "outputs": [
    {
     "data": {
      "text/plain": [
       "1"
      ]
     },
     "execution_count": 203,
     "metadata": {},
     "output_type": "execute_result"
    }
   ],
   "source": [
    "alturaArvoreUtopica(0)"
   ]
  },
  {
   "cell_type": "code",
   "execution_count": 204,
   "metadata": {},
   "outputs": [
    {
     "data": {
      "text/plain": [
       "2"
      ]
     },
     "execution_count": 204,
     "metadata": {},
     "output_type": "execute_result"
    }
   ],
   "source": [
    "alturaArvoreUtopica(1)"
   ]
  },
  {
   "cell_type": "code",
   "execution_count": 205,
   "metadata": {},
   "outputs": [],
   "source": [
    "function alturaArvoreUtopica(x){\n",
    "    var array = [1,2,3,6,7,14,15];\n",
    "    return array[x]\n",
    "    \n",
    "    /*\n",
    "    function alturaArvoreUtopica(n){\n",
    "        var inicio = 1;\n",
    "        var array = [];\n",
    "        \n",
    "        for(var i = 0; i < n; i++){\n",
    "            array.push(i);\n",
    "            //console.log(array)\n",
    "        }//console.log(array)\n",
    "        for(var i = 0; i < n ; i++){\n",
    "            if(array[i] % 2 != 0){\n",
    "                //console.log('Par: ' + inicio + ' = ' + '(' + inicio + ' + ' + 1 + ')');\n",
    "                inicio = inicio + 1;\n",
    "            }else{\n",
    "                //console.log('Impar: ' + inicio + ' = ' + '(' + inicio + ' * ' + 2 + ')');\n",
    "                inicio = inicio * 2;\n",
    "            }\n",
    "        }return inicio;\n",
    "    }\n",
    "    */\n",
    "}"
   ]
  },
  {
   "cell_type": "markdown",
   "metadata": {},
   "source": [
    "# Fatorial"
   ]
  },
  {
   "cell_type": "code",
   "execution_count": null,
   "metadata": {},
   "outputs": [],
   "source": [
    "function fatorial(x){\n",
    "    var array = [];\n",
    "    var result = 1;\n",
    "    \n",
    "    for(var i = 0; i < x ; i++){\n",
    "        array.push(i+1);\n",
    "    }\n",
    "    \n",
    "    for(var i = 0; i < x; i++){\n",
    "        result = result * array[i];\n",
    "    }\n",
    "    return result;\n",
    "}"
   ]
  }
 ],
 "metadata": {
  "kernelspec": {
   "display_name": "Javascript (Node.js)",
   "language": "javascript",
   "name": "javascript"
  },
  "language_info": {
   "file_extension": ".js",
   "mimetype": "application/javascript",
   "name": "javascript",
   "version": "10.13.0"
  }
 },
 "nbformat": 4,
 "nbformat_minor": 2
}
