{
 "cells": [
  {
   "cell_type": "markdown",
   "metadata": {},
   "source": [
    "# Exercício Aula 09-2"
   ]
  },
  {
   "cell_type": "code",
   "execution_count": 2,
   "metadata": {},
   "outputs": [],
   "source": [
    "%matplotlib inline\n",
    "import pandas as pd\n",
    "import matplotlib.pyplot as plt\n",
    "plt.rc('figure', figsize = (14,6))\n",
    "dados = pd.read_csv('dados/aluguel_amostra.csv', sep = ';')"
   ]
  },
  {
   "cell_type": "code",
   "execution_count": 11,
   "metadata": {},
   "outputs": [
    {
     "name": "stdout",
     "output_type": "stream",
     "text": [
      "Q1 ->  21.25\n",
      "Q3 ->  42.31\n",
      "IIQ ->  21.060000000000002\n",
      "Lim Inf ->  -10.340000000000003\n",
      "Lim Sup ->  73.9\n"
     ]
    }
   ],
   "source": [
    "valor = dados['Valor m2']\n",
    "Q1 = valor.quantile(.25)\n",
    "Q3 = valor.quantile(.75)\n",
    "IIQ = Q3 - Q1\n",
    "limiteInferior = Q1 - 1.5 * IIQ\n",
    "limiteSuperior = Q3 + 1.5 * IIQ\n",
    "print('Q1 -> ', Q1)\n",
    "print('Q3 -> ', Q3)\n",
    "print('IIQ -> ', IIQ)\n",
    "print('Lim Inf -> ', limiteInferior)\n",
    "print('Lim Sup -> ', limiteSuperior)"
   ]
  },
  {
   "cell_type": "code",
   "execution_count": null,
   "metadata": {},
   "outputs": [],
   "source": []
  }
 ],
 "metadata": {
  "kernelspec": {
   "display_name": "Python 3",
   "language": "python",
   "name": "python3"
  },
  "language_info": {
   "codemirror_mode": {
    "name": "ipython",
    "version": 3
   },
   "file_extension": ".py",
   "mimetype": "text/x-python",
   "name": "python",
   "nbconvert_exporter": "python",
   "pygments_lexer": "ipython3",
   "version": "3.6.9"
  }
 },
 "nbformat": 4,
 "nbformat_minor": 2
}
