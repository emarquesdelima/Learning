{
 "cells": [
  {
   "cell_type": "markdown",
   "metadata": {},
   "source": [
    "# O problema do paradigma procedural"
   ]
  },
  {
   "cell_type": "markdown",
   "metadata": {},
   "source": [
    "O paradigma procedural é o que vimos até o momento. Nele temos algumas vulnerabilidade e dificuldades de manter grandes códigos organizados. A orientação para objetos vem para resolver esse problema. A orientação a objetos define objetos e seus comportamentos, parâmetros necessário para existirem e também guardam outras informações sobre o objeto que são facilmente acessadas. Abaixo segue um exemplo de código procedural, nada nos impede de criar uma conta sem usar a função <code>cria_conta</code>, isso é uma fragilidade, pois podemos obter contas inconsistentes e comportamentos despadronizados"
   ]
  },
  {
   "cell_type": "code",
   "execution_count": 2,
   "metadata": {},
   "outputs": [],
   "source": [
    "def cria_conta(numero, titular, saldo, limite):\n",
    "    conta = {\"numero\": numero, \"titular\": titular, \"saldo\": saldo, \"limite\": limite}\n",
    "    return conta\n",
    "\n",
    "def deposita(conta, valor):\n",
    "    conta[\"saldo\"] += valor\n",
    "\n",
    "def saca(conta, valor):\n",
    "    conta[\"saldo\"] -= valor\n",
    "\n",
    "def extrato(conta):\n",
    "    print(\"Saldo {}\".format(conta[\"saldo\"]))"
   ]
  },
  {
   "cell_type": "code",
   "execution_count": 3,
   "metadata": {},
   "outputs": [],
   "source": [
    "conta = cria_conta(123, \"Nico\", 55.0, 1000.0)"
   ]
  },
  {
   "cell_type": "code",
   "execution_count": 4,
   "metadata": {},
   "outputs": [],
   "source": [
    "deposita(conta, 300.0)"
   ]
  },
  {
   "cell_type": "code",
   "execution_count": 5,
   "metadata": {},
   "outputs": [
    {
     "name": "stdout",
     "output_type": "stream",
     "text": [
      "Saldo 355.0\n"
     ]
    }
   ],
   "source": [
    "extrato(conta)"
   ]
  },
  {
   "cell_type": "code",
   "execution_count": null,
   "metadata": {},
   "outputs": [],
   "source": []
  }
 ],
 "metadata": {
  "kernelspec": {
   "display_name": "Python 3",
   "language": "python",
   "name": "python3"
  },
  "language_info": {
   "codemirror_mode": {
    "name": "ipython",
    "version": 3
   },
   "file_extension": ".py",
   "mimetype": "text/x-python",
   "name": "python",
   "nbconvert_exporter": "python",
   "pygments_lexer": "ipython3",
   "version": "3.7.3"
  }
 },
 "nbformat": 4,
 "nbformat_minor": 2
}
