{
 "cells": [
  {
   "cell_type": "markdown",
   "metadata": {},
   "source": [
    "# Implementando métodos"
   ]
  },
  {
   "cell_type": "markdown",
   "metadata": {},
   "source": [
    "## Código"
   ]
  },
  {
   "cell_type": "code",
   "execution_count": 1,
   "metadata": {},
   "outputs": [],
   "source": [
    "#%%writefile conta.py\n",
    "\n",
    "class Conta:\n",
    "    def __init__(self, numero, titular, saldo, limite):\n",
    "        print('Construindo objeto... {}'.format(self))\n",
    "        self.numero = numero\n",
    "        self.titular = titular\n",
    "        self.saldo = saldo\n",
    "        self.limite = limite"
   ]
  },
  {
   "cell_type": "markdown",
   "metadata": {},
   "source": [
    "Até o momento nós definimos os atributos do objeto conta, que é basicamente o que o nosso objeto tem. Agora nós vamos criar os métodos do nosso objeto, que é o que o nosso objeto pode fazer. Vamos definir esses métodos agora"
   ]
  },
  {
   "cell_type": "code",
   "execution_count": 2,
   "metadata": {},
   "outputs": [],
   "source": [
    "#%%writefile conta.py\n",
    "\n",
    "class Conta:\n",
    "    def __init__(self, numero, titular, saldo, limite):\n",
    "        print('Construindo objeto... {}'.format(self))\n",
    "        self.numero = numero\n",
    "        self.titular = titular\n",
    "        self.saldo = saldo\n",
    "        self.limite = limite\n",
    "        \n",
    "    #Abaixo iremos definir os métodos da nossa conta\n",
    "    def extrato(self):\n",
    "        print(f'Saldo de {self.saldo} do titular {self.titular}')"
   ]
  },
  {
   "cell_type": "markdown",
   "metadata": {},
   "source": [
    "Agora vamos testar o nosso primeiro método. Para acessarmos algo de dentro do nosso temos que utilizar uma sintaxe específica. Para isso temos que chamar a variável de referência do objeto e com um ponto '.' chamar o método do objeto.\n",
    "No nosso exemplo abaixo ficaria assim: <code>conta.extrato()</code>"
   ]
  },
  {
   "cell_type": "code",
   "execution_count": 3,
   "metadata": {},
   "outputs": [],
   "source": [
    "from conta import Conta #importando o objeto"
   ]
  },
  {
   "cell_type": "code",
   "execution_count": 4,
   "metadata": {},
   "outputs": [],
   "source": [
    "#Vamos criar algumas contas\n",
    "conta1 = Conta(123, 'Nico', 55.5, 1000.0)\n",
    "conta2 = Conta(321, 'Marco', 100.0, 1000.0)"
   ]
  },
  {
   "cell_type": "code",
   "execution_count": 5,
   "metadata": {},
   "outputs": [],
   "source": [
    "#Agora vamos acessar o saldo das contas com o método que criamos\n",
    "conta1.extrato()"
   ]
  },
  {
   "cell_type": "code",
   "execution_count": 6,
   "metadata": {},
   "outputs": [],
   "source": [
    "conta2.extrato()"
   ]
  },
  {
   "cell_type": "markdown",
   "metadata": {},
   "source": [
    "Agora vamos criar mais alguns métodos no nosso objeto"
   ]
  },
  {
   "cell_type": "code",
   "execution_count": 7,
   "metadata": {},
   "outputs": [],
   "source": [
    "%%writefile conta.py\n",
    "\n",
    "class Conta:\n",
    "    def __init__(self, numero, titular, saldo, limite):\n",
    "        print('Construindo objeto... {}'.format(self))\n",
    "        self.numero = numero\n",
    "        self.titular = titular\n",
    "        self.saldo = saldo\n",
    "        self.limite = limite\n",
    "        \n",
    "    def extrato(self):\n",
    "        print(f'Saldo de {self.saldo} do titular {self.titular}')\n",
    "        \n",
    "    #Método que deposita valores na conta\n",
    "    def deposita(self, valor): #Aqui temos de adicionar mais um parâmtero, já que ele vai somar um valor em um dos atributos\n",
    "        self.saldo += valor\n",
    "    \n",
    "    #Método que saca valores da conta\n",
    "    def saca(self, valor):\n",
    "        self.saldo -= valor\n",
    "        "
   ]
  },
  {
   "cell_type": "markdown",
   "metadata": {},
   "source": [
    "Novamente vamos testar os novos métodos do nosso objeto"
   ]
  },
  {
   "cell_type": "code",
   "execution_count": 8,
   "metadata": {},
   "outputs": [],
   "source": [
    "from conta import Conta #importando o objeto\n",
    "#Vamos criar algumas contas\n",
    "conta1 = Conta(123, 'Nico', 55.5, 1000.0)\n",
    "conta2 = Conta(321, 'Marco', 100.0, 1000.0)"
   ]
  },
  {
   "cell_type": "code",
   "execution_count": 9,
   "metadata": {},
   "outputs": [],
   "source": [
    "conta1.extrato()\n",
    "conta1.deposita(15.0)\n",
    "conta1.extrato()\n",
    "conta1.saca(10.0)\n",
    "conta1.extrato()"
   ]
  },
  {
   "cell_type": "markdown",
   "metadata": {},
   "source": [
    "Agora nós nos podemos alterar os atributos do nosso objeto por alguns métodos"
   ]
  },
  {
   "cell_type": "markdown",
   "metadata": {},
   "source": [
    "No nosso exemplo nós temos dois objetos referenciados por duas variáveis <code>conta1</code> e <code>conta2</code>. Caso nós mudemos a referência dessas variáveis os objetos a que elas se referenciavam antes irão ficar inacessíveis, de forma que não teriam mais utilidade nenhuma e estariam consumindo espaço na memória. Visto isso o **Python** possui um mecanismo chamado *garbage colector* que automaticamente limpa esses objetos sem referência da memória.\n",
    "\n",
    "Uma das formas que podemos mudar a referência de uma variável é criando uma referência nula, utilizando a palavra <code>None</code>."
   ]
  },
  {
   "cell_type": "code",
   "execution_count": 10,
   "metadata": {},
   "outputs": [
    {
     "data": {
      "text/plain": [
       "<conta.Conta at 0x298d55fd5c0>"
      ]
     },
     "execution_count": 10,
     "metadata": {},
     "output_type": "execute_result"
    }
   ],
   "source": [
    "conta2"
   ]
  },
  {
   "cell_type": "code",
   "execution_count": 11,
   "metadata": {},
   "outputs": [
    {
     "data": {
      "text/plain": [
       "100.0"
      ]
     },
     "execution_count": 11,
     "metadata": {},
     "output_type": "execute_result"
    }
   ],
   "source": [
    "conta2.saldo"
   ]
  },
  {
   "cell_type": "code",
   "execution_count": 12,
   "metadata": {},
   "outputs": [],
   "source": [
    "conta2 = None"
   ]
  },
  {
   "cell_type": "code",
   "execution_count": 13,
   "metadata": {},
   "outputs": [],
   "source": [
    "conta2"
   ]
  },
  {
   "cell_type": "code",
   "execution_count": 14,
   "metadata": {},
   "outputs": [
    {
     "ename": "AttributeError",
     "evalue": "'NoneType' object has no attribute 'saldo'",
     "output_type": "error",
     "traceback": [
      "\u001b[1;31m---------------------------------------------------------------------------\u001b[0m",
      "\u001b[1;31mAttributeError\u001b[0m                            Traceback (most recent call last)",
      "\u001b[1;32m<ipython-input-14-d2fcda1552ee>\u001b[0m in \u001b[0;36m<module>\u001b[1;34m\u001b[0m\n\u001b[1;32m----> 1\u001b[1;33m \u001b[0mconta2\u001b[0m\u001b[1;33m.\u001b[0m\u001b[0msaldo\u001b[0m\u001b[1;33m\u001b[0m\u001b[1;33m\u001b[0m\u001b[0m\n\u001b[0m",
      "\u001b[1;31mAttributeError\u001b[0m: 'NoneType' object has no attribute 'saldo'"
     ]
    }
   ],
   "source": [
    "conta2.saldo"
   ]
  },
  {
   "cell_type": "markdown",
   "metadata": {},
   "source": [
    "Lançamos o seguinte desafio: para ajudar na formatação de datas você deve criar uma nova classe auxiliar. Essa classe deve representar uma Data (sem hora) que sabe imprimir uma data formatada. Ela deve funcionar dessa forma:\n",
    "\n",
    "<pre class=\"prettyprint\"><code><span class=\"kwd\">from</span><span class=\"pln\"> datas </span><span class=\"kwd\">import</span><span class=\"pln\"> </span><span class=\"typ\">Data</span><span class=\"pln\">\n",
    "d </span><span class=\"pun\">=</span><span class=\"pln\"> </span><span class=\"typ\">Data</span><span class=\"pun\">(</span><span class=\"lit\">21</span><span class=\"pun\">,</span><span class=\"lit\">11</span><span class=\"pun\">,</span><span class=\"lit\">2007</span><span class=\"pun\">)</span><span class=\"pln\">\n",
    "d</span><span class=\"pun\">.</span><span class=\"pln\">formatada</span><span class=\"pun\">()</span></code></pre>\n",
    "\n",
    "Imprime:\n",
    "\n",
    "<pre class=\"prettyprint\"><code><span class=\"lit\">21</span><span class=\"pun\">/</span><span class=\"lit\">11</span><span class=\"pun\">/</span><span class=\"lit\">2007</span></code></pre>\n",
    "\n",
    "Crie e implemente essa classe dentro de uma arquivo datas.py. Mãos à obra!"
   ]
  },
  {
   "cell_type": "code",
   "execution_count": 15,
   "metadata": {},
   "outputs": [
    {
     "name": "stdout",
     "output_type": "stream",
     "text": [
      "Overwriting datas.py\n"
     ]
    }
   ],
   "source": [
    "%%writefile datas.py\n",
    "\n",
    "class Data:\n",
    "    def __init__(self, dia, mes, ano):\n",
    "        self.dia = dia\n",
    "        self.mes = mes\n",
    "        self.ano = ano\n",
    "            \n",
    "    def formatada(self):\n",
    "        print(f'{self.dia}/{self.mes}/{self.ano}')"
   ]
  },
  {
   "cell_type": "code",
   "execution_count": 16,
   "metadata": {},
   "outputs": [
    {
     "name": "stdout",
     "output_type": "stream",
     "text": [
      "21/11/2007\n"
     ]
    }
   ],
   "source": [
    "from datas import Data\n",
    "d = Data(21,11,2007)\n",
    "d.formatada()"
   ]
  },
  {
   "cell_type": "code",
   "execution_count": null,
   "metadata": {},
   "outputs": [],
   "source": []
  }
 ],
 "metadata": {
  "kernelspec": {
   "display_name": "Python 3",
   "language": "python",
   "name": "python3"
  },
  "language_info": {
   "codemirror_mode": {
    "name": "ipython",
    "version": 3
   },
   "file_extension": ".py",
   "mimetype": "text/x-python",
   "name": "python",
   "nbconvert_exporter": "python",
   "pygments_lexer": "ipython3",
   "version": "3.7.3"
  }
 },
 "nbformat": 4,
 "nbformat_minor": 2
}
