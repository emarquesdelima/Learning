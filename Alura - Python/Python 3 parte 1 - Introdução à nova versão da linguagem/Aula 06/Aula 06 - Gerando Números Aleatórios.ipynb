{
 "cells": [
  {
   "cell_type": "markdown",
   "metadata": {},
   "source": [
    "# Gerando Números aleatórios"
   ]
  },
  {
   "cell_type": "markdown",
   "metadata": {},
   "source": [
    "## Código"
   ]
  },
  {
   "cell_type": "code",
   "execution_count": 1,
   "metadata": {},
   "outputs": [
    {
     "name": "stdout",
     "output_type": "stream",
     "text": [
      "*********************************\n",
      "Bem vindo ao jogo de Adivinhação!\n",
      "*********************************\n",
      "Tentativa: 0 de 3\n",
      "Digite um número entre 1 e 100: 23\n",
      "Você digitou:  23\n",
      "Você errou! O chute foi menor que o número secreto!\n",
      "Fim do jogo\n",
      "Tentativa: 1 de 3\n",
      "Digite um número entre 1 e 100: 1\n",
      "Você digitou:  1\n",
      "Você errou! O chute foi menor que o número secreto!\n",
      "Fim do jogo\n",
      "Tentativa: 2 de 3\n",
      "Digite um número entre 1 e 100: 3\n",
      "Você digitou:  3\n",
      "Você errou! O chute foi menor que o número secreto!\n",
      "Fim do jogo\n"
     ]
    }
   ],
   "source": [
    "print(\"*********************************\")\n",
    "print(\"Bem vindo ao jogo de Adivinhação!\")\n",
    "print(\"*********************************\")\n",
    "\n",
    "numero_secreto = 42\n",
    "total_de_tentativas = 3 \n",
    "rodada = 1\n",
    "\n",
    "for rodada in range(total_de_tentativas):\n",
    "    print('Tentativa: {} de {}'.format(rodada, total_de_tentativas))\n",
    "    chute_str = input(\"Digite um número entre 1 e 100: \")\n",
    "    print(\"Você digitou: \", chute_str)\n",
    "    chute = int(chute_str)\n",
    "\n",
    "    if(chute < 1 or chute > 100):\n",
    "        print('Digite um número entre 1 e 100')\n",
    "        continue\n",
    "\n",
    "    acertou = numero_secreto == chute\n",
    "    maior = chute > numero_secreto\n",
    "    menor = chute < numero_secreto\n",
    "\n",
    "    if (acertou):\n",
    "        print(\"Você acertou!\")\n",
    "        break\n",
    "    else:\n",
    "        if (maior):\n",
    "            print(\"Você errou! O chute foi maior que o número secreto!\")\n",
    "        elif (menor):\n",
    "            print(\"Você errou! O chute foi menor que o número secreto!\")\n",
    "\n",
    "    print(\"Fim do jogo\")"
   ]
  },
  {
   "cell_type": "markdown",
   "metadata": {},
   "source": [
    "## Gerando Número Aleatório"
   ]
  },
  {
   "cell_type": "markdown",
   "metadata": {},
   "source": [
    "O número secreto ele está fixo, para isso temos de fazer com que o código gere esse número aleatoriamente\n",
    "\n",
    "O Phyton possui algumas funções que já estão disponíveis automaticamente, são as funções built in. No caso a função que gera esses números randomicos não é uma função built in, por isso teremos de importar o módulo:"
   ]
  },
  {
   "cell_type": "code",
   "execution_count": 2,
   "metadata": {},
   "outputs": [],
   "source": [
    "import random"
   ]
  },
  {
   "cell_type": "code",
   "execution_count": 3,
   "metadata": {},
   "outputs": [
    {
     "data": {
      "text/plain": [
       "0.9917435510500284"
      ]
     },
     "execution_count": 3,
     "metadata": {},
     "output_type": "execute_result"
    }
   ],
   "source": [
    "random.random()"
   ]
  },
  {
   "cell_type": "code",
   "execution_count": 4,
   "metadata": {},
   "outputs": [
    {
     "data": {
      "text/plain": [
       "0.014781490866234814"
      ]
     },
     "execution_count": 4,
     "metadata": {},
     "output_type": "execute_result"
    }
   ],
   "source": [
    "random.random()"
   ]
  },
  {
   "cell_type": "code",
   "execution_count": 5,
   "metadata": {},
   "outputs": [
    {
     "data": {
      "text/plain": [
       "0.36072989241913245"
      ]
     },
     "execution_count": 5,
     "metadata": {},
     "output_type": "execute_result"
    }
   ],
   "source": [
    "random.random()"
   ]
  },
  {
   "cell_type": "markdown",
   "metadata": {},
   "source": [
    "Podemos ver que a função <code>random()</code> devolve um número decimal de 0 a 1, como pode ser visto na documentação da função também. Para isso teremos que descobrir uma maneira de fazer essa função nos retornar um número inteiro de 1 a 100 que é o que estamos usando no nosso jogo"
   ]
  },
  {
   "cell_type": "code",
   "execution_count": 9,
   "metadata": {},
   "outputs": [
    {
     "data": {
      "text/plain": [
       "59.95523249212907"
      ]
     },
     "execution_count": 9,
     "metadata": {},
     "output_type": "execute_result"
    }
   ],
   "source": [
    "numero_random = random.random() * 100\n",
    "numero_random"
   ]
  },
  {
   "cell_type": "markdown",
   "metadata": {},
   "source": [
    "Já temos números entre 1 e 100, porém esse número ainda é decimal, podemos utilizar a função int que vimos anteriormente para transformar esse número em um inteiro"
   ]
  },
  {
   "cell_type": "code",
   "execution_count": 10,
   "metadata": {},
   "outputs": [
    {
     "data": {
      "text/plain": [
       "59"
      ]
     },
     "execution_count": 10,
     "metadata": {},
     "output_type": "execute_result"
    }
   ],
   "source": [
    "int(numero_random)"
   ]
  },
  {
   "cell_type": "markdown",
   "metadata": {},
   "source": [
    "Existe uma função também que arredonda os números, que é a função <code>round()</code> que também é uma função built in. Dessa forma também podemos gerar o nosso número aleatório da seguinte maneira e ai aplicar esse novo conhecimento no nosso jogo"
   ]
  },
  {
   "cell_type": "code",
   "execution_count": 11,
   "metadata": {},
   "outputs": [
    {
     "data": {
      "text/plain": [
       "60"
      ]
     },
     "execution_count": 11,
     "metadata": {},
     "output_type": "execute_result"
    }
   ],
   "source": [
    "round(numero_random)"
   ]
  },
  {
   "cell_type": "code",
   "execution_count": 12,
   "metadata": {},
   "outputs": [
    {
     "name": "stdout",
     "output_type": "stream",
     "text": [
      "*********************************\n",
      "Bem vindo ao jogo de Adivinhação!\n",
      "*********************************\n",
      "Tentativa: 0 de 3\n",
      "Digite um número entre 1 e 100: 50\n",
      "Você digitou:  50\n",
      "Você errou! O chute foi menor que o número secreto!\n",
      "Fim do jogo\n",
      "Tentativa: 1 de 3\n",
      "Digite um número entre 1 e 100: 60\n",
      "Você digitou:  60\n",
      "Você errou! O chute foi menor que o número secreto!\n",
      "Fim do jogo\n",
      "Tentativa: 2 de 3\n",
      "Digite um número entre 1 e 100: 80\n",
      "Você digitou:  80\n",
      "Você errou! O chute foi maior que o número secreto!\n",
      "Fim do jogo\n"
     ]
    }
   ],
   "source": [
    "import random\n",
    "\n",
    "print(\"*********************************\")\n",
    "print(\"Bem vindo ao jogo de Adivinhação!\")\n",
    "print(\"*********************************\")\n",
    "\n",
    "numero_secreto = round(random.random() * 100)\n",
    "total_de_tentativas = 3 \n",
    "rodada = 1\n",
    "\n",
    "for rodada in range(total_de_tentativas):\n",
    "    print('Tentativa: {} de {}'.format(rodada, total_de_tentativas))\n",
    "    chute_str = input(\"Digite um número entre 1 e 100: \")\n",
    "    print(\"Você digitou: \", chute_str)\n",
    "    chute = int(chute_str)\n",
    "\n",
    "    if(chute < 1 or chute > 100):\n",
    "        print('Digite um número entre 1 e 100')\n",
    "        continue\n",
    "\n",
    "    acertou = numero_secreto == chute\n",
    "    maior = chute > numero_secreto\n",
    "    menor = chute < numero_secreto\n",
    "\n",
    "    if (acertou):\n",
    "        print(\"Você acertou!\")\n",
    "        break\n",
    "    else:\n",
    "        if (maior):\n",
    "            print(\"Você errou! O chute foi maior que o número secreto!\")\n",
    "        elif (menor):\n",
    "            print(\"Você errou! O chute foi menor que o número secreto!\")\n",
    "\n",
    "    print(\"Fim do jogo\")"
   ]
  },
  {
   "cell_type": "markdown",
   "metadata": {},
   "source": [
    "## Definindo um intervalo para a geração dos números aleatórios"
   ]
  },
  {
   "cell_type": "markdown",
   "metadata": {},
   "source": [
    "Olhando a biblioteca do <code>random()</code> podemos ver que existem outras funções que permitem a criação de números aleatórios inteiros, para isso podemos utilizar a função <code>random.randrange()</code> que recebe 2 parâmetros, sendo o primeiro o menor número e o segundo o limite de criação de números, excluindo esse valor como podemos ver abaixo"
   ]
  },
  {
   "cell_type": "code",
   "execution_count": 13,
   "metadata": {},
   "outputs": [
    {
     "data": {
      "text/plain": [
       "6"
      ]
     },
     "execution_count": 13,
     "metadata": {},
     "output_type": "execute_result"
    }
   ],
   "source": [
    "random.randrange(1,10)"
   ]
  },
  {
   "cell_type": "code",
   "execution_count": 14,
   "metadata": {},
   "outputs": [
    {
     "data": {
      "text/plain": [
       "5"
      ]
     },
     "execution_count": 14,
     "metadata": {},
     "output_type": "execute_result"
    }
   ],
   "source": [
    "random.randrange(1,10)"
   ]
  },
  {
   "cell_type": "code",
   "execution_count": 15,
   "metadata": {},
   "outputs": [
    {
     "data": {
      "text/plain": [
       "4"
      ]
     },
     "execution_count": 15,
     "metadata": {},
     "output_type": "execute_result"
    }
   ],
   "source": [
    "random.randrange(1,10)"
   ]
  },
  {
   "cell_type": "code",
   "execution_count": 16,
   "metadata": {},
   "outputs": [
    {
     "data": {
      "text/plain": [
       "2"
      ]
     },
     "execution_count": 16,
     "metadata": {},
     "output_type": "execute_result"
    }
   ],
   "source": [
    "random.randrange(1,10)"
   ]
  },
  {
   "cell_type": "markdown",
   "metadata": {},
   "source": [
    "Podemos aplicar isso no nosso jogo da seguinte maneira:"
   ]
  },
  {
   "cell_type": "code",
   "execution_count": 17,
   "metadata": {},
   "outputs": [
    {
     "name": "stdout",
     "output_type": "stream",
     "text": [
      "*********************************\n",
      "Bem vindo ao jogo de Adivinhação!\n",
      "*********************************\n",
      "Tentativa: 0 de 3\n",
      "Digite um número entre 1 e 100: 50\n",
      "Você digitou:  50\n",
      "Você errou! O chute foi maior que o número secreto!\n",
      "Fim do jogo\n",
      "Tentativa: 1 de 3\n",
      "Digite um número entre 1 e 100: 25\n",
      "Você digitou:  25\n",
      "Você errou! O chute foi maior que o número secreto!\n",
      "Fim do jogo\n",
      "Tentativa: 2 de 3\n",
      "Digite um número entre 1 e 100: 12\n",
      "Você digitou:  12\n",
      "Você errou! O chute foi menor que o número secreto!\n",
      "Fim do jogo\n"
     ]
    }
   ],
   "source": [
    "import random\n",
    "\n",
    "print(\"*********************************\")\n",
    "print(\"Bem vindo ao jogo de Adivinhação!\")\n",
    "print(\"*********************************\")\n",
    "\n",
    "numero_secreto = random.randrange(1,101)\n",
    "total_de_tentativas = 3 \n",
    "rodada = 1\n",
    "\n",
    "for rodada in range(total_de_tentativas):\n",
    "    print('Tentativa: {} de {}'.format(rodada, total_de_tentativas))\n",
    "    chute_str = input(\"Digite um número entre 1 e 100: \")\n",
    "    print(\"Você digitou: \", chute_str)\n",
    "    chute = int(chute_str)\n",
    "\n",
    "    if(chute < 1 or chute > 100):\n",
    "        print('Digite um número entre 1 e 100')\n",
    "        continue\n",
    "\n",
    "    acertou = numero_secreto == chute\n",
    "    maior = chute > numero_secreto\n",
    "    menor = chute < numero_secreto\n",
    "\n",
    "    if (acertou):\n",
    "        print(\"Você acertou!\")\n",
    "        break\n",
    "    else:\n",
    "        if (maior):\n",
    "            print(\"Você errou! O chute foi maior que o número secreto!\")\n",
    "        elif (menor):\n",
    "            print(\"Você errou! O chute foi menor que o número secreto!\")\n",
    "\n",
    "    print(\"Fim do jogo\")"
   ]
  },
  {
   "cell_type": "code",
   "execution_count": null,
   "metadata": {},
   "outputs": [],
   "source": []
  }
 ],
 "metadata": {
  "kernelspec": {
   "display_name": "Python 3",
   "language": "python",
   "name": "python3"
  },
  "language_info": {
   "codemirror_mode": {
    "name": "ipython",
    "version": 3
   },
   "file_extension": ".py",
   "mimetype": "text/x-python",
   "name": "python",
   "nbconvert_exporter": "python",
   "pygments_lexer": "ipython3",
   "version": "3.7.3"
  }
 },
 "nbformat": 4,
 "nbformat_minor": 2
}
