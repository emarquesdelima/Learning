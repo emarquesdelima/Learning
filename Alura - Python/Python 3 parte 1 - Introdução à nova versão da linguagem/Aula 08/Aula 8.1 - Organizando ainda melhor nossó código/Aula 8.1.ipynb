{
 "cells": [
  {
   "cell_type": "markdown",
   "metadata": {},
   "source": [
    "# Organizando ainda melhor o nosso código"
   ]
  },
  {
   "cell_type": "markdown",
   "metadata": {},
   "source": [
    "Agora iremos aprender como trabalhar com diversos arquivos .py de uma vez.\n",
    "\n",
    "Para isso vamos transformar nosso código em um arquivo <code>.py</code> utilizando a função <code>%%writefile nome_do_arquivo.py</code> como vemos abaixo"
   ]
  },
  {
   "cell_type": "code",
   "execution_count": 1,
   "metadata": {},
   "outputs": [
    {
     "name": "stdout",
     "output_type": "stream",
     "text": [
      "Writing adivinhacao.py\n"
     ]
    }
   ],
   "source": [
    "%%writefile adivinhacao.py\n",
    "\n",
    "import random\n",
    "\n",
    "print(\"*********************************\")\n",
    "print(\"Bem vindo ao jogo de Adivinhação!\")\n",
    "print(\"*********************************\")\n",
    "\n",
    "numero_secreto = random.randrange(1,101)\n",
    "total_de_tentativas = 0\n",
    "pontos = 1000\n",
    "\n",
    "print('Qual Nível de Dificuldade?')\n",
    "print('(1) Fácil (2) Médio (3) Difícil')\n",
    "\n",
    "nivel = int(input('Defina o nível do jogo: '))\n",
    "\n",
    "if (nivel == 1):\n",
    "    total_de_tentativas = 20\n",
    "elif (nivel == 2):\n",
    "    total_de_tentativas = 10\n",
    "else:\n",
    "    total_de_tentativas = 5\n",
    "\n",
    "for rodada in range(total_de_tentativas):\n",
    "    print('Tentativa: {} de {}'.format(rodada+1, total_de_tentativas))\n",
    "    chute_str = input(\"Digite um número entre 1 e 100: \")\n",
    "    print(\"Você digitou: \", chute_str)\n",
    "    chute = int(chute_str)\n",
    "\n",
    "    if(chute < 1 or chute > 100):\n",
    "        print('Digite um número entre 1 e 100')\n",
    "        continue\n",
    "\n",
    "    acertou = numero_secreto == chute\n",
    "    maior = chute > numero_secreto\n",
    "    menor = chute < numero_secreto\n",
    "\n",
    "    if (acertou):\n",
    "        print(\"Você acertou e fez {} pontos!\".format(pontos))\n",
    "        break\n",
    "    else:\n",
    "        if (maior):\n",
    "            print(\"Você errou! O chute foi maior que o número secreto!\")\n",
    "        elif (menor):\n",
    "            print(\"Você errou! O chute foi menor que o número secreto!\")\n",
    "        pontos_perdidos = abs(numero_secreto - chute)\n",
    "        pontos = pontos - pontos_perdidos\n",
    "\n",
    "print(\"Fim do jogo\")"
   ]
  },
  {
   "cell_type": "markdown",
   "metadata": {},
   "source": [
    "Após salvarmos o nosso código como um arquivo separado podemos criar mais jogos e deixá-los salvos para acessar posteriormente e depois um código que seleciona esses vários arquivos.\n",
    "\n",
    "Para o nosso próximo projeto iremos criar um jogo de forca. Para mostrarmos como trabalhar com vários arquivos iremos criar o início do jogo de forca para exemplificarmos"
   ]
  },
  {
   "cell_type": "code",
   "execution_count": 2,
   "metadata": {},
   "outputs": [
    {
     "name": "stdout",
     "output_type": "stream",
     "text": [
      "Writing forca.py\n"
     ]
    }
   ],
   "source": [
    "%%writefile forca.py\n",
    "\n",
    "print(\"*********************************\")\n",
    "print(\"***Bem vindo ao jogo de Forca!***\")\n",
    "print(\"*********************************\")"
   ]
  },
  {
   "cell_type": "markdown",
   "metadata": {},
   "source": [
    "Agora já temos nossos dois arquivos, começaremos agora a codar o seletor de jogos. Iremos primeiro escrever o código e depois exportar para um arquivo <code>.py</code> no final"
   ]
  },
  {
   "cell_type": "code",
   "execution_count": 3,
   "metadata": {},
   "outputs": [
    {
     "name": "stdout",
     "output_type": "stream",
     "text": [
      "*********************************\n",
      "********Escolha seu Jogo!********\n",
      "*********************************\n",
      "\n",
      "(1) Forca (2) Adivinhação\n",
      "Qual jogo? 1\n",
      "Jogando Forca\n"
     ]
    }
   ],
   "source": [
    "print(\"*********************************\")\n",
    "print(\"********Escolha seu Jogo!********\")\n",
    "print(\"*********************************\\n\")\n",
    "\n",
    "print('(1) Forca (2) Adivinhação')\n",
    "\n",
    "jogo = int(input('Qual jogo? '))\n",
    "\n",
    "if (jogo == 1):\n",
    "    print('Jogando Forca')\n",
    "elif (jogo == 2):\n",
    "    print('Jogando Adivinhação')"
   ]
  },
  {
   "cell_type": "markdown",
   "metadata": {},
   "source": [
    "Agora já temos o começo do nosso seletor de jogos e para podermos utilizar os nossos códigos salvos em arquivos <code>.py</code> poderiamos utilizar a função <code>import</code> do python. Porém se utilizarmos essa função ela irá executer os códigos.\n",
    "\n",
    "Para evitar isso devemos transformálos em **funções**, uma função é definida da seguinte maneira"
   ]
  },
  {
   "cell_type": "code",
   "execution_count": 4,
   "metadata": {},
   "outputs": [],
   "source": [
    "def funcao():\n",
    "    print('Essa é uma função!')"
   ]
  },
  {
   "cell_type": "markdown",
   "metadata": {},
   "source": [
    "Preste atenção que quando a célula foi executada a frase não foi impressa no output, para que isso aconteça temos de chamar a função"
   ]
  },
  {
   "cell_type": "code",
   "execution_count": 5,
   "metadata": {},
   "outputs": [
    {
     "name": "stdout",
     "output_type": "stream",
     "text": [
      "Essa é uma função!\n"
     ]
    }
   ],
   "source": [
    "funcao()"
   ]
  },
  {
   "cell_type": "markdown",
   "metadata": {},
   "source": [
    "Agora vamos transformar nosso jogos em funções e depois importar para o seletor de jogos"
   ]
  },
  {
   "cell_type": "code",
   "execution_count": 6,
   "metadata": {},
   "outputs": [
    {
     "name": "stdout",
     "output_type": "stream",
     "text": [
      "Overwriting adivinhacao.py\n"
     ]
    }
   ],
   "source": [
    "%%writefile adivinhacao.py\n",
    "\n",
    "def jogar():\n",
    "    import random\n",
    "\n",
    "    print(\"*********************************\")\n",
    "    print(\"Bem vindo ao jogo de Adivinhação!\")\n",
    "    print(\"*********************************\")\n",
    "\n",
    "    numero_secreto = random.randrange(1,101)\n",
    "    total_de_tentativas = 0\n",
    "    pontos = 1000\n",
    "\n",
    "    print('Qual Nível de Dificuldade?')\n",
    "    print('(1) Fácil (2) Médio (3) Difícil')\n",
    "\n",
    "    nivel = int(input('Defina o nível do jogo: '))\n",
    "\n",
    "    if (nivel == 1):\n",
    "        total_de_tentativas = 20\n",
    "    elif (nivel == 2):\n",
    "        total_de_tentativas = 10\n",
    "    else:\n",
    "        total_de_tentativas = 5\n",
    "\n",
    "    for rodada in range(total_de_tentativas):\n",
    "        print('Tentativa: {} de {}'.format(rodada+1, total_de_tentativas))\n",
    "        chute_str = input(\"Digite um número entre 1 e 100: \")\n",
    "        print(\"Você digitou: \", chute_str)\n",
    "        chute = int(chute_str)\n",
    "\n",
    "        if(chute < 1 or chute > 100):\n",
    "            print('Digite um número entre 1 e 100')\n",
    "            continue\n",
    "\n",
    "        acertou = numero_secreto == chute\n",
    "        maior = chute > numero_secreto\n",
    "        menor = chute < numero_secreto\n",
    "\n",
    "        if (acertou):\n",
    "            print(\"Você acertou e fez {} pontos!\".format(pontos))\n",
    "            break\n",
    "        else:\n",
    "            if (maior):\n",
    "                print(\"Você errou! O chute foi maior que o número secreto!\")\n",
    "            elif (menor):\n",
    "                print(\"Você errou! O chute foi menor que o número secreto!\")\n",
    "            pontos_perdidos = abs(numero_secreto - chute)\n",
    "            pontos = pontos - pontos_perdidos\n",
    "\n",
    "    print(\"Fim do jogo\")"
   ]
  },
  {
   "cell_type": "code",
   "execution_count": 7,
   "metadata": {},
   "outputs": [
    {
     "name": "stdout",
     "output_type": "stream",
     "text": [
      "Overwriting forca.py\n"
     ]
    }
   ],
   "source": [
    "%%writefile forca.py\n",
    "\n",
    "def jogar():\n",
    "    print(\"*********************************\")\n",
    "    print(\"***Bem vindo ao jogo de Forca!***\")\n",
    "    print(\"*********************************\")"
   ]
  },
  {
   "cell_type": "markdown",
   "metadata": {},
   "source": [
    "Após transformar nossos jogos em funções podemos importar para o nosso seletor de jogos utilizando o <code>import</code> e já dentro do nosso <code>if</code> chamar as funções de cada um dos códigos"
   ]
  },
  {
   "cell_type": "code",
   "execution_count": 8,
   "metadata": {},
   "outputs": [
    {
     "name": "stdout",
     "output_type": "stream",
     "text": [
      "*********************************\n",
      "********Escolha seu Jogo!********\n",
      "*********************************\n",
      "\n",
      "(1) Forca (2) Adivinhação\n",
      "Qual jogo? 1\n",
      "Jogando Forca\n",
      "*********************************\n",
      "***Bem vindo ao jogo de Forca!***\n",
      "*********************************\n"
     ]
    }
   ],
   "source": [
    "import adivinhacao\n",
    "import forca\n",
    "\n",
    "print(\"*********************************\")\n",
    "print(\"********Escolha seu Jogo!********\")\n",
    "print(\"*********************************\\n\")\n",
    "\n",
    "print('(1) Forca (2) Adivinhação')\n",
    "\n",
    "jogo = int(input('Qual jogo? '))\n",
    "\n",
    "if (jogo == 1):\n",
    "    print('Jogando Forca')\n",
    "    forca.jogar()\n",
    "elif (jogo == 2):\n",
    "    print('Jogando Adivinhação')\n",
    "    adivinhacao.jogar()\n"
   ]
  },
  {
   "cell_type": "markdown",
   "metadata": {},
   "source": [
    "Isso faz com que os nossos arquivos <code>adivinhacao.py</code> e <code>forca.py</code> funcionem normalmente quando são importados pelo nosso seletor de jogos"
   ]
  }
 ],
 "metadata": {
  "kernelspec": {
   "display_name": "Python 3",
   "language": "python",
   "name": "python3"
  },
  "language_info": {
   "codemirror_mode": {
    "name": "ipython",
    "version": 3
   },
   "file_extension": ".py",
   "mimetype": "text/x-python",
   "name": "python",
   "nbconvert_exporter": "python",
   "pygments_lexer": "ipython3",
   "version": "3.7.3"
  }
 },
 "nbformat": 4,
 "nbformat_minor": 2
}
