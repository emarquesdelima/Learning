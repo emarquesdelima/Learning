{
 "cells": [
  {
   "cell_type": "markdown",
   "metadata": {},
   "source": [
    "# Diferenciando um arquivo executado de um importado"
   ]
  },
  {
   "cell_type": "markdown",
   "metadata": {},
   "source": [
    "Quando transformamos nossos arquivos em funções geramos um problema. Eles funcionam quando são importados,mas não quando são executados."
   ]
  },
  {
   "cell_type": "code",
   "execution_count": 3,
   "metadata": {},
   "outputs": [],
   "source": [
    "%run forca.py"
   ]
  },
  {
   "cell_type": "markdown",
   "metadata": {},
   "source": [
    "Isso acontece pois dentro do arquivo está apenas uma função, quando executamos o arquivo a função é carregada na memória mas não é executada. Para isso teremos que fazer um ajuste nos arquivos.\n",
    "\n",
    "Dentro do Python existe uma diferença entre o **arquivo principal** e um **arquivo importado**. Quando rodamos diretamente um arquivo no Python, ele internamente cria uma variável e a preenche. E através dessa variável podemos fazer uma consulta, pois se ela estiver preenchida, significa que o arquivo foi executado diretamente, mas se a variável não estiver preenchida, então significa que o arquivo só foi importado.\n",
    "\n",
    "Essa variável é a <code>__name__</code>, e ela é preenchida com o valor <code>__main__</code> caso o arquivo seja executado diretamente. Vamos então fazer if para verificar se ela está preenchida ou não:"
   ]
  },
  {
   "cell_type": "code",
   "execution_count": 4,
   "metadata": {},
   "outputs": [
    {
     "name": "stdout",
     "output_type": "stream",
     "text": [
      "Overwriting forca.py\n"
     ]
    }
   ],
   "source": [
    "%%writefile forca.py\n",
    "\n",
    "def jogar():\n",
    "    print(\"*********************************\")\n",
    "    print(\"***Bem vindo ao jogo de Forca!***\")\n",
    "    print(\"*********************************\")\n",
    "\n",
    "if (__name__ == '__main__'):\n",
    "    jogar()"
   ]
  },
  {
   "cell_type": "code",
   "execution_count": 5,
   "metadata": {},
   "outputs": [
    {
     "name": "stdout",
     "output_type": "stream",
     "text": [
      "*********************************\n",
      "***Bem vindo ao jogo de Forca!***\n",
      "*********************************\n"
     ]
    }
   ],
   "source": [
    "%run forca.py"
   ]
  },
  {
   "cell_type": "markdown",
   "metadata": {},
   "source": [
    "Como podemos ver, agora ao executa-la diretamente ela roda a função. Vamos fazer a alteração no nosso jogo de adivinhação também"
   ]
  },
  {
   "cell_type": "code",
   "execution_count": 6,
   "metadata": {},
   "outputs": [
    {
     "name": "stdout",
     "output_type": "stream",
     "text": [
      "Overwriting adivinhacao.py\n"
     ]
    }
   ],
   "source": [
    "%%writefile adivinhacao.py\n",
    "\n",
    "def jogar():\n",
    "    import random\n",
    "\n",
    "    print(\"*********************************\")\n",
    "    print(\"Bem vindo ao jogo de Adivinhação!\")\n",
    "    print(\"*********************************\")\n",
    "\n",
    "    numero_secreto = random.randrange(1,101)\n",
    "    total_de_tentativas = 0\n",
    "    pontos = 1000\n",
    "\n",
    "    print('Qual Nível de Dificuldade?')\n",
    "    print('(1) Fácil (2) Médio (3) Difícil')\n",
    "\n",
    "    nivel = int(input('Defina o nível do jogo: '))\n",
    "\n",
    "    if (nivel == 1):\n",
    "        total_de_tentativas = 20\n",
    "    elif (nivel == 2):\n",
    "        total_de_tentativas = 10\n",
    "    else:\n",
    "        total_de_tentativas = 5\n",
    "\n",
    "    for rodada in range(total_de_tentativas):\n",
    "        print('Tentativa: {} de {}'.format(rodada+1, total_de_tentativas))\n",
    "        chute_str = input(\"Digite um número entre 1 e 100: \")\n",
    "        print(\"Você digitou: \", chute_str)\n",
    "        chute = int(chute_str)\n",
    "\n",
    "        if(chute < 1 or chute > 100):\n",
    "            print('Digite um número entre 1 e 100')\n",
    "            continue\n",
    "\n",
    "        acertou = numero_secreto == chute\n",
    "        maior = chute > numero_secreto\n",
    "        menor = chute < numero_secreto\n",
    "\n",
    "        if (acertou):\n",
    "            print(\"Você acertou e fez {} pontos!\".format(pontos))\n",
    "            break\n",
    "        else:\n",
    "            if (maior):\n",
    "                print(\"Você errou! O chute foi maior que o número secreto!\")\n",
    "            elif (menor):\n",
    "                print(\"Você errou! O chute foi menor que o número secreto!\")\n",
    "            pontos_perdidos = abs(numero_secreto - chute)\n",
    "            pontos = pontos - pontos_perdidos\n",
    "\n",
    "    print(\"Fim do jogo\")\n",
    "    \n",
    "if (__name__ == '__main__'):\n",
    "    jogar()"
   ]
  },
  {
   "cell_type": "markdown",
   "metadata": {},
   "source": [
    "Vamos fazer a mesma coisa com o nosso seletor de jogos"
   ]
  },
  {
   "cell_type": "code",
   "execution_count": 1,
   "metadata": {},
   "outputs": [
    {
     "name": "stdout",
     "output_type": "stream",
     "text": [
      "Writing seletor.py\n"
     ]
    }
   ],
   "source": [
    "%%writefile seletor.py\n",
    "\n",
    "import adivinhacao\n",
    "import forca\n",
    "\n",
    "def seleciona_jogo():\n",
    "    print(\"*********************************\")\n",
    "    print(\"********Escolha seu Jogo!********\")\n",
    "    print(\"*********************************\\n\")\n",
    "\n",
    "    print('(1) Forca (2) Adivinhação')\n",
    "\n",
    "    jogo = int(input('Qual jogo? '))\n",
    "\n",
    "    if (jogo == 1):\n",
    "        print('Jogando Forca')\n",
    "        forca.jogar()\n",
    "    elif (jogo == 2):\n",
    "        print('Jogando Adivinhação')\n",
    "        adivinhacao.jogar()\n",
    "\n",
    "if (__name__ == '__main__'):\n",
    "    seleciona_jogo()"
   ]
  },
  {
   "cell_type": "code",
   "execution_count": null,
   "metadata": {},
   "outputs": [],
   "source": []
  }
 ],
 "metadata": {
  "kernelspec": {
   "display_name": "Python 3",
   "language": "python",
   "name": "python3"
  },
  "language_info": {
   "codemirror_mode": {
    "name": "ipython",
    "version": 3
   },
   "file_extension": ".py",
   "mimetype": "text/x-python",
   "name": "python",
   "nbconvert_exporter": "python",
   "pygments_lexer": "ipython3",
   "version": "3.7.3"
  }
 },
 "nbformat": 4,
 "nbformat_minor": 2
}
