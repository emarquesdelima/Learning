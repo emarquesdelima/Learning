{
 "cells": [
  {
   "cell_type": "markdown",
   "metadata": {},
   "source": [
    "# Função Print e Variáveis"
   ]
  },
  {
   "cell_type": "markdown",
   "metadata": {},
   "source": [
    "A função <code>print()</code> mostra valores no console"
   ]
  },
  {
   "cell_type": "code",
   "execution_count": 3,
   "metadata": {},
   "outputs": [
    {
     "name": "stdout",
     "output_type": "stream",
     "text": [
      "Olá Mundo!\n"
     ]
    }
   ],
   "source": [
    "print('Olá Mundo!')"
   ]
  },
  {
   "cell_type": "markdown",
   "metadata": {},
   "source": [
    "Se utilizarmos a função <code>help()</code> podemos entender melhor o funcionamento da função <code>print()</code>"
   ]
  },
  {
   "cell_type": "code",
   "execution_count": 4,
   "metadata": {},
   "outputs": [
    {
     "name": "stdout",
     "output_type": "stream",
     "text": [
      "Help on built-in function print in module builtins:\n",
      "\n",
      "print(...)\n",
      "    print(value, ..., sep=' ', end='\\n', file=sys.stdout, flush=False)\n",
      "    \n",
      "    Prints the values to a stream, or to sys.stdout by default.\n",
      "    Optional keyword arguments:\n",
      "    file:  a file-like object (stream); defaults to the current sys.stdout.\n",
      "    sep:   string inserted between values, default a space.\n",
      "    end:   string appended after the last value, default a newline.\n",
      "    flush: whether to forcibly flush the stream.\n",
      "\n"
     ]
    }
   ],
   "source": [
    "help(print)"
   ]
  },
  {
   "cell_type": "markdown",
   "metadata": {},
   "source": [
    "Podemos ver que a função <code>print()</code> recebe diversos parâmetros, um ou mais parâmetros *value*, que indicado por *value* e as reticências e são os valores a serem impressos, um parâmetro *sep* qie indica como a função irá separar cada um dos valores recebidos no parâmetro *value*, um parâmetro *end* que indica o que fazer após imprimir o valor, um parâmetro *file* que mostra aonde esse valor será impresso e um parâmetro *flush* que não será relevante no momento.\n",
    "\n",
    "Podemos ver também que quando utilizamos a função <code>help(print)</code> ela mostra os valores padrão de cada um dos parâmetros (sep = ' ', end = '/n'...)\n",
    "\n",
    "Agora vamos tentar imprimir uma frase com diversos valores"
   ]
  },
  {
   "cell_type": "code",
   "execution_count": 5,
   "metadata": {},
   "outputs": [
    {
     "name": "stdout",
     "output_type": "stream",
     "text": [
      "Brasil ganhou 5 títulos mundiais\n"
     ]
    }
   ],
   "source": [
    "print('Brasil', 'ganhou', 5, 'títulos mundiais')"
   ]
  },
  {
   "cell_type": "markdown",
   "metadata": {},
   "source": [
    "Para deixarmos a impressão da nossa frase mais dinâmica podemos utilizar variáveis para imprimir a frase. Dessa maneira podemos mudar o nome do país e a quantidade de títulos sem ter de reescrever toda a linha de código.\n",
    "\n",
    "Variáveis são como caixinhas que guardam informações dentro dela e podemos ver essas informações chamando-as\n",
    "\n",
    "Para isso iremos definir a variável **pais** e a variável **quantidade** como podemos ver abaixo"
   ]
  },
  {
   "cell_type": "code",
   "execution_count": 6,
   "metadata": {},
   "outputs": [],
   "source": [
    "pais = 'Italia'\n",
    "\n",
    "quantidade = 4"
   ]
  },
  {
   "cell_type": "markdown",
   "metadata": {},
   "source": [
    "Podemos descobrir quais são os tipos dessas variáveis utilizando a função <code>type()</code>"
   ]
  },
  {
   "cell_type": "code",
   "execution_count": 8,
   "metadata": {},
   "outputs": [
    {
     "data": {
      "text/plain": [
       "str"
      ]
     },
     "execution_count": 8,
     "metadata": {},
     "output_type": "execute_result"
    }
   ],
   "source": [
    "type(pais)"
   ]
  },
  {
   "cell_type": "code",
   "execution_count": 9,
   "metadata": {},
   "outputs": [
    {
     "data": {
      "text/plain": [
       "int"
      ]
     },
     "execution_count": 9,
     "metadata": {},
     "output_type": "execute_result"
    }
   ],
   "source": [
    "type(quantidade)"
   ]
  },
  {
   "cell_type": "markdown",
   "metadata": {},
   "source": [
    "Variáveis que aparecem com o tipo **str** são variáveis chamadas de strings, elas contém valores que normalmente aparecem entre aspas <code>''</code> ou aspas duplos <code>\"\"</code>\n",
    "\n",
    "Já variaveis que aparecem com o tipo **int** são aquelas que carregam números inteiros dentro delas\n",
    "\n",
    "Podemos facilmente verificar qual o valor de uma variável chamando a variável como mostrado abaixo"
   ]
  },
  {
   "cell_type": "code",
   "execution_count": 10,
   "metadata": {},
   "outputs": [
    {
     "data": {
      "text/plain": [
       "'Italia'"
      ]
     },
     "execution_count": 10,
     "metadata": {},
     "output_type": "execute_result"
    }
   ],
   "source": [
    "pais"
   ]
  },
  {
   "cell_type": "code",
   "execution_count": 11,
   "metadata": {},
   "outputs": [
    {
     "data": {
      "text/plain": [
       "4"
      ]
     },
     "execution_count": 11,
     "metadata": {},
     "output_type": "execute_result"
    }
   ],
   "source": [
    "quantidade"
   ]
  },
  {
   "cell_type": "markdown",
   "metadata": {},
   "source": [
    "Agora que temos nossas variáveis podemos utilizá-las para imprimir a frase novamente"
   ]
  },
  {
   "cell_type": "code",
   "execution_count": 12,
   "metadata": {},
   "outputs": [
    {
     "name": "stdout",
     "output_type": "stream",
     "text": [
      "Italia ganhou 4 títulos mundiais\n"
     ]
    }
   ],
   "source": [
    "print(pais, 'ganhou', quantidade, 'títulos mundiais')"
   ]
  },
  {
   "cell_type": "markdown",
   "metadata": {},
   "source": [
    "# Tipagem do Python"
   ]
  },
  {
   "cell_type": "markdown",
   "metadata": {},
   "source": [
    "Quando criamos uma variável não precisamos definir o tipo dela, diferentemente de outras linguagens de programação. Além disso quando mudamos o valor de uma variável o tipo dela também é modificado de modo dinâmico como podemos ver abaixo"
   ]
  },
  {
   "cell_type": "code",
   "execution_count": 13,
   "metadata": {},
   "outputs": [
    {
     "data": {
      "text/plain": [
       "str"
      ]
     },
     "execution_count": 13,
     "metadata": {},
     "output_type": "execute_result"
    }
   ],
   "source": [
    "variavel = 'Teste'\n",
    "\n",
    "type(variavel)"
   ]
  },
  {
   "cell_type": "code",
   "execution_count": 14,
   "metadata": {},
   "outputs": [
    {
     "data": {
      "text/plain": [
       "int"
      ]
     },
     "execution_count": 14,
     "metadata": {},
     "output_type": "execute_result"
    }
   ],
   "source": [
    "variavel = 10\n",
    "\n",
    "type(variavel)"
   ]
  },
  {
   "cell_type": "markdown",
   "metadata": {},
   "source": [
    "Isso mostra que Python é uma linguagem de programação com tipagem dinâmica"
   ]
  },
  {
   "cell_type": "markdown",
   "metadata": {},
   "source": [
    "#  Início do projeto - Jogo de adivinhação"
   ]
  },
  {
   "cell_type": "markdown",
   "metadata": {},
   "source": [
    "A ideia do nosso jogo é termos que acertar um número secreto. Quando o programa estiver rodando, teremos que digitar um número e o programa dirá se acertamos ou erramos o número, com várias tentativas e níveis.\n",
    "\n",
    "Vamos começar definindo esse número secreto (mais à frente vamos ver como gerar um número aleatório):"
   ]
  },
  {
   "cell_type": "code",
   "execution_count": 21,
   "metadata": {},
   "outputs": [
    {
     "name": "stdout",
     "output_type": "stream",
     "text": [
      "******************************\n",
      "Bem vindo ao jogo de Adivinhação!\n",
      "******************************\n"
     ]
    }
   ],
   "source": [
    "print('******************************')\n",
    "print('Bem vindo ao jogo de Adivinhação!')\n",
    "print('******************************')\n",
    "\n",
    "numero_secreto = 42"
   ]
  },
  {
   "cell_type": "markdown",
   "metadata": {},
   "source": [
    "##  Capturando a entrada do usuário"
   ]
  },
  {
   "cell_type": "markdown",
   "metadata": {},
   "source": [
    "Agora, para que o usuário possa digitar o número, vamos utilizar a função <code>input</code>, ela trava o programa até que o usuário digite algo e tecle <code>ENTER</code>. Ela recebe por parâmetro a mensagem que será exibida no console e nos retorna o que o usuário digitou, logo vamos guardar esse resultado em uma variável, que chamaremos de **chute**:"
   ]
  },
  {
   "cell_type": "code",
   "execution_count": 22,
   "metadata": {},
   "outputs": [
    {
     "name": "stdout",
     "output_type": "stream",
     "text": [
      "Digite o seu número: \n"
     ]
    }
   ],
   "source": [
    "chute = input(\"Digite o seu número: \")"
   ]
  },
  {
   "cell_type": "markdown",
   "metadata": {},
   "source": [
    "Para testar, vamos ao final do programa imprimir o conteúdo da variável <code>chute</code>, para mostrar realmente que o seu conteúdo será o que o usuário digitou:"
   ]
  },
  {
   "cell_type": "code",
   "execution_count": 23,
   "metadata": {},
   "outputs": [
    {
     "name": "stdout",
     "output_type": "stream",
     "text": [
      "Digite o seu número: \n",
      "Você digitou:  \n"
     ]
    }
   ],
   "source": [
    "chute = input(\"Digite o seu número: \")\n",
    "print(\"Você digitou: \", chute)"
   ]
  },
  {
   "cell_type": "markdown",
   "metadata": {},
   "source": [
    "Podemos rodar o programa e ver que realmente é impresso o valor que digitarmos."
   ]
  },
  {
   "cell_type": "markdown",
   "metadata": {},
   "source": [
    "## Comparando Valores"
   ]
  },
  {
   "cell_type": "markdown",
   "metadata": {},
   "source": [
    "Agora que conseguimos capturar o que o usuário digitou, precisamos comparar esse valor com o número secreto, para poder dizer ao usuário se ele digitou o número correto ou não. Bom, já sabemos o número secreto que o chute do usuário, então vamos comparar os dois, algo como:"
   ]
  },
  {
   "cell_type": "markdown",
   "metadata": {},
   "source": [
    "<pre class=\"prettyprint\"><code><span class=\"pln\">se numero_secreto igual chute\n",
    "    </span><span class=\"kwd\">print</span><span class=\"pun\">(</span><span class=\"str\">\"Você acertou!\"</span><span class=\"pun\">)</span><span class=\"pln\">\n",
    "sen</span><span class=\"pun\">ã</span><span class=\"pln\">o\n",
    "    </span><span class=\"kwd\">print</span><span class=\"pun\">(</span><span class=\"str\">\"Você errou!\"</span><span class=\"pun\">)</span></code></pre>"
   ]
  },
  {
   "cell_type": "markdown",
   "metadata": {},
   "source": [
    "<p>Só que as palavras <strong>se</strong>, <strong>senão</strong> e <strong>igual</strong> não funcionam no mundo Python, temos que respeitar a sua sintaxe. O <strong>se</strong> em Python é <strong><code>if</code></strong>, o <strong>igual</strong> é a comparação <strong><code>==</code></strong> e o <strong>senão</strong> é <strong><code>else</code></strong>. Então, resumindo a sintaxe do Python é:</p>"
   ]
  },
  {
   "cell_type": "markdown",
   "metadata": {},
   "source": [
    "<pre class=\"prettyprint\"><code><span class=\"kwd\">if</span><span class=\"pln\"> </span><span class=\"pun\">(</span><span class=\"pln\">condi</span><span class=\"pun\">çã</span><span class=\"pln\">o</span><span class=\"pun\">):</span><span class=\"pln\">\n",
    "    executa c</span><span class=\"pun\">ó</span><span class=\"pln\">digo caso a condi</span><span class=\"pun\">çã</span><span class=\"pln\">o seja verdadeira\n",
    "</span><span class=\"kwd\">else</span><span class=\"pun\">:</span><span class=\"pln\">\n",
    "    executa c</span><span class=\"pun\">ó</span><span class=\"pln\">digo caso a condi</span><span class=\"pun\">çã</span><span class=\"pln\">o seja falsa</span></code></pre>"
   ]
  },
  {
   "cell_type": "markdown",
   "metadata": {},
   "source": [
    "<p>Mas precisamos prestar atenção a alguns detalhes. É uma recomendação que a condição fique dentro de parênteses (apesar de também funcionar sem); para marcar o fim da instrução e início de um bloco (o código que será executado caso a condição seja verdadeira ou falsa), é utilizado dois pontos (<strong><code>:</code></strong>), e esse bloco obrigatoriamente deve estar 4 espaços (ou um <code>TAB</code>) mais à direita. Então o código ficará assim:</p>"
   ]
  },
  {
   "cell_type": "code",
   "execution_count": 24,
   "metadata": {},
   "outputs": [
    {
     "name": "stdout",
     "output_type": "stream",
     "text": [
      "Você errou!\n"
     ]
    }
   ],
   "source": [
    "if (numero_secreto == chute):\n",
    "    print(\"Você acertou!\")\n",
    "else:\n",
    "    print(\"Você errou!\")"
   ]
  },
  {
   "cell_type": "markdown",
   "metadata": {},
   "source": [
    "<p>Podemos rodar o programa e verificar que mesmo se digitarmos o número certo, recebemos a mensagem <strong>Você errou</strong>. Porque?</p>"
   ]
  },
  {
   "cell_type": "markdown",
   "metadata": {},
   "source": [
    "<h2>Convertendo uma string para número inteiro</h2>"
   ]
  },
  {
   "cell_type": "markdown",
   "metadata": {},
   "source": [
    "<p>Isso acontece porque a função <strong><code>input</code></strong> nos retorna uma string, pois qualquer coisa pode ser digitada, não é garantido que o usuário irá digitar um número. Como não há essa garantia, o retorno é uma string.</p>"
   ]
  },
  {
   "cell_type": "markdown",
   "metadata": {},
   "source": [
    "<p>Já a variável <strong><code>numero_secreto</code></strong> é um número! Logo, do tipo inteiro. Então estamos testando a igualdade de um inteiro com uma string, logo essa comparação sempre será falsa, apesar da string representar um número inteiro. Para resolver isso precisamos <strong>mudar o tipo da variável</strong>, convertendo uma string em número inteiro.</p>"
   ]
  },
  {
   "cell_type": "markdown",
   "metadata": {},
   "source": [
    "<p>Para isso, o Python possui a função <strong><code>int</code></strong>, que recebe um valor e o converte para inteiro, justamente o que queremos. Logo, vamos utilizá-la no nosso código:</p>"
   ]
  },
  {
   "cell_type": "code",
   "execution_count": 25,
   "metadata": {},
   "outputs": [
    {
     "name": "stdout",
     "output_type": "stream",
     "text": [
      "Digite o seu número: 5\n",
      "Você digitou:  5\n"
     ]
    }
   ],
   "source": [
    "chute_str = input(\"Digite o seu número: \")\n",
    "print(\"Você digitou: \", chute_str)\n",
    "chute = int(chute_str)"
   ]
  },
  {
   "cell_type": "markdown",
   "metadata": {},
   "source": [
    "<p>Agora a comparação é feita corretamente! Para sair do bloco do <strong><code>else</code></strong>, basta escrevermos algo depois dele, sem a indentação de 4 espaços:</p>"
   ]
  },
  {
   "cell_type": "code",
   "execution_count": 26,
   "metadata": {},
   "outputs": [
    {
     "name": "stdout",
     "output_type": "stream",
     "text": [
      "*********************************\n",
      "Bem vindo ao jogo de Adivinhação!\n",
      "*********************************\n",
      "Digite o seu número: 5\n",
      "Você digitou:  5\n",
      "Você errou!\n",
      "Fim do jogo\n"
     ]
    }
   ],
   "source": [
    "print(\"*********************************\")\n",
    "print(\"Bem vindo ao jogo de Adivinhação!\")\n",
    "print(\"*********************************\")\n",
    "\n",
    "numero_secreto = 42\n",
    "\n",
    "chute_str = input(\"Digite o seu número: \")\n",
    "print(\"Você digitou: \", chute_str)\n",
    "chute = int(chute_str)\n",
    "\n",
    "if (numero_secreto == chute):\n",
    "    print(\"Você acertou!\")\n",
    "else:\n",
    "    print(\"Você errou!\")\n",
    "\n",
    "print(\"Fim do jogo\")"
   ]
  },
  {
   "cell_type": "markdown",
   "metadata": {},
   "source": [
    "# A Condição elif"
   ]
  },
  {
   "cell_type": "markdown",
   "metadata": {},
   "source": [
    "<section id=\"transcription\" class=\"video-transcription transcription-toggle\">\n",
    "                        <div class=\"formattedText\" data-external-links=\"\">\n",
    "                                <p>No capítulo anterior começamos a implementar o jogo, vimos como capturar os dados digitados pelo usuário, como converter o valor e como fazer um <strong><code>if</code></strong> para saber se o usuário acertou ou não.</p>\n",
    "<p>Nesse capítulo, vamos fazer com que o usuário possa dar vários chutes para tentar acertar o número, já que atualmente ele só tem uma tentativa. Mas antes disso, vamos implementar uma dica para o usuário, dizendo se o número que ele chutou é maior ou menor que o número secreto.</p>\n",
    "<p>Para isso, precisamos mexer no bloco do <strong><code>else</code></strong>. Vamos ter que testar novamente, se o número for maior, imprimimos uma mensagem dizendo isso ao usuário, se for menos, diremos ao usuário que o número digitado é menor que o número secreto:</p>\n",
    "<pre class=\"prettyprint\"><code><span class=\"kwd\">if</span><span class=\"pln\"> </span><span class=\"pun\">(</span><span class=\"pln\">numero_secreto </span><span class=\"pun\">==</span><span class=\"pln\"> chute</span><span class=\"pun\">):</span><span class=\"pln\">\n",
    "    </span><span class=\"kwd\">print</span><span class=\"pun\">(</span><span class=\"str\">\"Você acertou!\"</span><span class=\"pun\">)</span><span class=\"pln\">\n",
    "</span><span class=\"kwd\">else</span><span class=\"pun\">:</span><span class=\"pln\">\n",
    "    </span><span class=\"kwd\">if</span><span class=\"pln\"> </span><span class=\"pun\">(</span><span class=\"pln\">chute </span><span class=\"pun\">&gt;</span><span class=\"pln\"> numero_secreto</span><span class=\"pun\">):</span><span class=\"pln\">\n",
    "        </span><span class=\"kwd\">print</span><span class=\"pun\">(</span><span class=\"str\">\"Você errou! O seu chute foi maior que o número secreto.\"</span><span class=\"pun\">)</span><span class=\"pln\">\n",
    "    </span><span class=\"kwd\">if</span><span class=\"pln\"> </span><span class=\"pun\">(</span><span class=\"pln\">chute </span><span class=\"pun\">&lt;</span><span class=\"pln\"> numero_secreto</span><span class=\"pun\">):</span><span class=\"pln\">\n",
    "        </span><span class=\"kwd\">print</span><span class=\"pun\">(</span><span class=\"str\">\"Você errou! O seu chute foi menor que o número secreto.\"</span><span class=\"pun\">)</span></code></pre>\n",
    "<p>Podemos testar e ver que tudo está funcionando perfeitamente.</p>\n",
    "<h2>else com condição de entrada</h2>\n",
    "<p>Podemos notar que, se o chute não for igual, nem maior que o número secreto, obviamente ele será menor, então o último <code>if</code> não é necessário:</p>\n",
    "<pre class=\"prettyprint\"><code><span class=\"kwd\">if</span><span class=\"pln\"> </span><span class=\"pun\">(</span><span class=\"pln\">numero_secreto </span><span class=\"pun\">==</span><span class=\"pln\"> chute</span><span class=\"pun\">):</span><span class=\"pln\">\n",
    "    </span><span class=\"kwd\">print</span><span class=\"pun\">(</span><span class=\"str\">\"Você acertou!\"</span><span class=\"pun\">)</span><span class=\"pln\">\n",
    "</span><span class=\"kwd\">else</span><span class=\"pun\">:</span><span class=\"pln\">\n",
    "    </span><span class=\"kwd\">if</span><span class=\"pln\"> </span><span class=\"pun\">(</span><span class=\"pln\">chute </span><span class=\"pun\">&gt;</span><span class=\"pln\"> numero_secreto</span><span class=\"pun\">):</span><span class=\"pln\">\n",
    "        </span><span class=\"kwd\">print</span><span class=\"pun\">(</span><span class=\"str\">\"Você errou! O seu chute foi maior que o número secreto.\"</span><span class=\"pun\">)</span><span class=\"pln\">\n",
    "    </span><span class=\"kwd\">else</span><span class=\"pun\">:</span><span class=\"pln\">\n",
    "        </span><span class=\"kwd\">print</span><span class=\"pun\">(</span><span class=\"str\">\"Você errou! O seu chute foi menor que o número secreto.\"</span><span class=\"pun\">)</span></code></pre>\n",
    "<p>Mas para esses casos, podemos fazer um <strong><code>else</code></strong> com uma <strong>condição de entrada</strong>, o <strong><code>elif</code></strong>. Vamos utilizá-lo para deixar o código mais semântico, já que na prática não há diferença:</p>\n",
    "<pre class=\"prettyprint\"><code><span class=\"kwd\">if</span><span class=\"pln\"> </span><span class=\"pun\">(</span><span class=\"pln\">numero_secreto </span><span class=\"pun\">==</span><span class=\"pln\"> chute</span><span class=\"pun\">):</span><span class=\"pln\">\n",
    "    </span><span class=\"kwd\">print</span><span class=\"pun\">(</span><span class=\"str\">\"Você acertou!\"</span><span class=\"pun\">)</span><span class=\"pln\">\n",
    "</span><span class=\"kwd\">else</span><span class=\"pun\">:</span><span class=\"pln\">\n",
    "    </span><span class=\"kwd\">if</span><span class=\"pln\"> </span><span class=\"pun\">(</span><span class=\"pln\">chute </span><span class=\"pun\">&gt;</span><span class=\"pln\"> numero_secreto</span><span class=\"pun\">):</span><span class=\"pln\">\n",
    "        </span><span class=\"kwd\">print</span><span class=\"pun\">(</span><span class=\"str\">\"Você errou! O seu chute foi maior que o número secreto.\"</span><span class=\"pun\">)</span><span class=\"pln\">\n",
    "    </span><span class=\"kwd\">elif</span><span class=\"pln\"> </span><span class=\"pun\">(</span><span class=\"pln\">chute </span><span class=\"pun\">&lt;</span><span class=\"pln\"> numero_secreto</span><span class=\"pun\">):</span><span class=\"pln\">\n",
    "        </span><span class=\"kwd\">print</span><span class=\"pun\">(</span><span class=\"str\">\"Você errou! O seu chute foi menor que o número secreto.\"</span><span class=\"pun\">)</span></code></pre>\n",
    "<h2>Melhorando a legibilidade do código</h2>\n",
    "<p>Podemos melhorar a legibilidade do nosso código, para que outros programadores que possam vir a desenvolver conosco o entendam melhor. Vamos deixar nossas condições mais claras, o que significa <strong><code>chute == numero_secreto</code></strong>, por exemplo? Que o usuário acertou, logo vamos extrair essa condição para uma variável:</p>\n",
    "<pre class=\"prettyprint\"><code><span class=\"pln\">acertou </span><span class=\"pun\">=</span><span class=\"pln\"> chute </span><span class=\"pun\">==</span><span class=\"pln\"> numero_secreto\n",
    "\n",
    "</span><span class=\"kwd\">if</span><span class=\"pln\"> </span><span class=\"pun\">(</span><span class=\"pln\">acertou</span><span class=\"pun\">):</span><span class=\"pln\">\n",
    "    </span><span class=\"kwd\">print</span><span class=\"pun\">(</span><span class=\"str\">\"Você acertou!\"</span><span class=\"pun\">)</span><span class=\"pln\">\n",
    "</span><span class=\"kwd\">else</span><span class=\"pun\">:</span><span class=\"pln\">\n",
    "    </span><span class=\"kwd\">if</span><span class=\"pln\"> </span><span class=\"pun\">(</span><span class=\"pln\">chute </span><span class=\"pun\">&gt;</span><span class=\"pln\"> numero_secreto</span><span class=\"pun\">):</span><span class=\"pln\">\n",
    "        </span><span class=\"kwd\">print</span><span class=\"pun\">(</span><span class=\"str\">\"Você errou! O seu chute foi maior que o número secreto.\"</span><span class=\"pun\">)</span><span class=\"pln\">\n",
    "    </span><span class=\"kwd\">elif</span><span class=\"pln\"> </span><span class=\"pun\">(</span><span class=\"pln\">chute </span><span class=\"pun\">&lt;</span><span class=\"pln\"> numero_secreto</span><span class=\"pun\">):</span><span class=\"pln\">\n",
    "        </span><span class=\"kwd\">print</span><span class=\"pun\">(</span><span class=\"str\">\"Você errou! O seu chute foi menor que o número secreto.\"</span><span class=\"pun\">)</span></code></pre>\n",
    "<p>Agora a condição <strong><code>if</code></strong> fica um pouco mais clara. Vamos fazer a mesma coisa para as outras duas condições:</p>\n",
    "<pre class=\"prettyprint\"><code><span class=\"pln\">acertou </span><span class=\"pun\">=</span><span class=\"pln\"> chute </span><span class=\"pun\">==</span><span class=\"pln\"> numero_secreto\n",
    "maior </span><span class=\"pun\">=</span><span class=\"pln\"> chute </span><span class=\"pun\">&gt;</span><span class=\"pln\"> numero_secreto\n",
    "menor </span><span class=\"pun\">=</span><span class=\"pln\"> chute </span><span class=\"pun\">&lt;</span><span class=\"pln\"> numero_secreto\n",
    "\n",
    "</span><span class=\"kwd\">if</span><span class=\"pln\"> </span><span class=\"pun\">(</span><span class=\"pln\">acertou</span><span class=\"pun\">):</span><span class=\"pln\">\n",
    "    </span><span class=\"kwd\">print</span><span class=\"pun\">(</span><span class=\"str\">\"Você acertou!\"</span><span class=\"pun\">)</span><span class=\"pln\">\n",
    "</span><span class=\"kwd\">else</span><span class=\"pun\">:</span><span class=\"pln\">\n",
    "    </span><span class=\"kwd\">if</span><span class=\"pln\"> </span><span class=\"pun\">(</span><span class=\"pln\">maior</span><span class=\"pun\">):</span><span class=\"pln\">\n",
    "        </span><span class=\"kwd\">print</span><span class=\"pun\">(</span><span class=\"str\">\"Você errou! O seu chute foi maior que o número secreto.\"</span><span class=\"pun\">)</span><span class=\"pln\">\n",
    "    </span><span class=\"kwd\">elif</span><span class=\"pln\"> </span><span class=\"pun\">(</span><span class=\"pln\">menor</span><span class=\"pun\">):</span><span class=\"pln\">\n",
    "        </span><span class=\"kwd\">print</span><span class=\"pun\">(</span><span class=\"str\">\"Você errou! O seu chute foi menor que o número secreto.\"</span><span class=\"pun\">)</span></code></pre>\n",
    "<p>Podemos testar e ver que tudo continua funcionando como antes, mas agora com um código um pouco mais legível. No próximo vídeo implementaremos a chance do usuário poder dar vários chutes para tentar acertar o número secreto. Até lá!</p>"
   ]
  },
  {
   "cell_type": "code",
   "execution_count": 1,
   "metadata": {},
   "outputs": [
    {
     "name": "stdout",
     "output_type": "stream",
     "text": [
      "Digite sua idade: 12\n"
     ]
    }
   ],
   "source": [
    "idade_str = input(\"Digite sua idade: \")\n",
    "idade = int(idade_str)\n",
    "\n",
    "if (idade > 18):\n",
    "    print(\"Você é maior de idade.\")\n",
    "else:\n",
    "    if (idade < 12):\n",
    "        print(\"Você é uma criança.\")\n",
    "    elif (idade > 12):\n",
    "        print(\"Você é um adolescente.\")"
   ]
  },
  {
   "cell_type": "markdown",
   "metadata": {},
   "source": [
    "# O laço com while"
   ]
  },
  {
   "cell_type": "markdown",
   "metadata": {},
   "source": [
    "<div class=\"formattedText\" data-external-links=\"\">\n",
    "                                <p>Queremos dar mais de uma oportunidade para o usuário tentar acertar o número secreto, já que é um jogo de adivinhação. A primeira ideia é repetir o código, desde a função <code>input</code> até o bloco do <code>elif</code>. Ou seja, para cada nova tentativa que quisermos dar ao usuário, copiaríamos esse código novamente.</p>\n",
    "<p>Só que copiar código sempre é uma má prática, queremos escrever o nosso código apenas uma vez, e <strong>repeti-lo</strong>. Se queremos repetir o código, faremos um <strong>laço</strong>, ou um <strong><em>loop</em></strong>. O laço que queremos fazer é:</p>\n",
    "<pre class=\"prettyprint\"><code><span class=\"pln\">enquanto ainda h</span><span class=\"pun\">á</span><span class=\"pln\"> tentativas</span><span class=\"pun\">:</span><span class=\"pln\">\n",
    "    chute_str </span><span class=\"pun\">=</span><span class=\"pln\"> input</span><span class=\"pun\">(</span><span class=\"str\">\"Digite o seu número: \"</span><span class=\"pun\">)</span><span class=\"pln\">\n",
    "    </span><span class=\"kwd\">print</span><span class=\"pun\">(</span><span class=\"str\">\"Você digitou: \"</span><span class=\"pun\">,</span><span class=\"pln\"> chute_str</span><span class=\"pun\">)</span><span class=\"pln\">\n",
    "    chute </span><span class=\"pun\">=</span><span class=\"pln\"> </span><span class=\"kwd\">int</span><span class=\"pun\">(</span><span class=\"pln\">chute_str</span><span class=\"pun\">)</span><span class=\"pln\">\n",
    "\n",
    "   acertou </span><span class=\"pun\">=</span><span class=\"pln\"> numero_secreto </span><span class=\"pun\">==</span><span class=\"pln\"> chute\n",
    "    maior </span><span class=\"pun\">=</span><span class=\"pln\"> chute </span><span class=\"pun\">&gt;</span><span class=\"pln\"> numero_secreto\n",
    "    menor </span><span class=\"pun\">=</span><span class=\"pln\"> chute </span><span class=\"pun\">&lt;</span><span class=\"pln\"> numero_secreto\n",
    "\n",
    "   </span><span class=\"kwd\">if</span><span class=\"pln\"> </span><span class=\"pun\">(</span><span class=\"pln\">acertou</span><span class=\"pun\">):</span><span class=\"pln\">\n",
    "        </span><span class=\"kwd\">print</span><span class=\"pun\">(</span><span class=\"str\">\"Você acertou!\"</span><span class=\"pun\">)</span><span class=\"pln\">\n",
    "    </span><span class=\"kwd\">else</span><span class=\"pun\">:</span><span class=\"pln\">\n",
    "        </span><span class=\"kwd\">if</span><span class=\"pln\"> </span><span class=\"pun\">(</span><span class=\"pln\">maior</span><span class=\"pun\">):</span><span class=\"pln\">\n",
    "            </span><span class=\"kwd\">print</span><span class=\"pun\">(</span><span class=\"str\">\"Você errou! O seu chute foi maior que o número secreto.\"</span><span class=\"pun\">)</span><span class=\"pln\">\n",
    "        </span><span class=\"kwd\">elif</span><span class=\"pln\"> </span><span class=\"pun\">(</span><span class=\"pln\">menor</span><span class=\"pun\">):</span><span class=\"pln\">\n",
    "            </span><span class=\"kwd\">print</span><span class=\"pun\">(</span><span class=\"str\">\"Você errou! O seu chute foi menor que o número secreto.\"</span><span class=\"pun\">)</span><span class=\"pln\">\n",
    "\n",
    "</span><span class=\"kwd\">print</span><span class=\"pun\">(</span><span class=\"str\">\"Fim do jogo\"</span><span class=\"pun\">)</span></code></pre>\n",
    "<p>Só que o Python não entende português, então vamos traduzi-lo. A palavra <strong>tentativas</strong> será uma variável, chamaremos-a de <strong><code>total_de_tentativas</code></strong>:</p>\n",
    "<pre class=\"prettyprint\"><code><span class=\"pln\">total_de_tentativas </span><span class=\"pun\">=</span><span class=\"pln\"> </span><span class=\"lit\">3</span><span class=\"pln\">\n",
    "\n",
    "enquanto ainda h</span><span class=\"pun\">á</span><span class=\"pln\"> total_de_tentativas</span><span class=\"pun\">:</span><span class=\"pln\">\n",
    "    executa o c</span><span class=\"pun\">ó</span><span class=\"pln\">digo</span></code></pre>\n",
    "<p>A palavra <strong>enquanto</strong> no Python é o <strong><code>while</code></strong>, e assim como o <strong><code>if</code></strong>, ele recebe uma condição. A diferença é que o <strong><code>if</code></strong>, caso a condição seja verdadeira, executa apenas uma vez o código do seu bloco, já o <strong><code>while</code></strong> executa <strong>enquanto</strong> a condição for verdadeira:</p>\n",
    "<pre class=\"prettyprint\"><code><span class=\"pln\">total_de_tentativas </span><span class=\"pun\">=</span><span class=\"pln\"> </span><span class=\"lit\">3</span><span class=\"pln\">\n",
    "\n",
    "</span><span class=\"kwd\">while</span><span class=\"pln\"> </span><span class=\"pun\">(</span><span class=\"pln\">ainda h</span><span class=\"pun\">á</span><span class=\"pln\"> total_de_tentativas</span><span class=\"pun\">):</span><span class=\"pln\">\n",
    "    executa o c</span><span class=\"pun\">ó</span><span class=\"pln\">digo</span></code></pre>\n",
    "<p>Resta agora a expressão <strong>ainda há</strong>. A ideia é que o usuário tenha 3 tentativas, representada no código pela variável <strong><code>total_de_tentativas</code></strong>. A cada rodada subtraímos <strong>1</strong> do valor dessa variável, até o valor chegar a <strong>0</strong>, que é quando devemos sair do <strong><code>while</code></strong>, logo vamos executá-lo enquanto a variável <em><code>total_de_tentativas</code><strong> for maior que </strong>0*</em>:</p>\n",
    "<pre class=\"prettyprint\"><code><span class=\"pln\">total_de_tentativas </span><span class=\"pun\">=</span><span class=\"pln\"> </span><span class=\"lit\">3</span><span class=\"pln\">\n",
    "\n",
    "</span><span class=\"kwd\">while</span><span class=\"pln\"> </span><span class=\"pun\">(</span><span class=\"pln\">total_de_tentativas </span><span class=\"pun\">&gt;</span><span class=\"pln\"> </span><span class=\"lit\">0</span><span class=\"pun\">):</span><span class=\"pln\">\n",
    "    chute_str </span><span class=\"pun\">=</span><span class=\"pln\"> input</span><span class=\"pun\">(</span><span class=\"str\">\"Digite o seu número: \"</span><span class=\"pun\">)</span><span class=\"pln\">\n",
    "    </span><span class=\"kwd\">print</span><span class=\"pun\">(</span><span class=\"str\">\"Você digitou: \"</span><span class=\"pun\">,</span><span class=\"pln\"> chute_str</span><span class=\"pun\">)</span><span class=\"pln\">\n",
    "    chute </span><span class=\"pun\">=</span><span class=\"pln\"> </span><span class=\"kwd\">int</span><span class=\"pun\">(</span><span class=\"pln\">chute_str</span><span class=\"pun\">)</span><span class=\"pln\">\n",
    "\n",
    "   acertou </span><span class=\"pun\">=</span><span class=\"pln\"> numero_secreto </span><span class=\"pun\">==</span><span class=\"pln\"> chute\n",
    "   maior </span><span class=\"pun\">=</span><span class=\"pln\"> chute </span><span class=\"pun\">&gt;</span><span class=\"pln\"> numero_secreto\n",
    "   menor </span><span class=\"pun\">=</span><span class=\"pln\"> chute </span><span class=\"pun\">&lt;</span><span class=\"pln\"> numero_secreto\n",
    "\n",
    "  </span><span class=\"kwd\">if</span><span class=\"pln\"> </span><span class=\"pun\">(</span><span class=\"pln\">acertou</span><span class=\"pun\">):</span><span class=\"pln\">\n",
    "  </span><span class=\"kwd\">print</span><span class=\"pun\">(</span><span class=\"str\">\"Você acertou!\"</span><span class=\"pun\">)</span><span class=\"pln\">\n",
    "   </span><span class=\"kwd\">else</span><span class=\"pun\">:</span><span class=\"pln\">\n",
    "   </span><span class=\"kwd\">if</span><span class=\"pln\"> </span><span class=\"pun\">(</span><span class=\"pln\">maior</span><span class=\"pun\">):</span><span class=\"pln\">\n",
    "   </span><span class=\"kwd\">print</span><span class=\"pun\">(</span><span class=\"str\">\"Você errou! O seu chute foi maior que o número secreto.\"</span><span class=\"pun\">)</span><span class=\"pln\">\n",
    "   </span><span class=\"kwd\">elif</span><span class=\"pln\"> </span><span class=\"pun\">(</span><span class=\"pln\">menor</span><span class=\"pun\">):</span><span class=\"pln\">\n",
    "   </span><span class=\"kwd\">print</span><span class=\"pun\">(</span><span class=\"str\">\"Você errou! O seu chute foi menor que o número secreto.\"</span><span class=\"pun\">)</span><span class=\"pln\">\n",
    "\n",
    "</span><span class=\"kwd\">print</span><span class=\"pun\">(</span><span class=\"str\">\"Fim do jogo\"</span><span class=\"pun\">)</span></code></pre>\n",
    "<p>A condição está perfeita, falta, dentro do laço, subtrairmos 1 da variável <strong><code>total_de_tentativas</code></strong>:</p>\n",
    "<pre class=\"prettyprint\"><code><span class=\"pln\">total_de_tentativas </span><span class=\"pun\">=</span><span class=\"pln\"> </span><span class=\"lit\">3</span><span class=\"pln\">\n",
    "\n",
    "</span><span class=\"kwd\">while</span><span class=\"pln\"> </span><span class=\"pun\">(</span><span class=\"pln\">total_de_tentativas </span><span class=\"pun\">&gt;</span><span class=\"pln\"> </span><span class=\"lit\">0</span><span class=\"pun\">):</span><span class=\"pln\">\n",
    "    chute_str </span><span class=\"pun\">=</span><span class=\"pln\"> input</span><span class=\"pun\">(</span><span class=\"str\">\"Digite o seu número: \"</span><span class=\"pun\">)</span><span class=\"pln\">\n",
    "    </span><span class=\"kwd\">print</span><span class=\"pun\">(</span><span class=\"str\">\"Você digitou: \"</span><span class=\"pun\">,</span><span class=\"pln\"> chute_str</span><span class=\"pun\">)</span><span class=\"pln\">\n",
    "    chute </span><span class=\"pun\">=</span><span class=\"pln\"> </span><span class=\"kwd\">int</span><span class=\"pun\">(</span><span class=\"pln\">chute_str</span><span class=\"pun\">)</span><span class=\"pln\">\n",
    "\n",
    "   acertou </span><span class=\"pun\">=</span><span class=\"pln\"> numero_secreto </span><span class=\"pun\">==</span><span class=\"pln\"> chute\n",
    "  maior </span><span class=\"pun\">=</span><span class=\"pln\"> chute </span><span class=\"pun\">&gt;</span><span class=\"pln\"> numero_secreto\n",
    "   menor </span><span class=\"pun\">=</span><span class=\"pln\"> chute </span><span class=\"pun\">&lt;</span><span class=\"pln\"> numero_secreto\n",
    "\n",
    "  </span><span class=\"kwd\">if</span><span class=\"pln\"> </span><span class=\"pun\">(</span><span class=\"pln\">acertou</span><span class=\"pun\">):</span><span class=\"pln\">\n",
    "  </span><span class=\"kwd\">print</span><span class=\"pun\">(</span><span class=\"str\">\"Você acertou!\"</span><span class=\"pun\">)</span><span class=\"pln\">\n",
    "  </span><span class=\"kwd\">else</span><span class=\"pun\">:</span><span class=\"pln\">\n",
    "  </span><span class=\"kwd\">if</span><span class=\"pln\"> </span><span class=\"pun\">(</span><span class=\"pln\">maior</span><span class=\"pun\">):</span><span class=\"pln\">\n",
    "  </span><span class=\"kwd\">print</span><span class=\"pun\">(</span><span class=\"str\">\"Você errou! O seu chute foi maior que o número secreto.\"</span><span class=\"pun\">)</span><span class=\"pln\">\n",
    "  </span><span class=\"kwd\">elif</span><span class=\"pln\"> </span><span class=\"pun\">(</span><span class=\"pln\">menor</span><span class=\"pun\">):</span><span class=\"pln\">\n",
    "  </span><span class=\"kwd\">print</span><span class=\"pun\">(</span><span class=\"str\">\"Você errou! O seu chute foi menor que o número secreto.\"</span><span class=\"pun\">)</span><span class=\"pln\">\n",
    "\n",
    "   total_de_tentativas </span><span class=\"pun\">=</span><span class=\"pln\"> total_de_tentativas </span><span class=\"pun\">-</span><span class=\"pln\"> </span><span class=\"lit\">1</span><span class=\"pln\">\n",
    "\n",
    "</span><span class=\"kwd\">print</span><span class=\"pun\">(</span><span class=\"str\">\"Fim do jogo\"</span><span class=\"pun\">)</span></code></pre>\n",
    "<p>Testamos o código e ótimo, ele funciona! Mas pode ficar ainda melhor.</p>\n",
    "<h2>Representando a rodada</h2>\n",
    "<p>Vamos imprimir para o usuário qual o número da rodada que ele está jogando, para deixar claro quantas tentativas ele tem. Para isso vamos criar a variável <strong><code>rodada</code></strong>, que começa com o valor <strong>1</strong>:</p>\n",
    "<pre class=\"prettyprint\"><code><span class=\"pln\">total_de_tentativas </span><span class=\"pun\">=</span><span class=\"pln\"> </span><span class=\"lit\">3</span><span class=\"pln\">\n",
    "rodada </span><span class=\"pun\">=</span><span class=\"pln\"> </span><span class=\"lit\">1</span></code></pre>\n",
    "<p>E vamos imprimi-la antes do usuário digitar o seu chute:</p>\n",
    "<pre class=\"prettyprint\"><code><span class=\"pln\">total_de_tentativas </span><span class=\"pun\">=</span><span class=\"pln\"> </span><span class=\"lit\">3</span><span class=\"pln\">\n",
    "rodada </span><span class=\"pun\">=</span><span class=\"pln\"> </span><span class=\"lit\">1</span><span class=\"pln\">\n",
    "\n",
    "</span><span class=\"kwd\">while</span><span class=\"pln\"> </span><span class=\"pun\">(</span><span class=\"pln\">total_de_tentativas </span><span class=\"pun\">&gt;</span><span class=\"pln\"> </span><span class=\"lit\">0</span><span class=\"pun\">):</span><span class=\"pln\">\n",
    "    </span><span class=\"kwd\">print</span><span class=\"pun\">(</span><span class=\"str\">\"Tentativa\"</span><span class=\"pun\">,</span><span class=\"pln\"> rodada</span><span class=\"pun\">,</span><span class=\"pln\"> </span><span class=\"str\">\"de\"</span><span class=\"pun\">,</span><span class=\"pln\"> total_de_tentativas</span><span class=\"pun\">)</span><span class=\"pln\">\n",
    "    chute_str </span><span class=\"pun\">=</span><span class=\"pln\"> input</span><span class=\"pun\">(</span><span class=\"str\">\"Digite o seu número: \"</span><span class=\"pun\">)</span><span class=\"pln\">\n",
    "\n",
    "    </span><span class=\"com\"># restante do código comentado</span></code></pre>\n",
    "<p>E para a variável <strong><code>total_de_tentativas</code></strong> continuar com o valor <strong>3</strong>, não vamos mais subtrair 1 do seu valor, e sim adicionar 1 ao valor da variável <strong><code>rodada</code></strong>:</p>\n",
    "<pre class=\"prettyprint\"><code><span class=\"pln\">total_de_tentativas </span><span class=\"pun\">=</span><span class=\"pln\"> </span><span class=\"lit\">3</span><span class=\"pln\">\n",
    "rodada </span><span class=\"pun\">=</span><span class=\"pln\"> </span><span class=\"lit\">1</span><span class=\"pln\">\n",
    "\n",
    "</span><span class=\"kwd\">while</span><span class=\"pln\"> </span><span class=\"pun\">(</span><span class=\"pln\">total_de_tentativas </span><span class=\"pun\">&gt;</span><span class=\"pln\"> </span><span class=\"lit\">0</span><span class=\"pun\">):</span><span class=\"pln\">\n",
    "    </span><span class=\"kwd\">print</span><span class=\"pun\">(</span><span class=\"str\">\"Tentativa\"</span><span class=\"pun\">,</span><span class=\"pln\"> rodada</span><span class=\"pun\">,</span><span class=\"pln\"> </span><span class=\"str\">\"de\"</span><span class=\"pun\">,</span><span class=\"pln\"> total_de_tentativas</span><span class=\"pun\">)</span><span class=\"pln\">\n",
    "    chute_str </span><span class=\"pun\">=</span><span class=\"pln\"> input</span><span class=\"pun\">(</span><span class=\"str\">\"Digite o seu número: \"</span><span class=\"pun\">)</span><span class=\"pln\">\n",
    "    </span><span class=\"kwd\">print</span><span class=\"pun\">(</span><span class=\"str\">\"Você digitou: \"</span><span class=\"pun\">,</span><span class=\"pln\"> chute_str</span><span class=\"pun\">)</span><span class=\"pln\">\n",
    "    chute </span><span class=\"pun\">=</span><span class=\"pln\"> </span><span class=\"kwd\">int</span><span class=\"pun\">(</span><span class=\"pln\">chute_str</span><span class=\"pun\">)</span><span class=\"pln\">\n",
    "\n",
    "   acertou </span><span class=\"pun\">=</span><span class=\"pln\"> numero_secreto </span><span class=\"pun\">==</span><span class=\"pln\"> chute\n",
    "   maior </span><span class=\"pun\">=</span><span class=\"pln\"> chute </span><span class=\"pun\">&gt;</span><span class=\"pln\"> numero_secreto\n",
    "  menor </span><span class=\"pun\">=</span><span class=\"pln\"> chute </span><span class=\"pun\">&lt;</span><span class=\"pln\"> numero_secreto\n",
    "\n",
    "</span><span class=\"kwd\">if</span><span class=\"pln\"> </span><span class=\"pun\">(</span><span class=\"pln\">acertou</span><span class=\"pun\">):</span><span class=\"pln\">\n",
    "</span><span class=\"kwd\">print</span><span class=\"pun\">(</span><span class=\"str\">\"Você acertou!\"</span><span class=\"pun\">)</span><span class=\"pln\">\n",
    "</span><span class=\"kwd\">else</span><span class=\"pun\">:</span><span class=\"pln\">\n",
    "</span><span class=\"kwd\">if</span><span class=\"pln\"> </span><span class=\"pun\">(</span><span class=\"pln\">maior</span><span class=\"pun\">):</span><span class=\"pln\">\n",
    "</span><span class=\"kwd\">print</span><span class=\"pun\">(</span><span class=\"str\">\"Você errou! O seu chute foi maior que o número secreto.\"</span><span class=\"pun\">)</span><span class=\"pln\">\n",
    "</span><span class=\"kwd\">elif</span><span class=\"pln\"> </span><span class=\"pun\">(</span><span class=\"pln\">menor</span><span class=\"pun\">):</span><span class=\"pln\">\n",
    "</span><span class=\"kwd\">print</span><span class=\"pun\">(</span><span class=\"str\">\"Você errou! O seu chute foi menor que o número secreto.\"</span><span class=\"pun\">)</span><span class=\"pln\">\n",
    "\n",
    "rodada </span><span class=\"pun\">=</span><span class=\"pln\"> rodada </span><span class=\"pun\">+</span><span class=\"pln\"> </span><span class=\"lit\">1</span><span class=\"pln\"></span><span class=\"kwd\">print</span><span class=\"pun\">(</span><span class=\"str\">\"Fim do jogo\"</span><span class=\"pun\">)</span></code></pre>\n",
    "<p>Por fim, precisamos modificar a condição, como o <strong><code>total_de_tentativas</code></strong> permanecerá com o valor 3, o código precisa ficar executando enquanto o valor da rodada for menor ou igual ao total de tentativas:</p>\n",
    "<pre class=\"prettyprint\"><code><span class=\"pln\">total_de_tentativas </span><span class=\"pun\">=</span><span class=\"pln\"> </span><span class=\"lit\">3</span><span class=\"pln\">\n",
    "rodada </span><span class=\"pun\">=</span><span class=\"pln\"> </span><span class=\"lit\">1</span><span class=\"pln\">\n",
    "\n",
    "</span><span class=\"kwd\">while</span><span class=\"pln\"> </span><span class=\"pun\">(</span><span class=\"pln\">rodada </span><span class=\"pun\">&lt;=</span><span class=\"pln\"> total_de_tentativas</span><span class=\"pun\">):</span><span class=\"pln\">\n",
    "    </span><span class=\"kwd\">print</span><span class=\"pun\">(</span><span class=\"str\">\"Tentativa\"</span><span class=\"pun\">,</span><span class=\"pln\"> rodada</span><span class=\"pun\">,</span><span class=\"pln\"> </span><span class=\"str\">\"de\"</span><span class=\"pun\">,</span><span class=\"pln\"> total_de_tentativas</span><span class=\"pun\">)</span><span class=\"pln\">\n",
    "    chute_str </span><span class=\"pun\">=</span><span class=\"pln\"> input</span><span class=\"pun\">(</span><span class=\"str\">\"Digite o seu número: \"</span><span class=\"pun\">)</span><span class=\"pln\">\n",
    "</span><span class=\"com\"># restante do código comentado</span></code></pre>\n",
    "<p>Agora conseguimos imprimir para o usuário quantas tentativas restantes ele possui!</p>\n",
    "</div>"
   ]
  },
  {
   "cell_type": "markdown",
   "metadata": {},
   "source": [
    "# Formatação de Strings\n",
    "\n",
    "<div class=\"formattedText\" data-external-links=\"\">\n",
    "<p>Com a lógica de tentativas implementada, vamos focar na impressão do número de tentativas para o usuário. Atualmente ela está assim:</p>\n",
    "<pre class=\"prettyprint\"><code><span class=\"kwd\">print</span><span class=\"pun\">(</span><span class=\"str\">\"Tentativa\"</span><span class=\"pun\">,</span><span class=\"pln\"> rodada</span><span class=\"pun\">,</span><span class=\"pln\"> </span><span class=\"str\">\"de\"</span><span class=\"pun\">,</span><span class=\"pln\"> total_de_tentativas</span><span class=\"pun\">)</span></code></pre>\n",
    "<p>Desse jeito a frase é impressa do jeito que queremos, mas tem uma forma mais elegante de imprimir essa frase. Podemos deixar a string toda no código, dizendo onde que ela eventualmente pode mudar, no nosso caso é nos números. Onde a string pode mudar, colocamos <strong>chaves</strong> (<strong><code>{}</code></strong>):</p>\n",
    "<pre class=\"prettyprint\"><code><span class=\"kwd\">print</span><span class=\"pun\">(</span><span class=\"str\">\"Tentativa {} de {}\"</span><span class=\"pun\">)</span></code></pre>\n",
    "<p>As chaves significam que o Python deve substituí-las pelos valores das variáveis, então vamos passá-las:</p>\n",
    "<pre class=\"prettyprint\"><code><span class=\"kwd\">print</span><span class=\"pun\">(</span><span class=\"str\">\"Tentativa {} de {}\"</span><span class=\"pun\">,</span><span class=\"pln\"> rodada</span><span class=\"pun\">,</span><span class=\"pln\"> total_de_tentativas</span><span class=\"pun\">)</span></code></pre>\n",
    "<p>Se executarmos o programa, a seguinte frase é impressa:</p>\n",
    "<pre class=\"prettyprint\"><code><span class=\"typ\">Tentativa</span><span class=\"pln\"> </span><span class=\"pun\">{}</span><span class=\"pln\"> de </span><span class=\"pun\">{}</span><span class=\"pln\"> </span><span class=\"lit\">1</span><span class=\"pln\"> </span><span class=\"lit\">3</span></code></pre>\n",
    "<p>Não é exatamente isso que queremos, as primeiras chaves devem receber o valor da rodada, e as segundas o total de tentativas. Para isso funcionar, devemos chamar uma função baseada nessa string, a função <strong><code>format</code></strong>, passando para ela as variáveis que devem ficar no lugar das chaves:</p>\n",
    "<pre class=\"prettyprint\"><code><span class=\"kwd\">print</span><span class=\"pun\">(</span><span class=\"str\">\"Tentativa {} de {}\"</span><span class=\"pun\">.</span><span class=\"pln\">format</span><span class=\"pun\">(</span><span class=\"pln\">rodada</span><span class=\"pun\">,</span><span class=\"pln\"> total_de_tentativas</span><span class=\"pun\">))</span></code></pre>\n",
    "<p>Podemos testar e ver que agora está tudo funcionando como antes! O que acabamos de fazer se chama <strong>interpolação de strings</strong>, muito comum nas linguagens e que nos oferece recursos da string para fazermos essas substituições.</p>\n",
    "<p>Assim o nosso código fica um pouco mais elegante, já que nele vemos a string inteira, sabendo exatamente onde ela será alterada.</p>\n",
    "</div>"
   ]
  },
  {
   "cell_type": "markdown",
   "metadata": {},
   "source": [
    "# O laço com for\n",
    "\n",
    "<div class=\"formattedText\" data-external-links=\"\">\n",
    "    <p>Voltando ao código do nosso jogo de adivinhação, implementamos o loop <strong><code>while</code></strong>, no qual temos uma variável <strong><code>rodada</code></strong> que começa com o valor 1, e é incrementada dentro do loop, que por sua vez tem uma condição de entrada, que é a <strong><code>rodada</code></strong> ser menor ou igual ao total de tentativas, que é 3.</p>\n",
    "<p>Ou seja, a <strong><code>rodada</code></strong> tem um valor inicial, que é 1, e vai até 3. Fazemos um laço começando com um valor inicial, até um valor final, sempre incrementando esse valor a cada iteração.</p>\n",
    "<p>Em casos como esse, existe um outro loop que simplifica essa ideia de começar com um valor, e incrementá-lo até chegar em um valor final, o loop <strong><code>for</code></strong>.</p>\n",
    "<h2>Entendendo o for</h2>\n",
    "<p>Para entender o loop <strong><code>for</code></strong>, podemos ir até o console do Python para ver o seu funcionamento. A ideia é nós definirmos o valor inicial e o valor final, que o loop o incrementa automaticamente. Para definir o valor inicial e final, utilizamos a função <strong><code>range</code></strong>, passando-os por parâmetro, definindo assim a série de valores. A sintaxe é a seguinte</p>\n",
    "<pre class=\"prettyprint\"><code><span class=\"pun\">&gt;&gt;&gt;</span><span class=\"pln\"> para vari</span><span class=\"pun\">á</span><span class=\"pln\">vel em s</span><span class=\"pun\">é</span><span class=\"pln\">rie de valores</span><span class=\"pun\">:</span><span class=\"pln\">\n",
    "</span><span class=\"pun\">...</span><span class=\"pln\">     fa</span><span class=\"pun\">ç</span><span class=\"pln\">a algo</span></code></pre>\n",
    "<p>Isso, em Python, pode ficar assim:</p>\n",
    "<pre class=\"prettyprint\"><code><span class=\"pun\">&gt;&gt;&gt;</span><span class=\"pln\"> </span><span class=\"kwd\">for</span><span class=\"pln\"> rodada </span><span class=\"kwd\">in</span><span class=\"pln\"> range</span><span class=\"pun\">(</span><span class=\"lit\">1</span><span class=\"pun\">,</span><span class=\"lit\">10</span><span class=\"pun\">):</span><span class=\"pln\">\n",
    "</span><span class=\"pun\">...</span></code></pre>\n",
    "<p>Na primeira iteração, o valor da variável <strong><code>rodada</code></strong> será 1, depois 2 e até chegar ao <strong>valor final da função <code>range</code> menos 1</strong>, isto é, o segundo parâmetro da função não é inclusivo. No exemplo acima, a série de valores é de 1 a 9. Podemos confirmar isso imprimindo o valor da variável <strong><code>rodada</code></strong>:</p>\n",
    "<pre class=\"prettyprint\"><code><span class=\"pun\">&gt;&gt;&gt;</span><span class=\"pln\"> </span><span class=\"kwd\">for</span><span class=\"pln\"> rodada </span><span class=\"kwd\">in</span><span class=\"pln\"> range</span><span class=\"pun\">(</span><span class=\"lit\">1</span><span class=\"pun\">,</span><span class=\"lit\">10</span><span class=\"pun\">):</span><span class=\"pln\">\n",
    "</span><span class=\"pun\">...</span><span class=\"pln\">     </span><span class=\"kwd\">print</span><span class=\"pun\">(</span><span class=\"pln\">rodada</span><span class=\"pun\">)</span><span class=\"pln\">\n",
    "</span><span class=\"pun\">...</span><span class=\"pln\"> \n",
    "</span><span class=\"lit\">1</span><span class=\"pln\">\n",
    "</span><span class=\"lit\">2</span><span class=\"pln\">\n",
    "</span><span class=\"lit\">3</span><span class=\"pln\">\n",
    "</span><span class=\"lit\">4</span><span class=\"pln\">\n",
    "</span><span class=\"lit\">5</span><span class=\"pln\">\n",
    "</span><span class=\"lit\">6</span><span class=\"pln\">\n",
    "</span><span class=\"lit\">7</span><span class=\"pln\">\n",
    "</span><span class=\"lit\">8</span><span class=\"pln\">\n",
    "</span><span class=\"lit\">9</span></code></pre>\n",
    "<p>Com a função <strong><code>range</code></strong>, podemos definir um <em>step</em>, que é o intervalo entre os elementos, por padrão o <em>step</em> é 1. Definimos-o passando um terceiro parâmetro para a função:</p>\n",
    "<pre class=\"prettyprint\"><code><span class=\"pun\">&gt;&gt;&gt;</span><span class=\"pln\"> </span><span class=\"kwd\">for</span><span class=\"pln\"> rodada </span><span class=\"kwd\">in</span><span class=\"pln\"> range</span><span class=\"pun\">(</span><span class=\"lit\">1</span><span class=\"pun\">,</span><span class=\"lit\">10</span><span class=\"pun\">,</span><span class=\"lit\">2</span><span class=\"pun\">):</span><span class=\"pln\">\n",
    "</span><span class=\"pun\">...</span><span class=\"pln\">     </span><span class=\"kwd\">print</span><span class=\"pun\">(</span><span class=\"pln\">rodada</span><span class=\"pun\">)</span><span class=\"pln\">\n",
    "</span><span class=\"pun\">...</span><span class=\"pln\"> \n",
    "</span><span class=\"lit\">1</span><span class=\"pln\">\n",
    "</span><span class=\"lit\">3</span><span class=\"pln\">\n",
    "</span><span class=\"lit\">5</span><span class=\"pln\">\n",
    "</span><span class=\"lit\">7</span><span class=\"pln\">\n",
    "</span><span class=\"lit\">9</span></code></pre>\n",
    "<p>Mas não necessariamente precisamos usar a função <strong><code>range</code></strong> no <strong><code>for</code></strong>, podemos passar os valor manualmente:</p>\n",
    "<pre class=\"prettyprint\"><code><span class=\"pun\">&gt;&gt;&gt;</span><span class=\"pln\"> </span><span class=\"kwd\">for</span><span class=\"pln\"> rodada </span><span class=\"kwd\">in</span><span class=\"pln\"> </span><span class=\"pun\">[</span><span class=\"lit\">1</span><span class=\"pun\">,</span><span class=\"lit\">2</span><span class=\"pun\">,</span><span class=\"lit\">3</span><span class=\"pun\">,</span><span class=\"lit\">4</span><span class=\"pun\">,</span><span class=\"lit\">5</span><span class=\"pun\">]:</span><span class=\"pln\">\n",
    "</span><span class=\"pun\">...</span><span class=\"pln\">     </span><span class=\"kwd\">print</span><span class=\"pun\">(</span><span class=\"pln\">rodada</span><span class=\"pun\">)</span><span class=\"pln\">\n",
    "</span><span class=\"pun\">...</span><span class=\"pln\"> \n",
    "</span><span class=\"lit\">1</span><span class=\"pln\">\n",
    "</span><span class=\"lit\">2</span><span class=\"pln\">\n",
    "</span><span class=\"lit\">3</span><span class=\"pln\">\n",
    "</span><span class=\"lit\">4</span><span class=\"pln\">\n",
    "</span><span class=\"lit\">5</span></code></pre>\n",
    "<p>O resultado é o mesmo, mas o código fica mais verboso.</p>\n",
    "<h2>Utilizando o for no jogo</h2>\n",
    "<p>Voltando ao nosso jogo, não vamos mais utilizar o <strong><code>while</code>, e sim o </strong><code>for</code><strong>, começando no 1 e indo até o total de tentativas. Para isso precisamos remover a declaração da variável </strong><code>rodada</code>* e o seu incremento dentro do loop:</p>\n",
    "<pre class=\"prettyprint\"><code><span class=\"pln\">numero_secreto </span><span class=\"pun\">=</span><span class=\"pln\"> </span><span class=\"lit\">42</span><span class=\"pln\">\n",
    "total_de_tentativas </span><span class=\"pun\">=</span><span class=\"pln\"> </span><span class=\"lit\">3</span><span class=\"pln\">\n",
    "\n",
    "</span><span class=\"kwd\">for</span><span class=\"pln\"> rodada </span><span class=\"kwd\">in</span><span class=\"pln\"> range</span><span class=\"pun\">(</span><span class=\"lit\">1</span><span class=\"pun\">,</span><span class=\"pln\"> total_de_tentativas</span><span class=\"pun\">):</span><span class=\"pln\">\n",
    "</span><span class=\"kwd\">print</span><span class=\"pun\">(</span><span class=\"str\">\"Tentativa {} de {}\"</span><span class=\"pun\">.</span><span class=\"pln\">format</span><span class=\"pun\">(</span><span class=\"pln\">rodada</span><span class=\"pun\">,</span><span class=\"pln\"> total_de_tentativas</span><span class=\"pun\">))</span><span class=\"pln\">\n",
    "chute_str </span><span class=\"pun\">=</span><span class=\"pln\"> input</span><span class=\"pun\">(</span><span class=\"str\">\"Digite o seu número: \"</span><span class=\"pun\">)</span><span class=\"pln\">\n",
    "</span><span class=\"kwd\">print</span><span class=\"pun\">(</span><span class=\"str\">\"Você digitou: \"</span><span class=\"pun\">,</span><span class=\"pln\"> chute_str</span><span class=\"pun\">)</span><span class=\"pln\">\n",
    "chute </span><span class=\"pun\">=</span><span class=\"pln\"> </span><span class=\"kwd\">int</span><span class=\"pun\">(</span><span class=\"pln\">chute_str</span><span class=\"pun\">)</span><span class=\"pln\">\n",
    "\n",
    "acertou </span><span class=\"pun\">=</span><span class=\"pln\"> numero_secreto </span><span class=\"pun\">==</span><span class=\"pln\"> chute\n",
    "maior </span><span class=\"pun\">=</span><span class=\"pln\"> chute </span><span class=\"pun\">&gt;</span><span class=\"pln\"> numero_secreto\n",
    "menor </span><span class=\"pun\">=</span><span class=\"pln\"> chute </span><span class=\"pun\">&lt;</span><span class=\"pln\"> numero_secreto\n",
    "\n",
    "</span><span class=\"kwd\">if</span><span class=\"pln\"> </span><span class=\"pun\">(</span><span class=\"pln\">acertou</span><span class=\"pun\">):</span><span class=\"pln\">\n",
    "</span><span class=\"kwd\">print</span><span class=\"pun\">(</span><span class=\"str\">\"Você acertou!\"</span><span class=\"pun\">)</span><span class=\"pln\">\n",
    "</span><span class=\"kwd\">else</span><span class=\"pun\">:</span><span class=\"pln\">\n",
    "</span><span class=\"kwd\">if</span><span class=\"pln\"> </span><span class=\"pun\">(</span><span class=\"pln\">maior</span><span class=\"pun\">):</span><span class=\"pln\">\n",
    "</span><span class=\"kwd\">print</span><span class=\"pun\">(</span><span class=\"str\">\"Você errou! O seu chute foi maior que o número secreto.\"</span><span class=\"pun\">)</span><span class=\"pln\">\n",
    "</span><span class=\"kwd\">elif</span><span class=\"pln\"> </span><span class=\"pun\">(</span><span class=\"pln\">menor</span><span class=\"pun\">):</span><span class=\"pln\">\n",
    "</span><span class=\"kwd\">print</span><span class=\"pun\">(</span><span class=\"str\">\"Você errou! O seu chute foi menor que o número secreto.\"</span><span class=\"pun\">)</span><span class=\"pln\">\n",
    "\n",
    "</span><span class=\"kwd\">print</span><span class=\"pun\">(</span><span class=\"str\">\"Fim do jogo\"</span><span class=\"pun\">)</span></code></pre>\n",
    "<p>É importante saber que <strong>o <code>for</code> não deve ter parênteses</strong>.</p>\n",
    "<p>Podemos testar e ver que só fizemos 2 tentativas. Isso porque, como foi falado anteriormente, o segundo parâmetro da função <strong><code>range</code> não é inclusivo</strong>, no caso do nosso jogo, <strong>`range(1,3)</strong> irá gerar a série 1 e 2 somente. Logo vamos somar 1 ao total de tentativas dentro da função <strong><code>range</code></strong>:</p>\n",
    "<pre class=\"prettyprint\"><code><span class=\"pln\">numero_secreto </span><span class=\"pun\">=</span><span class=\"pln\"> </span><span class=\"lit\">42</span><span class=\"pln\">\n",
    "total_de_tentativas </span><span class=\"pun\">=</span><span class=\"pln\"> </span><span class=\"lit\">3</span><span class=\"pln\">\n",
    "\n",
    "</span><span class=\"kwd\">for</span><span class=\"pln\"> rodada </span><span class=\"kwd\">in</span><span class=\"pln\"> range</span><span class=\"pun\">(</span><span class=\"lit\">1</span><span class=\"pun\">,</span><span class=\"pln\"> total_de_tentativas </span><span class=\"pun\">+</span><span class=\"pln\"> </span><span class=\"lit\">1</span><span class=\"pun\">):</span><span class=\"pln\">\n",
    "</span><span class=\"kwd\">print</span><span class=\"pun\">(</span><span class=\"str\">\"Tentativa {} de {}\"</span><span class=\"pun\">.</span><span class=\"pln\">format</span><span class=\"pun\">(</span><span class=\"pln\">rodada</span><span class=\"pun\">,</span><span class=\"pln\"> total_de_tentativas</span><span class=\"pun\">))</span><span class=\"pln\">\n",
    "chute_str </span><span class=\"pun\">=</span><span class=\"pln\"> input</span><span class=\"pun\">(</span><span class=\"str\">\"Digite o seu número: \"</span><span class=\"pun\">)</span><span class=\"pln\">\n",
    "</span><span class=\"kwd\">print</span><span class=\"pun\">(</span><span class=\"str\">\"Você digitou: \"</span><span class=\"pun\">,</span><span class=\"pln\"> chute_str</span><span class=\"pun\">)</span><span class=\"pln\">\n",
    "chute </span><span class=\"pun\">=</span><span class=\"pln\"> </span><span class=\"kwd\">int</span><span class=\"pun\">(</span><span class=\"pln\">chute_str</span><span class=\"pun\">)</span><span class=\"pln\">\n",
    "\n",
    "acertou </span><span class=\"pun\">=</span><span class=\"pln\"> numero_secreto </span><span class=\"pun\">==</span><span class=\"pln\"> chute\n",
    "maior </span><span class=\"pun\">=</span><span class=\"pln\"> chute </span><span class=\"pun\">&gt;</span><span class=\"pln\"> numero_secreto\n",
    "menor </span><span class=\"pun\">=</span><span class=\"pln\"> chute </span><span class=\"pun\">&lt;</span><span class=\"pln\"> numero_secreto\n",
    "\n",
    "</span><span class=\"kwd\">if</span><span class=\"pln\"> </span><span class=\"pun\">(</span><span class=\"pln\">acertou</span><span class=\"pun\">):</span><span class=\"pln\">\n",
    "</span><span class=\"kwd\">print</span><span class=\"pun\">(</span><span class=\"str\">\"Você acertou!\"</span><span class=\"pun\">)</span><span class=\"pln\">\n",
    "</span><span class=\"kwd\">else</span><span class=\"pun\">:</span><span class=\"pln\">\n",
    "</span><span class=\"kwd\">if</span><span class=\"pln\"> </span><span class=\"pun\">(</span><span class=\"pln\">maior</span><span class=\"pun\">):</span><span class=\"pln\">\n",
    "</span><span class=\"kwd\">print</span><span class=\"pun\">(</span><span class=\"str\">\"Você errou! O seu chute foi maior que o número secreto.\"</span><span class=\"pun\">)</span><span class=\"pln\">\n",
    "</span><span class=\"kwd\">elif</span><span class=\"pln\"> </span><span class=\"pun\">(</span><span class=\"pln\">menor</span><span class=\"pun\">):</span><span class=\"pln\">\n",
    "</span><span class=\"kwd\">print</span><span class=\"pun\">(</span><span class=\"str\">\"Você errou! O seu chute foi menor que o número secreto.\"</span><span class=\"pun\">)</span><span class=\"pln\">\n",
    "\n",
    "</span><span class=\"kwd\">print</span><span class=\"pun\">(</span><span class=\"str\">\"Fim do jogo\"</span><span class=\"pun\">)</span></code></pre>\n",
    "<p>Agora podemos testar novamente o nosso jogo, e ver que tudo está funcionando perfeitamente!</p>\n",
    "\n",
    "</div>"
   ]
  },
  {
   "cell_type": "markdown",
   "metadata": {},
   "source": [
    "# Encerrando a interação e o loop\n",
    "\n",
    "<div class=\"formattedText\" data-external-links=\"\">\n",
    "<p>No nosso jogo, sabemos que o número secreto é fixo e definido com o valor 42, por enquanto. Vamos jogar e digitar esse valor de primeira:</p>\n",
    "<pre class=\"prettyprint\"><code><span class=\"pun\">*********************************</span><span class=\"pln\">\n",
    "</span><span class=\"typ\">Bem</span><span class=\"pln\"> vindo ao jogo de </span><span class=\"typ\">Adivinha</span><span class=\"pun\">çã</span><span class=\"pln\">o</span><span class=\"pun\">!</span><span class=\"pln\">\n",
    "</span><span class=\"pun\">*********************************</span><span class=\"pln\">\n",
    "</span><span class=\"typ\">Tentativa</span><span class=\"pln\"> </span><span class=\"lit\">1</span><span class=\"pln\"> de </span><span class=\"lit\">3</span><span class=\"pln\">\n",
    "</span><span class=\"typ\">Digite</span><span class=\"pln\"> o seu n</span><span class=\"pun\">ú</span><span class=\"pln\">mero</span><span class=\"pun\">:</span><span class=\"pln\"> </span><span class=\"lit\">42</span><span class=\"pln\">\n",
    "</span><span class=\"typ\">Voc</span><span class=\"pun\">ê</span><span class=\"pln\"> digitou</span><span class=\"pun\">:</span><span class=\"pln\">  </span><span class=\"lit\">42</span><span class=\"pln\">\n",
    "</span><span class=\"typ\">Voc</span><span class=\"pun\">ê</span><span class=\"pln\"> acertou</span><span class=\"pun\">!</span><span class=\"pln\">\n",
    "</span><span class=\"typ\">Tentativa</span><span class=\"pln\"> </span><span class=\"lit\">2</span><span class=\"pln\"> de </span><span class=\"lit\">3</span><span class=\"pln\">\n",
    "</span><span class=\"typ\">Digite</span><span class=\"pln\"> o seu n</span><span class=\"pun\">ú</span><span class=\"pln\">mero</span><span class=\"pun\">:</span></code></pre>\n",
    "<p>Acertamos o número, mas ainda temos uma segunda e terceira tentativas! Não faz muito sentido isso né? Se nós ganhamos, temos que parar as rodadas, não devemos continuar.</p>\n",
    "<h2>Parando o laço</h2>\n",
    "<p>Dentro do <strong><code>if</code></strong>, se acertarmos, devemos parar e sair do laço. Para isso existe um comando do Python, assim como outras linguagens, o <strong><code>break</code></strong>, que faz com que saiamos do laço:</p>\n",
    "<pre class=\"prettyprint\"><code><span class=\"kwd\">if</span><span class=\"pln\"> </span><span class=\"pun\">(</span><span class=\"pln\">acertou</span><span class=\"pun\">):</span><span class=\"pln\">\n",
    "</span><span class=\"kwd\">print</span><span class=\"pun\">(</span><span class=\"str\">\"Você acertou!\"</span><span class=\"pun\">)</span><span class=\"pln\">\n",
    "</span><span class=\"kwd\">break</span><span class=\"pln\">\n",
    "</span><span class=\"kwd\">else</span><span class=\"pun\">:</span><span class=\"pln\">\n",
    "</span><span class=\"kwd\">if</span><span class=\"pln\"> </span><span class=\"pun\">(</span><span class=\"pln\">maior</span><span class=\"pun\">):</span><span class=\"pln\">\n",
    "</span><span class=\"kwd\">print</span><span class=\"pun\">(</span><span class=\"str\">\"Você errou! O seu chute foi maior que o número secreto.\"</span><span class=\"pun\">)</span><span class=\"pln\">\n",
    "</span><span class=\"kwd\">elif</span><span class=\"pln\"> </span><span class=\"pun\">(</span><span class=\"pln\">menor</span><span class=\"pun\">):</span><span class=\"pln\">\n",
    "</span><span class=\"kwd\">print</span><span class=\"pun\">(</span><span class=\"str\">\"Você errou! O seu chute foi menor que o número secreto.\"</span><span class=\"pun\">)</span></code></pre>\n",
    "<p>Podemos agora jogar novamente e...:</p>\n",
    "<pre class=\"prettyprint\"><code><span class=\"pun\">*********************************</span><span class=\"pln\">\n",
    "</span><span class=\"typ\">Bem</span><span class=\"pln\"> vindo ao jogo de </span><span class=\"typ\">Adivinha</span><span class=\"pun\">çã</span><span class=\"pln\">o</span><span class=\"pun\">!</span><span class=\"pln\">\n",
    "</span><span class=\"pun\">*********************************</span><span class=\"pln\">\n",
    "</span><span class=\"typ\">Tentativa</span><span class=\"pln\"> </span><span class=\"lit\">1</span><span class=\"pln\"> de </span><span class=\"lit\">3</span><span class=\"pln\">\n",
    "</span><span class=\"typ\">Digite</span><span class=\"pln\"> o seu n</span><span class=\"pun\">ú</span><span class=\"pln\">mero</span><span class=\"pun\">:</span><span class=\"pln\"> </span><span class=\"lit\">42</span><span class=\"pln\">\n",
    "</span><span class=\"typ\">Voc</span><span class=\"pun\">ê</span><span class=\"pln\"> digitou</span><span class=\"pun\">:</span><span class=\"pln\">  </span><span class=\"lit\">42</span><span class=\"pln\">\n",
    "</span><span class=\"typ\">Voc</span><span class=\"pun\">ê</span><span class=\"pln\"> acertou</span><span class=\"pun\">!</span><span class=\"pln\">\n",
    "</span><span class=\"typ\">Fim</span><span class=\"pln\"> </span><span class=\"kwd\">do</span><span class=\"pln\"> jogo</span></code></pre>\n",
    "<p>Ótimo! Acertamos o número e o jogo foi encerrado, sem mais rodadas.</p>\n",
    "<h2>Limitando o número a ser digitado</h2>\n",
    "<p>Vamos limitar o número que o usuário deve digitar, de 1 a 100. Vamos deixar isso claro para ele alterando a mensagem do <strong><code>input</code></strong>:</p>\n",
    "<pre class=\"prettyprint\"><code><span class=\"kwd\">for</span><span class=\"pln\"> rodada </span><span class=\"kwd\">in</span><span class=\"pln\"> range</span><span class=\"pun\">(</span><span class=\"lit\">1</span><span class=\"pun\">,</span><span class=\"pln\"> total_de_tentativas </span><span class=\"pun\">+</span><span class=\"pln\"> </span><span class=\"lit\">1</span><span class=\"pun\">):</span><span class=\"pln\">\n",
    "</span><span class=\"kwd\">print</span><span class=\"pun\">(</span><span class=\"str\">\"Tentativa {} de {}\"</span><span class=\"pun\">.</span><span class=\"pln\">format</span><span class=\"pun\">(</span><span class=\"pln\">rodada</span><span class=\"pun\">,</span><span class=\"pln\"> total_de_tentativas</span><span class=\"pun\">))</span><span class=\"pln\">\n",
    "chute_str </span><span class=\"pun\">=</span><span class=\"pln\"> input</span><span class=\"pun\">(</span><span class=\"str\">\"Digite um número entre 1 e 100: \"</span><span class=\"pun\">)</span><span class=\"pln\">\n",
    "</span><span class=\"kwd\">print</span><span class=\"pun\">(</span><span class=\"str\">\"Você digitou: \"</span><span class=\"pun\">,</span><span class=\"pln\"> chute_str</span><span class=\"pun\">)</span><span class=\"pln\">\n",
    "chute </span><span class=\"pun\">=</span><span class=\"pln\"> </span><span class=\"kwd\">int</span><span class=\"pun\">(</span><span class=\"pln\">chute_str</span><span class=\"pun\">)</span><span class=\"pln\">\n",
    "</span><span class=\"com\">## resto do código comentado</span></code></pre>\n",
    "<p>Só que agora não devemos aceitar valores fora desse limite, logo vamos verificar o número digitado, e se ele for menor que 1 <strong>OU</strong> (em Python, a palavra chave <strong><code>or</code></strong>) maior que 100, vamos exibir uma mensagem para o usuário:</p>\n",
    "<pre class=\"prettyprint\"><code><span class=\"kwd\">for</span><span class=\"pln\"> rodada </span><span class=\"kwd\">in</span><span class=\"pln\"> range</span><span class=\"pun\">(</span><span class=\"lit\">1</span><span class=\"pun\">,</span><span class=\"pln\"> total_de_tentativas </span><span class=\"pun\">+</span><span class=\"pln\"> </span><span class=\"lit\">1</span><span class=\"pun\">):</span><span class=\"pln\">\n",
    "</span><span class=\"kwd\">print</span><span class=\"pun\">(</span><span class=\"str\">\"Tentativa {} de {}\"</span><span class=\"pun\">.</span><span class=\"pln\">format</span><span class=\"pun\">(</span><span class=\"pln\">rodada</span><span class=\"pun\">,</span><span class=\"pln\"> total_de_tentativas</span><span class=\"pun\">))</span><span class=\"pln\">\n",
    "chute_str </span><span class=\"pun\">=</span><span class=\"pln\"> input</span><span class=\"pun\">(</span><span class=\"str\">\"Digite um número entre 1 e 100: \"</span><span class=\"pun\">)</span><span class=\"pln\">\n",
    "</span><span class=\"kwd\">print</span><span class=\"pun\">(</span><span class=\"str\">\"Você digitou: \"</span><span class=\"pun\">,</span><span class=\"pln\"> chute_str</span><span class=\"pun\">)</span><span class=\"pln\">\n",
    "chute </span><span class=\"pun\">=</span><span class=\"pln\"> </span><span class=\"kwd\">int</span><span class=\"pun\">(</span><span class=\"pln\">chute_str</span><span class=\"pun\">)</span><span class=\"pln\">\n",
    "</span><span class=\"kwd\">if</span><span class=\"pln\"> </span><span class=\"pun\">(</span><span class=\"pln\">chute </span><span class=\"pun\">&lt;</span><span class=\"pln\"> </span><span class=\"lit\">1</span><span class=\"pln\"> </span><span class=\"kwd\">or</span><span class=\"pln\"> chute </span><span class=\"pun\">&gt;</span><span class=\"pln\"> </span><span class=\"lit\">100</span><span class=\"pun\">):</span><span class=\"pln\">\n",
    "</span><span class=\"kwd\">print</span><span class=\"pun\">(</span><span class=\"str\">\"Você deve digitar um número entre 1 e 100!\"</span><span class=\"pun\">)</span><span class=\"pln\">\n",
    "</span><span class=\"com\">## resto do código comentado</span></code></pre>\n",
    "<p>Mas não faz sentido continuarmos executando o código do loop se o valor não estiver no intervalo exigido. O que queremos não é sair do laço, e sim continuar para a próxima rodada, <strong>acabando com a iteração</strong>. Para isso existe a palavra chave <strong><code>continue</code></strong>:</p>\n",
    "<pre class=\"prettyprint\"><code><span class=\"kwd\">for</span><span class=\"pln\"> rodada </span><span class=\"kwd\">in</span><span class=\"pln\"> range</span><span class=\"pun\">(</span><span class=\"lit\">1</span><span class=\"pun\">,</span><span class=\"pln\"> total_de_tentativas </span><span class=\"pun\">+</span><span class=\"pln\"> </span><span class=\"lit\">1</span><span class=\"pun\">):</span><span class=\"pln\">\n",
    "</span><span class=\"kwd\">print</span><span class=\"pun\">(</span><span class=\"str\">\"Tentativa {} de {}\"</span><span class=\"pun\">.</span><span class=\"pln\">format</span><span class=\"pun\">(</span><span class=\"pln\">rodada</span><span class=\"pun\">,</span><span class=\"pln\"> total_de_tentativas</span><span class=\"pun\">))</span><span class=\"pln\">\n",
    "chute_str </span><span class=\"pun\">=</span><span class=\"pln\"> input</span><span class=\"pun\">(</span><span class=\"str\">\"Digite um número entre 1 e 100: \"</span><span class=\"pun\">)</span><span class=\"pln\">\n",
    "</span><span class=\"kwd\">print</span><span class=\"pun\">(</span><span class=\"str\">\"Você digitou: \"</span><span class=\"pun\">,</span><span class=\"pln\"> chute_str</span><span class=\"pun\">)</span><span class=\"pln\">\n",
    "chute </span><span class=\"pun\">=</span><span class=\"pln\"> </span><span class=\"kwd\">int</span><span class=\"pun\">(</span><span class=\"pln\">chute_str</span><span class=\"pun\">)</span><span class=\"pln\">\n",
    "</span><span class=\"kwd\">if</span><span class=\"pln\"> </span><span class=\"pun\">(</span><span class=\"pln\">chute </span><span class=\"pun\">&lt;</span><span class=\"pln\"> </span><span class=\"lit\">1</span><span class=\"pln\"> </span><span class=\"kwd\">or</span><span class=\"pln\"> chute </span><span class=\"pun\">&gt;</span><span class=\"pln\"> </span><span class=\"lit\">100</span><span class=\"pun\">):</span><span class=\"pln\">\n",
    "</span><span class=\"kwd\">print</span><span class=\"pun\">(</span><span class=\"str\">\"Você deve digitar um número entre 1 e 100!\"</span><span class=\"pun\">)</span><span class=\"pln\">\n",
    "</span><span class=\"kwd\">continue</span><span class=\"pln\">\n",
    "</span><span class=\"com\">## resto do código comentado</span></code></pre>\n",
    "<p>Esse comando faz com que a iteração do laço acabe, e comece a próxima. Vamos testar:</p>\n",
    "<pre class=\"prettyprint\"><code><span class=\"pun\">*********************************</span><span class=\"pln\">\n",
    "</span><span class=\"typ\">Bem</span><span class=\"pln\"> vindo ao jogo de </span><span class=\"typ\">Adivinha</span><span class=\"pun\">çã</span><span class=\"pln\">o</span><span class=\"pun\">!</span><span class=\"pln\">\n",
    "</span><span class=\"pun\">*********************************</span><span class=\"pln\">\n",
    "</span><span class=\"typ\">Tentativa</span><span class=\"pln\"> </span><span class=\"lit\">1</span><span class=\"pln\"> de </span><span class=\"lit\">3</span><span class=\"pln\">\n",
    "</span><span class=\"typ\">Digite</span><span class=\"pln\"> um n</span><span class=\"pun\">ú</span><span class=\"pln\">mero entre </span><span class=\"lit\">1</span><span class=\"pln\"> e </span><span class=\"lit\">100</span><span class=\"pun\">:</span><span class=\"pln\"> </span><span class=\"lit\">0</span><span class=\"pln\">\n",
    "</span><span class=\"typ\">Voc</span><span class=\"pun\">ê</span><span class=\"pln\"> digitou</span><span class=\"pun\">:</span><span class=\"pln\">  </span><span class=\"lit\">0</span><span class=\"pln\">\n",
    "</span><span class=\"typ\">Voc</span><span class=\"pun\">ê</span><span class=\"pln\"> deve digitar um n</span><span class=\"pun\">ú</span><span class=\"pln\">mero entre </span><span class=\"lit\">1</span><span class=\"pln\"> e </span><span class=\"lit\">100</span><span class=\"pun\">!</span><span class=\"pln\">\n",
    "</span><span class=\"typ\">Tentativa</span><span class=\"pln\"> </span><span class=\"lit\">2</span><span class=\"pln\"> de </span><span class=\"lit\">3</span><span class=\"pln\">\n",
    "</span><span class=\"typ\">Digite</span><span class=\"pln\"> um n</span><span class=\"pun\">ú</span><span class=\"pln\">mero entre </span><span class=\"lit\">1</span><span class=\"pln\"> e </span><span class=\"lit\">100</span><span class=\"pun\">:</span></code></pre>\n",
    "<p>Perfeito! O número digitado era incorreto, então fomos para a próxima tentativa.</p>\n",
    "<p>Então vimos aqui o <strong><code>break</code></strong>, que acaba, encerra o laço; e o <strong><code>continue</code></strong>, que acaba, encerra a iteração, continuando para a próxima.</p>\n",
    "</div>"
   ]
  },
  {
   "cell_type": "markdown",
   "metadata": {},
   "source": [
    "#  Para saber mais sobre a formatação de strings\n",
    "\n",
    "<div class=\"formattedText\" data-external-links=\"\">\n",
    "<p>Segue o link da documentação que mencionei no video, nele tem vários exemplos de formatação:</p>\n",
    "<p><a href=\"https://docs.python.org/3/library/string.html#formatexamples\" rel=\"nofollow noopener\" target=\"_blank\">https://docs.python.org/3/library/string.html#formatexamples</a></p>\n",
    "<p>Nesse vídeo veremos um pouco mais sobre interpolação de strings. Para isso, vamos utilizar o console do Python 3.</p>\n",
    "<p>No capítulo anterior, fizemos uma interpolação semelhante a essa:</p>\n",
    "<pre class=\"prettyprint\"><code><span class=\"pun\">&gt;&gt;&gt;</span><span class=\"pln\"> </span><span class=\"kwd\">print</span><span class=\"pun\">(</span><span class=\"str\">\"Tentativa {} de {}\"</span><span class=\"pun\">.</span><span class=\"pln\">format</span><span class=\"pun\">(</span><span class=\"lit\">1</span><span class=\"pun\">,</span><span class=\"pln\"> </span><span class=\"lit\">3</span><span class=\"pun\">))</span></code></pre>\n",
    "<p>Essa interpolação é útil para formatação de strings, quando temos um texto muito grande e precisamos inserir valores no meio dele, ao invés de ficarmos concatenando, trabalhando com várias strings separadas.</p>\n",
    "<p>Mas a função <strong><code>format</code></strong> tem outras utilidades, então veremos mais alguns detalhes sobre essa função. O primeiro detalhe que veremos é que os parâmetros podem ser invertidos na string. Podemos dizer que queremos nas primeiras chaves o segundo parâmetro da função, e o primeiro parâmetro nas segundas chaves.</p>\n",
    "<p>Fazemos isso passando o <strong>índice do parâmetro</strong> dentro das chaves. O primeiro parâmetro tem índice <strong>0</strong>, o segundo <strong>1</strong>, e daí por diante. Logo, basta passar o índice 1 nas primeiras chaves e o 0 nas segundas chaves:</p>\n",
    "<pre class=\"prettyprint\"><code><span class=\"pun\">&gt;&gt;&gt;</span><span class=\"pln\"> </span><span class=\"kwd\">print</span><span class=\"pun\">(</span><span class=\"str\">\"Tentativa {1} de {0}\"</span><span class=\"pun\">.</span><span class=\"pln\">format</span><span class=\"pun\">(</span><span class=\"lit\">1</span><span class=\"pun\">,</span><span class=\"pln\"> </span><span class=\"lit\">3</span><span class=\"pun\">))</span><span class=\"pln\">\n",
    "</span><span class=\"typ\">Tentativa</span><span class=\"pln\"> </span><span class=\"lit\">3</span><span class=\"pln\"> de </span><span class=\"lit\">1</span></code></pre>\n",
    "<h2>Formatação de floats</h2>\n",
    "<p>Agora vamos trocar o exemplo, e formatar um valor em reais, por exemplo:</p>\n",
    "<pre class=\"prettyprint\"><code><span class=\"pun\">&gt;&gt;&gt;</span><span class=\"pln\"> </span><span class=\"kwd\">print</span><span class=\"pun\">(</span><span class=\"str\">\"RS {}\" </span><span class=\"pun\">.</span><span class=\"pln\">format</span><span class=\"pun\">(</span><span class=\"lit\">1.59</span><span class=\"pun\">))</span><span class=\"pln\">\n",
    "RS </span><span class=\"lit\">1.59</span></code></pre>\n",
    "<p>Só que um valor pode ter vários tamanhos e até duas casas decimais, por exemplo:</p>\n",
    "<pre class=\"prettyprint\"><code><span class=\"lit\">1.59</span><span class=\"pln\">\n",
    "</span><span class=\"lit\">45.9</span><span class=\"pln\">\n",
    "</span><span class=\"lit\">1234.97</span></code></pre>\n",
    "<p>O ideal é que esses valores sempre tenham a mesma formatação:</p>\n",
    "<pre class=\"prettyprint\"><code><span class=\"pln\">   </span><span class=\"lit\">1.59</span><span class=\"pln\">\n",
    "</span><span class=\"lit\">45.9</span><span class=\"pln\">\n",
    "</span><span class=\"lit\">1234.97</span></code></pre>\n",
    "<p>Então precisamos preencher as lacunas, os espaços em branco. E a função <strong><code>format</code></strong> faz isso para nós. Primeiro precisamos dizer para ela que estamos recebendo um valor do tipo <strong>float</strong>, passando <strong><code>:f</code></strong> dentro das chaves da string:</p>\n",
    "<pre class=\"prettyprint\"><code><span class=\"pun\">&gt;&gt;&gt;</span><span class=\"pln\"> </span><span class=\"kwd\">print</span><span class=\"pun\">(</span><span class=\"str\">\"RS {:f}\"</span><span class=\"pun\">.</span><span class=\"pln\">format</span><span class=\"pun\">(</span><span class=\"lit\">1.59</span><span class=\"pun\">))</span><span class=\"pln\">\n",
    "RS </span><span class=\"lit\">1.590000</span></code></pre>\n",
    "<p>Podemos reparar que só de dizer que estamos passando um float, a formatação já muda, mas podemos manipulá-la, modificá-la, dizendo quantos números devem vir antes e depois do ponto. Queremos que após o ponto tenha apenas 2 números, logo:</p>\n",
    "<pre class=\"prettyprint\"><code><span class=\"pun\">&gt;&gt;&gt;</span><span class=\"pln\"> </span><span class=\"kwd\">print</span><span class=\"pun\">(</span><span class=\"str\">\"RS {:.2f}\"</span><span class=\"pun\">.</span><span class=\"pln\">format</span><span class=\"pun\">(</span><span class=\"lit\">1.59</span><span class=\"pun\">))</span><span class=\"pln\">\n",
    "RS </span><span class=\"lit\">1.59</span></code></pre>\n",
    "<p>Podemos testar passando um número de apenas uma casa decimal:</p>\n",
    "<pre class=\"prettyprint\"><code><span class=\"pun\">&gt;&gt;&gt;</span><span class=\"pln\"> </span><span class=\"kwd\">print</span><span class=\"pun\">(</span><span class=\"str\">\"RS {:.2f}\"</span><span class=\"pun\">.</span><span class=\"pln\">format</span><span class=\"pun\">(</span><span class=\"lit\">1.5</span><span class=\"pun\">))</span><span class=\"pln\">\n",
    "RS </span><span class=\"lit\">1.50</span></code></pre>\n",
    "<p>Ótimo, agora vamos testar com um número maior:</p>\n",
    "<pre class=\"prettyprint\"><code><span class=\"pun\">&gt;&gt;&gt;</span><span class=\"pln\"> </span><span class=\"kwd\">print</span><span class=\"pun\">(</span><span class=\"str\">\"RS {:.2f}\"</span><span class=\"pun\">.</span><span class=\"pln\">format</span><span class=\"pun\">(</span><span class=\"lit\">1.5</span><span class=\"pun\">))</span><span class=\"pln\">\n",
    "RS </span><span class=\"lit\">1.50</span><span class=\"pln\">\n",
    "</span><span class=\"pun\">&gt;&gt;&gt;</span><span class=\"pln\"> </span><span class=\"kwd\">print</span><span class=\"pun\">(</span><span class=\"str\">\"RS {:.2f}\"</span><span class=\"pun\">.</span><span class=\"pln\">format</span><span class=\"pun\">(</span><span class=\"lit\">1234.50</span><span class=\"pun\">))</span><span class=\"pln\">\n",
    "RS </span><span class=\"lit\">1234.50</span></code></pre>\n",
    "<p>Mas queremos que o ponto fique sempre no mesmo local, ou seja, ele deve ser o quinto caractere. Para essa formatação, precisamos dizer quantos caracteres o número terá no máximo, no nosso caso são 7 (4 números, mais o ponto, mais as duas casas decimais). Então vamos passar o valor 7 dentro das chaves também:</p>\n",
    "<pre class=\"prettyprint\"><code><span class=\"pun\">&gt;&gt;&gt;</span><span class=\"pln\"> </span><span class=\"kwd\">print</span><span class=\"pun\">(</span><span class=\"str\">\"RS {:7.2f}\"</span><span class=\"pun\">.</span><span class=\"pln\">format</span><span class=\"pun\">(</span><span class=\"lit\">1234.50</span><span class=\"pun\">))</span><span class=\"pln\">\n",
    "RS </span><span class=\"lit\">1234.50</span><span class=\"pln\">\n",
    "</span><span class=\"pun\">&gt;&gt;&gt;</span><span class=\"pln\"> </span><span class=\"kwd\">print</span><span class=\"pun\">(</span><span class=\"str\">\"RS {:7.2f}\"</span><span class=\"pun\">.</span><span class=\"pln\">format</span><span class=\"pun\">(</span><span class=\"lit\">1.5</span><span class=\"pun\">))</span><span class=\"pln\">\n",
    "RS    </span><span class=\"lit\">1.50</span></code></pre>\n",
    "<p>Ou seja, dos 7 caracteres, os três últimos serão o ponto mais dois números das casas decimais.</p>\n",
    "<p>Agora espaços ficam na frente quando um número for menor! Deixando o ponto sempre como quinto caractere. Se quisermos preencher os espaços em branco com zeros, é só passar um 0 antes do 7:</p>\n",
    "<pre class=\"prettyprint\"><code><span class=\"pun\">&gt;&gt;&gt;</span><span class=\"pln\"> </span><span class=\"kwd\">print</span><span class=\"pun\">(</span><span class=\"str\">\"RS {:07.2f}\"</span><span class=\"pun\">.</span><span class=\"pln\">format</span><span class=\"pun\">(</span><span class=\"lit\">1.5</span><span class=\"pun\">))</span><span class=\"pln\">\n",
    "RS </span><span class=\"lit\">0001.50</span></code></pre>\n",
    "<h2>Formatação de inteiros</h2>\n",
    "<p>Conseguimos formatar números inteiros também, não só números flutuantes. Para números inteiros, passamos a letra <strong><code>d</code></strong>:</p>\n",
    "<pre class=\"prettyprint\"><code><span class=\"pun\">&gt;&gt;&gt;</span><span class=\"pln\"> </span><span class=\"kwd\">print</span><span class=\"pun\">(</span><span class=\"str\">\"RS {:07d}\"</span><span class=\"pun\">.</span><span class=\"pln\">format</span><span class=\"pun\">(</span><span class=\"lit\">4</span><span class=\"pun\">))</span><span class=\"pln\">\n",
    "RS </span><span class=\"lit\">0000004</span></code></pre>\n",
    "<p>Podemos usar isso para formatar uma data:</p>\n",
    "<pre class=\"prettyprint\"><code><span class=\"pun\">&gt;&gt;&gt;</span><span class=\"pln\"> </span><span class=\"kwd\">print</span><span class=\"pun\">(</span><span class=\"str\">\"Data {:02d}/{:02d}\"</span><span class=\"pun\">.</span><span class=\"pln\">format</span><span class=\"pun\">(</span><span class=\"lit\">9</span><span class=\"pun\">,</span><span class=\"pln\"> </span><span class=\"lit\">4</span><span class=\"pun\">))</span><span class=\"pln\">\n",
    "</span><span class=\"typ\">Data</span><span class=\"pln\"> </span><span class=\"lit\">09</span><span class=\"pun\">/</span><span class=\"lit\">04</span><span class=\"pln\">\n",
    "</span><span class=\"pun\">&gt;&gt;&gt;</span><span class=\"pln\"> </span><span class=\"kwd\">print</span><span class=\"pun\">(</span><span class=\"str\">\"Data {:02d}/{:02d}\"</span><span class=\"pun\">.</span><span class=\"pln\">format</span><span class=\"pun\">(</span><span class=\"lit\">19</span><span class=\"pun\">,</span><span class=\"pln\"> </span><span class=\"lit\">11</span><span class=\"pun\">))</span><span class=\"pln\">\n",
    "</span><span class=\"typ\">Data</span><span class=\"pln\"> </span><span class=\"lit\">19</span><span class=\"pun\">/</span><span class=\"lit\">11</span></code></pre>\n",
    "<p>Não se preocupe em decorar a sintaxe, o importante é saber que no Python existe a funcionalidade de interpolação de strings, e quando vocês realmente precisarem usar isso, olhem na <a href=\"https://docs.python.org/3/library/string.html#formatexamples\" rel=\"nofollow noopener\" target=\"_blank\">documentação</a>.</p>\n",
    "\n",
    "</div>"
   ]
  },
  {
   "cell_type": "code",
   "execution_count": null,
   "metadata": {},
   "outputs": [],
   "source": []
  }
 ],
 "metadata": {
  "kernelspec": {
   "display_name": "Python 3",
   "language": "python",
   "name": "python3"
  },
  "language_info": {
   "codemirror_mode": {
    "name": "ipython",
    "version": 3
   },
   "file_extension": ".py",
   "mimetype": "text/x-python",
   "name": "python",
   "nbconvert_exporter": "python",
   "pygments_lexer": "ipython3",
   "version": "3.7.3"
  }
 },
 "nbformat": 4,
 "nbformat_minor": 2
}
