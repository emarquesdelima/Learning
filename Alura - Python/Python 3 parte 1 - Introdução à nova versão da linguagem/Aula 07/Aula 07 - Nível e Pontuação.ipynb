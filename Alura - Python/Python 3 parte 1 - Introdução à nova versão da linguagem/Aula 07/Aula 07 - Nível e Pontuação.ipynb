{
 "cells": [
  {
   "cell_type": "markdown",
   "metadata": {},
   "source": [
    "# Adicionando Nível e Pontuação"
   ]
  },
  {
   "cell_type": "markdown",
   "metadata": {},
   "source": [
    "## Código"
   ]
  },
  {
   "cell_type": "code",
   "execution_count": 1,
   "metadata": {},
   "outputs": [
    {
     "name": "stdout",
     "output_type": "stream",
     "text": [
      "*********************************\n",
      "Bem vindo ao jogo de Adivinhação!\n",
      "*********************************\n",
      "Tentativa: 0 de 3\n",
      "Digite um número entre 1 e 100: 50\n",
      "Você digitou:  50\n",
      "Você errou! O chute foi maior que o número secreto!\n",
      "Fim do jogo\n",
      "Tentativa: 1 de 3\n",
      "Digite um número entre 1 e 100: 25\n",
      "Você digitou:  25\n",
      "Você errou! O chute foi maior que o número secreto!\n",
      "Fim do jogo\n",
      "Tentativa: 2 de 3\n",
      "Digite um número entre 1 e 100: 13\n",
      "Você digitou:  13\n",
      "Você errou! O chute foi maior que o número secreto!\n",
      "Fim do jogo\n"
     ]
    }
   ],
   "source": [
    "import random\n",
    "\n",
    "print(\"*********************************\")\n",
    "print(\"Bem vindo ao jogo de Adivinhação!\")\n",
    "print(\"*********************************\")\n",
    "\n",
    "numero_secreto = random.randrange(1,101)\n",
    "total_de_tentativas = 3 \n",
    "rodada = 1\n",
    "\n",
    "for rodada in range(total_de_tentativas):\n",
    "    print('Tentativa: {} de {}'.format(rodada, total_de_tentativas))\n",
    "    chute_str = input(\"Digite um número entre 1 e 100: \")\n",
    "    print(\"Você digitou: \", chute_str)\n",
    "    chute = int(chute_str)\n",
    "\n",
    "    if(chute < 1 or chute > 100):\n",
    "        print('Digite um número entre 1 e 100')\n",
    "        continue\n",
    "\n",
    "    acertou = numero_secreto == chute\n",
    "    maior = chute > numero_secreto\n",
    "    menor = chute < numero_secreto\n",
    "\n",
    "    if (acertou):\n",
    "        print(\"Você acertou!\")\n",
    "        break\n",
    "    else:\n",
    "        if (maior):\n",
    "            print(\"Você errou! O chute foi maior que o número secreto!\")\n",
    "        elif (menor):\n",
    "            print(\"Você errou! O chute foi menor que o número secreto!\")\n",
    "\n",
    "print(\"Fim do jogo\")"
   ]
  },
  {
   "cell_type": "markdown",
   "metadata": {},
   "source": [
    "## Adicionando níveis ao jogo"
   ]
  },
  {
   "cell_type": "markdown",
   "metadata": {},
   "source": [
    "Vamos implementar 3 níveis de dificuldade no jogo, primeiro vamos mostrar para o jogador com a função <code>print()</code> quais são os níveis disponíveis e depois pedir um imput do usuário para definir uma variável que guardará o nível do jogo e converterá o valor para um número inteiro"
   ]
  },
  {
   "cell_type": "code",
   "execution_count": 3,
   "metadata": {},
   "outputs": [
    {
     "name": "stdout",
     "output_type": "stream",
     "text": [
      "Qual Nível de Dificuldade?\n",
      "(1) Fácil (2) Médio (3) Difícil\n",
      "Defina o nível do jogo: 3\n"
     ]
    }
   ],
   "source": [
    "print('Qual Nível de Dificuldade?')\n",
    "print('(1) Fácil (2) Médio (3) Difícil')\n",
    "\n",
    "nivel = int(input('Defina o nível do jogo: '))"
   ]
  },
  {
   "cell_type": "markdown",
   "metadata": {},
   "source": [
    "Agora precisamos fazer com que o total de tentativas sejam alterados de acordo com o nível selecionado com uma função if"
   ]
  },
  {
   "cell_type": "code",
   "execution_count": 4,
   "metadata": {},
   "outputs": [],
   "source": [
    "total_de_tentativas = 0\n",
    "\n",
    "if (nivel == 1):\n",
    "    total_de_tentativas = 20\n",
    "elif (nivel == 2):\n",
    "    total_de_tentativas = 10\n",
    "else:\n",
    "    total_de_tentativas = 5"
   ]
  },
  {
   "cell_type": "markdown",
   "metadata": {},
   "source": [
    "Agora podemos implementar isso no código para testarmos"
   ]
  },
  {
   "cell_type": "code",
   "execution_count": 6,
   "metadata": {},
   "outputs": [
    {
     "name": "stdout",
     "output_type": "stream",
     "text": [
      "*********************************\n",
      "Bem vindo ao jogo de Adivinhação!\n",
      "*********************************\n",
      "Qual Nível de Dificuldade?\n",
      "(1) Fácil (2) Médio (3) Difícil\n",
      "Defina o nível do jogo: 2\n",
      "Tentativa: 1 de 10\n",
      "Digite um número entre 1 e 100: 50\n",
      "Você digitou:  50\n",
      "Você errou! O chute foi menor que o número secreto!\n",
      "Tentativa: 2 de 10\n",
      "Digite um número entre 1 e 100: 75\n",
      "Você digitou:  75\n",
      "Você errou! O chute foi maior que o número secreto!\n",
      "Tentativa: 3 de 10\n",
      "Digite um número entre 1 e 100: 62\n",
      "Você digitou:  62\n",
      "Você errou! O chute foi maior que o número secreto!\n",
      "Tentativa: 4 de 10\n",
      "Digite um número entre 1 e 100: 56\n",
      "Você digitou:  56\n",
      "Você errou! O chute foi menor que o número secreto!\n",
      "Tentativa: 5 de 10\n",
      "Digite um número entre 1 e 100: 59\n",
      "Você digitou:  59\n",
      "Você errou! O chute foi maior que o número secreto!\n",
      "Tentativa: 6 de 10\n",
      "Digite um número entre 1 e 100: 58\n",
      "Você digitou:  58\n",
      "Você errou! O chute foi maior que o número secreto!\n",
      "Tentativa: 7 de 10\n",
      "Digite um número entre 1 e 100: 57\n",
      "Você digitou:  57\n",
      "Você acertou!\n",
      "Fim do jogo\n"
     ]
    }
   ],
   "source": [
    "import random\n",
    "\n",
    "print(\"*********************************\")\n",
    "print(\"Bem vindo ao jogo de Adivinhação!\")\n",
    "print(\"*********************************\")\n",
    "\n",
    "numero_secreto = random.randrange(1,101)\n",
    "total_de_tentativas = 0 \n",
    "\n",
    "print('Qual Nível de Dificuldade?')\n",
    "print('(1) Fácil (2) Médio (3) Difícil')\n",
    "\n",
    "nivel = int(input('Defina o nível do jogo: '))\n",
    "\n",
    "if (nivel == 1):\n",
    "    total_de_tentativas = 20\n",
    "elif (nivel == 2):\n",
    "    total_de_tentativas = 10\n",
    "else:\n",
    "    total_de_tentativas = 5\n",
    "\n",
    "for rodada in range(total_de_tentativas):\n",
    "    print('Tentativa: {} de {}'.format(rodada+1, total_de_tentativas))\n",
    "    chute_str = input(\"Digite um número entre 1 e 100: \")\n",
    "    print(\"Você digitou: \", chute_str)\n",
    "    chute = int(chute_str)\n",
    "\n",
    "    if(chute < 1 or chute > 100):\n",
    "        print('Digite um número entre 1 e 100')\n",
    "        continue\n",
    "\n",
    "    acertou = numero_secreto == chute\n",
    "    maior = chute > numero_secreto\n",
    "    menor = chute < numero_secreto\n",
    "\n",
    "    if (acertou):\n",
    "        print(\"Você acertou!\")\n",
    "        break\n",
    "    else:\n",
    "        if (maior):\n",
    "            print(\"Você errou! O chute foi maior que o número secreto!\")\n",
    "        elif (menor):\n",
    "            print(\"Você errou! O chute foi menor que o número secreto!\")\n",
    "\n",
    "print(\"Fim do jogo\")"
   ]
  },
  {
   "cell_type": "markdown",
   "metadata": {},
   "source": [
    "## Definindo uma pontuação para o jogo"
   ]
  },
  {
   "cell_type": "markdown",
   "metadata": {},
   "source": [
    "Nessa etapa vamos definir uma pontuação para o jogador, e a regra da pontuação é que o jogador começa com 1000 pontos e a cada tentativa ele perderá uma quantidade de pontos relativa a distância do número que ele chutou para o número correto. Podemos fazer essa implementação da seguinte maneira:"
   ]
  },
  {
   "cell_type": "code",
   "execution_count": 13,
   "metadata": {},
   "outputs": [
    {
     "name": "stdout",
     "output_type": "stream",
     "text": [
      "*********************************\n",
      "Bem vindo ao jogo de Adivinhação!\n",
      "*********************************\n",
      "Qual Nível de Dificuldade?\n",
      "(1) Fácil (2) Médio (3) Difícil\n",
      "Defina o nível do jogo: \n"
     ]
    },
    {
     "ename": "ValueError",
     "evalue": "invalid literal for int() with base 10: ''",
     "output_type": "error",
     "traceback": [
      "\u001b[1;31m---------------------------------------------------------------------------\u001b[0m",
      "\u001b[1;31mValueError\u001b[0m                                Traceback (most recent call last)",
      "\u001b[1;32m<ipython-input-13-668a4cbd9877>\u001b[0m in \u001b[0;36m<module>\u001b[1;34m\u001b[0m\n\u001b[0;32m     12\u001b[0m \u001b[0mprint\u001b[0m\u001b[1;33m(\u001b[0m\u001b[1;34m'(1) Fácil (2) Médio (3) Difícil'\u001b[0m\u001b[1;33m)\u001b[0m\u001b[1;33m\u001b[0m\u001b[1;33m\u001b[0m\u001b[0m\n\u001b[0;32m     13\u001b[0m \u001b[1;33m\u001b[0m\u001b[0m\n\u001b[1;32m---> 14\u001b[1;33m \u001b[0mnivel\u001b[0m \u001b[1;33m=\u001b[0m \u001b[0mint\u001b[0m\u001b[1;33m(\u001b[0m\u001b[0minput\u001b[0m\u001b[1;33m(\u001b[0m\u001b[1;34m'Defina o nível do jogo: '\u001b[0m\u001b[1;33m)\u001b[0m\u001b[1;33m)\u001b[0m\u001b[1;33m\u001b[0m\u001b[1;33m\u001b[0m\u001b[0m\n\u001b[0m\u001b[0;32m     15\u001b[0m \u001b[1;33m\u001b[0m\u001b[0m\n\u001b[0;32m     16\u001b[0m \u001b[1;32mif\u001b[0m \u001b[1;33m(\u001b[0m\u001b[0mnivel\u001b[0m \u001b[1;33m==\u001b[0m \u001b[1;36m1\u001b[0m\u001b[1;33m)\u001b[0m\u001b[1;33m:\u001b[0m\u001b[1;33m\u001b[0m\u001b[1;33m\u001b[0m\u001b[0m\n",
      "\u001b[1;31mValueError\u001b[0m: invalid literal for int() with base 10: ''"
     ]
    }
   ],
   "source": [
    "import random\n",
    "\n",
    "print(\"*********************************\")\n",
    "print(\"Bem vindo ao jogo de Adivinhação!\")\n",
    "print(\"*********************************\")\n",
    "\n",
    "numero_secreto = random.randrange(1,101)\n",
    "total_de_tentativas = 0\n",
    "pontos = 1000 #Criação da variável que representa os pontos\n",
    "\n",
    "print('Qual Nível de Dificuldade?')\n",
    "print('(1) Fácil (2) Médio (3) Difícil')\n",
    "\n",
    "nivel = int(input('Defina o nível do jogo: '))\n",
    "\n",
    "if (nivel == 1):\n",
    "    total_de_tentativas = 20\n",
    "elif (nivel == 2):\n",
    "    total_de_tentativas = 10\n",
    "else:\n",
    "    total_de_tentativas = 5\n",
    "\n",
    "for rodada in range(total_de_tentativas):\n",
    "    print('Tentativa: {} de {}'.format(rodada+1, total_de_tentativas))\n",
    "    chute_str = input(\"Digite um número entre 1 e 100: \")\n",
    "    print(\"Você digitou: \", chute_str)\n",
    "    chute = int(chute_str)\n",
    "\n",
    "    if(chute < 1 or chute > 100):\n",
    "        print('Digite um número entre 1 e 100')\n",
    "        continue\n",
    "\n",
    "    acertou = numero_secreto == chute\n",
    "    maior = chute > numero_secreto\n",
    "    menor = chute < numero_secreto\n",
    "\n",
    "    if (acertou):\n",
    "        print(\"Você acertou e fez {} pontos!\".format(pontos)) #Mostrando a quantidade de pontos quando vence\n",
    "        break\n",
    "    else:\n",
    "        if (maior):\n",
    "            print(\"Você errou! O chute foi maior que o número secreto!\")\n",
    "        elif (menor):\n",
    "            print(\"Você errou! O chute foi menor que o número secreto!\")\n",
    "        pontos_perdidos = abs(numero_secreto - chute) #Calcula quantos pontos serão perdidos\n",
    "        pontos = pontos - pontos_perdidos #Subtrai os pontos perdidos do total de pontos\n",
    "\n",
    "print(\"Fim do jogo\")"
   ]
  },
  {
   "cell_type": "code",
   "execution_count": null,
   "metadata": {},
   "outputs": [],
   "source": []
  }
 ],
 "metadata": {
  "kernelspec": {
   "display_name": "Python 3",
   "language": "python",
   "name": "python3"
  },
  "language_info": {
   "codemirror_mode": {
    "name": "ipython",
    "version": 3
   },
   "file_extension": ".py",
   "mimetype": "text/x-python",
   "name": "python",
   "nbconvert_exporter": "python",
   "pygments_lexer": "ipython3",
   "version": "3.7.3"
  }
 },
 "nbformat": 4,
 "nbformat_minor": 2
}
