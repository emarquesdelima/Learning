{
 "cells": [
  {
   "cell_type": "markdown",
   "metadata": {},
   "source": [
    "# Conhecendo e trabalhando com Tuplas"
   ]
  },
  {
   "cell_type": "markdown",
   "metadata": {},
   "source": [
    "## Código Anterior"
   ]
  },
  {
   "cell_type": "code",
   "execution_count": 1,
   "metadata": {},
   "outputs": [],
   "source": [
    "def jogar():\n",
    "    print(\"*********************************\")\n",
    "    print(\"***Bem vindo ao jogo de Forca!***\")\n",
    "    print(\"*********************************\")\n",
    "    \n",
    "    palavra_secreta = 'banana'\n",
    "    letras_acertadas = ['_','_','_','_','_','_',] #Criando a lista com as letras escondidas\n",
    "    \n",
    "    enforcou = False\n",
    "    acertou = False\n",
    "    \n",
    "    print(letras_acertadas) #Aqui vamos mostrar a nossa palavra secreta antes de perguntar uma letra\n",
    "    \n",
    "    while (not enforcou and not acertou):\n",
    "        \n",
    "        chute = input('Chute uma letra: ')\n",
    "        chute = chute.strip()\n",
    "        \n",
    "        index = 0\n",
    "        for letra in palavra:\n",
    "            if (chute.upper() == letra.upper()):\n",
    "                #print('Encontrei a letra {} na posição {}'.format(letra, index)) | Não vamos mais utilizar essa linha\n",
    "                letras_acertadas[index] = letra #Com esse código nós acessamos a posição da letra que ele acertou e salvamos a letra correta no lugar\n",
    "            index = index +1\n",
    "            \n",
    "        print (letras_acertadas) #Aqui vamos retirar o print genérico anterior e vamos mostra como está a lista\n",
    "        \n",
    "\n",
    "    print(\"Fim do jogo\")"
   ]
  },
  {
   "cell_type": "markdown",
   "metadata": {},
   "source": [
    "## O que sao Tuplas "
   ]
  },
  {
   "cell_type": "markdown",
   "metadata": {},
   "source": [
    "Tuplas sao listas imutaveis, sao iguais listas, sao declaradas com parenteses e nao mudam mais"
   ]
  },
  {
   "cell_type": "code",
   "execution_count": null,
   "metadata": {},
   "outputs": [],
   "source": []
  }
 ],
 "metadata": {
  "kernelspec": {
   "display_name": "Python 3",
   "language": "python",
   "name": "python3"
  },
  "language_info": {
   "codemirror_mode": {
    "name": "ipython",
    "version": 3
   },
   "file_extension": ".py",
   "mimetype": "text/x-python",
   "name": "python",
   "nbconvert_exporter": "python",
   "pygments_lexer": "ipython3",
   "version": "3.7.3"
  }
 },
 "nbformat": 4,
 "nbformat_minor": 2
}
