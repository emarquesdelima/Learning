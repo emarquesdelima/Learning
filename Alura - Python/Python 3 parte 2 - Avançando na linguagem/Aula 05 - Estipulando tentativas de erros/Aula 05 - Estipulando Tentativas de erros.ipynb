{
 "cells": [
  {
   "cell_type": "markdown",
   "metadata": {},
   "source": [
    "# Estipulando tentativas de erros"
   ]
  },
  {
   "cell_type": "markdown",
   "metadata": {},
   "source": [
    "## Código"
   ]
  },
  {
   "cell_type": "code",
   "execution_count": 1,
   "metadata": {},
   "outputs": [],
   "source": [
    "def jogar():\n",
    "    print(\"*********************************\")\n",
    "    print(\"***Bem vindo ao jogo de Forca!***\")\n",
    "    print(\"*********************************\")\n",
    "    \n",
    "    palavra_secreta = 'banana'\n",
    "    letras_acertadas = ['_','_','_','_','_','_',]\n",
    "    \n",
    "    enforcou = False\n",
    "    acertou = False\n",
    "        \n",
    "    print(letras_acertadas)\n",
    "    \n",
    "    while (not enforcou and not acertou):\n",
    "        \n",
    "        chute = input('Chute uma letra: ')\n",
    "        chute = chute.strip()\n",
    "        \n",
    "        index = 0\n",
    "        for letra in palavra:\n",
    "            if (chute.upper() == letra.upper()):\n",
    "                letras_acertadas[index] = letra\n",
    "            index = index +1\n",
    "            \n",
    "        print (letras_acertadas)\n",
    "        \n",
    "\n",
    "    print(\"Fim do jogo\")"
   ]
  },
  {
   "cell_type": "markdown",
   "metadata": {},
   "source": [
    "Atualmente nosso jogo está em um loop infinito, em que mesmo você errando infinitas vezes ou acertanto a palavra ele continua. Temos que arrumar isso.\n",
    "\n",
    "Primeiro vamos definir a quantidade de vezes que nosso usuário pode errar"
   ]
  },
  {
   "cell_type": "code",
   "execution_count": 2,
   "metadata": {},
   "outputs": [],
   "source": [
    "def jogar():\n",
    "    print(\"*********************************\")\n",
    "    print(\"***Bem vindo ao jogo de Forca!***\")\n",
    "    print(\"*********************************\")\n",
    "    \n",
    "    palavra_secreta = 'banana'\n",
    "    letras_acertadas = ['_','_','_','_','_','_',]\n",
    "    \n",
    "    enforcou = False\n",
    "    acertou = False\n",
    "    erros = 0 #Com essa variável vamos contabilizar a quantidade de erros do usuário\n",
    "        \n",
    "    print(letras_acertadas)\n",
    "    \n",
    "    while (not enforcou and not acertou):\n",
    "        \n",
    "        chute = input('Chute uma letra: ')\n",
    "        chute = chute.strip()\n",
    "        \n",
    "        if(chute in palavra_secreta): #Vamos utilizar um If para verificar se o usuário acertou a letra\n",
    "            index = 0\n",
    "            for letra in palavra:\n",
    "                if (chute.upper() == letra.upper()):\n",
    "                    letras_acertadas[index] = letra\n",
    "                index += 1\n",
    "        else: #Caso ele não tenha acertado iremos incrementar 1 a variável erros\n",
    "            erros += 1\n",
    "            \n",
    "        enforcou = erros == 6 #Quando a variável erro for igual a 6 mudamos a variável enforcou para True\n",
    "        print (letras_acertadas)\n",
    "        \n",
    "\n",
    "    print(\"Fim do jogo\")"
   ]
  },
  {
   "cell_type": "markdown",
   "metadata": {},
   "source": [
    "Se testarmos nosso código agora iremos encontrar um outro problema, nosso código faz duas verificações da variável <code>chute</code> na nossa palavra secreta(Linhas 20 e 23). Entretanto ela só passa todas as letras para maiúscolas na verificação da linha 23. Vamos resolver isso de uma vez para que não ocorra mais"
   ]
  },
  {
   "cell_type": "code",
   "execution_count": 3,
   "metadata": {},
   "outputs": [],
   "source": [
    "def jogar():\n",
    "    print(\"*********************************\")\n",
    "    print(\"***Bem vindo ao jogo de Forca!***\")\n",
    "    print(\"*********************************\")\n",
    "    \n",
    "    palavra_secreta = 'banana'.upper() #Agora nossa palavra secreta sempre vai estar em maiúscolas\n",
    "    letras_acertadas = ['_','_','_','_','_','_',]\n",
    "    \n",
    "    enforcou = False\n",
    "    acertou = False\n",
    "    erros = 0\n",
    "        \n",
    "    print(letras_acertadas)\n",
    "    \n",
    "    while (not enforcou and not acertou):\n",
    "        \n",
    "        chute = input('Chute uma letra: ')\n",
    "        chute = chute.strip().upper() #Agora nossos chutes sempre vão estar em letras maiúscolas\n",
    "        \n",
    "        if(chute in palavra_secreta):\n",
    "            index = 0\n",
    "            for letra in palavra:\n",
    "                if (chute.upper() == letra.upper()):\n",
    "                    letras_acertadas[index] = letra\n",
    "                index += 1\n",
    "        else:\n",
    "            erros += 1\n",
    "            \n",
    "        enforcou = erros == 6\n",
    "        print (letras_acertadas)\n",
    "        \n",
    "\n",
    "    print(\"Fim do jogo\")"
   ]
  },
  {
   "cell_type": "markdown",
   "metadata": {},
   "source": [
    "Agora iremos resolver o problema do nosso jogador acertar a palavra e o jogo continuar rodando"
   ]
  },
  {
   "cell_type": "code",
   "execution_count": 4,
   "metadata": {},
   "outputs": [],
   "source": [
    "def jogar():\n",
    "    print(\"*********************************\")\n",
    "    print(\"***Bem vindo ao jogo de Forca!***\")\n",
    "    print(\"*********************************\")\n",
    "    \n",
    "    palavra_secreta = 'banana'.upper()\n",
    "    letras_acertadas = ['_','_','_','_','_','_',]\n",
    "    \n",
    "    enforcou = False\n",
    "    acertou = False\n",
    "    erros = 0\n",
    "        \n",
    "    print(letras_acertadas)\n",
    "    \n",
    "    while (not enforcou and not acertou):\n",
    "        \n",
    "        chute = input('Chute uma letra: ')\n",
    "        chute = chute.strip().upper()\n",
    "        \n",
    "        if(chute in palavra_secreta):\n",
    "            index = 0\n",
    "            for letra in palavra:\n",
    "                if (chute.upper() == letra.upper()):\n",
    "                    letras_acertadas[index] = letra\n",
    "                index += 1\n",
    "        else:\n",
    "            erros += 1\n",
    "            \n",
    "        enforcou = erros == 6\n",
    "        acertou = \"_\" not in letras_acertadas #Aqui fazemos uma verificação para saber se ainda existem letras em branco na nossa lista de letras acertadas\n",
    "        \n",
    "        print (letras_acertadas)\n",
    "        \n",
    "    if (acertou): #Aqui verificamos o resultado do jogo e informamos para o usuário\n",
    "        print('Você ganhou!')\n",
    "    else:\n",
    "        print('Você errou!')\n",
    "    print(\"Fim do jogo\")"
   ]
  },
  {
   "cell_type": "markdown",
   "metadata": {},
   "source": [
    "Iremos ajustar mais uma coisa no nosso código. Vamos deixar de maneira dinâmica o tamanho da lista <code>letras_acertadas</code>. Faremos isso assim:"
   ]
  },
  {
   "cell_type": "code",
   "execution_count": 5,
   "metadata": {},
   "outputs": [],
   "source": [
    "def jogar():\n",
    "    print(\"*********************************\")\n",
    "    print(\"***Bem vindo ao jogo de Forca!***\")\n",
    "    print(\"*********************************\")\n",
    "    \n",
    "    palavra_secreta = 'banana'.upper()\n",
    "    letras_acertadas = ['_' for letra in palavra_secreta] #Vamos esvaziar essa lista e escrever o laço dentro da nossa lista\n",
    "    \n",
    "    enforcou = False\n",
    "    acertou = False\n",
    "    erros = 0\n",
    "        \n",
    "    print(letras_acertadas)\n",
    "    \n",
    "    while (not enforcou and not acertou):\n",
    "        \n",
    "        chute = input('Chute uma letra: ')\n",
    "        chute = chute.strip().upper()\n",
    "        \n",
    "        if(chute in palavra_secreta):\n",
    "            index = 0\n",
    "            for letra in palavra:\n",
    "                if (chute.upper() == letra.upper()):\n",
    "                    letras_acertadas[index] = letra\n",
    "                index += 1\n",
    "        else:\n",
    "            erros += 1\n",
    "            \n",
    "        enforcou = erros == 6\n",
    "        acertou = \"_\" not in letras_acertadas\n",
    "        \n",
    "        print (letras_acertadas)\n",
    "        \n",
    "    if (acertou):\n",
    "        print('Você ganhou!')\n",
    "    else:\n",
    "        print('Você errou!')\n",
    "    print(\"Fim do jogo\")"
   ]
  },
  {
   "cell_type": "code",
   "execution_count": null,
   "metadata": {},
   "outputs": [],
   "source": []
  }
 ],
 "metadata": {
  "kernelspec": {
   "display_name": "Python 3",
   "language": "python",
   "name": "python3"
  },
  "language_info": {
   "codemirror_mode": {
    "name": "ipython",
    "version": 3
   },
   "file_extension": ".py",
   "mimetype": "text/x-python",
   "name": "python",
   "nbconvert_exporter": "python",
   "pygments_lexer": "ipython3",
   "version": "3.7.3"
  }
 },
 "nbformat": 4,
 "nbformat_minor": 2
}
