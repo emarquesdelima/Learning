{
 "cells": [
  {
   "cell_type": "markdown",
   "metadata": {},
   "source": [
    "# Encontrando letras"
   ]
  },
  {
   "cell_type": "markdown",
   "metadata": {},
   "source": [
    "## Código Inicial"
   ]
  },
  {
   "cell_type": "code",
   "execution_count": 1,
   "metadata": {},
   "outputs": [],
   "source": [
    "def jogar():\n",
    "    print(\"*********************************\")\n",
    "    print(\"***Bem vindo ao jogo de Forca!***\")\n",
    "    print(\"*********************************\")\n",
    "    \n",
    "    palavra_secreta = 'banana'\n",
    "    \n",
    "    enforcou = False\n",
    "    acertou = False\n",
    "    \n",
    "    \n",
    "    while (not enforcou and not acertou):\n",
    "        print ('jogando ...')\n",
    "        \n",
    "\n",
    "    print(\"Fim do jogo\")\n",
    "    \n",
    "    \n",
    "#if (__name__ == '__main__'):\n",
    "    #jogar()\n"
   ]
  },
  {
   "cell_type": "markdown",
   "metadata": {},
   "source": [
    "Nós já temos o nosso loop que manté o jogo rodando enquanto o usuário não se enforcar ou acertar a palavra\n",
    "\n",
    "Para pegarmos o chute do usuário iremos utilizar um <code>input</code> como já vimos anteriormente, esse chute tem que estar dentro do <code>while</code> para sempre pegarmos um chute do usuário"
   ]
  },
  {
   "cell_type": "code",
   "execution_count": 2,
   "metadata": {},
   "outputs": [],
   "source": [
    "def jogar():\n",
    "    print(\"*********************************\")\n",
    "    print(\"***Bem vindo ao jogo de Forca!***\")\n",
    "    print(\"*********************************\")\n",
    "    \n",
    "    palavra_secreta = 'banana'\n",
    "    \n",
    "    enforcou = False\n",
    "    acertou = False\n",
    "    \n",
    "    \n",
    "    while (not enforcou and not acertou):\n",
    "        \n",
    "        chute = input('Chute uma letra: ') #pegando o input do usuário\n",
    "        \n",
    "        print ('jogando ...')\n",
    "        \n",
    "\n",
    "    print(\"Fim do jogo\")"
   ]
  },
  {
   "cell_type": "markdown",
   "metadata": {},
   "source": [
    "Agora podemos verificar se a letra que o usuário chutou aparece na palavra secreta com a função <code>find</code>, uma função que busca uma letra dentro de uma string"
   ]
  },
  {
   "cell_type": "code",
   "execution_count": 3,
   "metadata": {},
   "outputs": [
    {
     "name": "stdout",
     "output_type": "stream",
     "text": [
      "Chute uma letra: a\n"
     ]
    },
    {
     "data": {
      "text/plain": [
       "1"
      ]
     },
     "execution_count": 3,
     "metadata": {},
     "output_type": "execute_result"
    }
   ],
   "source": [
    "palavra = 'banana'\n",
    "chute = input('Chute uma letra: ')\n",
    "\n",
    "palavra.find(chute)"
   ]
  },
  {
   "cell_type": "code",
   "execution_count": 4,
   "metadata": {},
   "outputs": [
    {
     "name": "stdout",
     "output_type": "stream",
     "text": [
      "Chute uma letra: b\n"
     ]
    },
    {
     "data": {
      "text/plain": [
       "0"
      ]
     },
     "execution_count": 4,
     "metadata": {},
     "output_type": "execute_result"
    }
   ],
   "source": [
    "palavra = 'banana'\n",
    "chute = input('Chute uma letra: ')\n",
    "\n",
    "palavra.find(chute)"
   ]
  },
  {
   "cell_type": "code",
   "execution_count": 5,
   "metadata": {},
   "outputs": [
    {
     "name": "stdout",
     "output_type": "stream",
     "text": [
      "Chute uma letra: n\n"
     ]
    },
    {
     "data": {
      "text/plain": [
       "2"
      ]
     },
     "execution_count": 5,
     "metadata": {},
     "output_type": "execute_result"
    }
   ],
   "source": [
    "palavra = 'banana'\n",
    "chute = input('Chute uma letra: ')\n",
    "\n",
    "palavra.find(chute)"
   ]
  },
  {
   "cell_type": "code",
   "execution_count": 6,
   "metadata": {},
   "outputs": [
    {
     "name": "stdout",
     "output_type": "stream",
     "text": [
      "Chute uma letra: z\n"
     ]
    },
    {
     "data": {
      "text/plain": [
       "-1"
      ]
     },
     "execution_count": 6,
     "metadata": {},
     "output_type": "execute_result"
    }
   ],
   "source": [
    "palavra = 'banana'\n",
    "chute = input('Chute uma letra: ')\n",
    "\n",
    "palavra.find(chute)"
   ]
  },
  {
   "cell_type": "markdown",
   "metadata": {},
   "source": [
    "Podemos ver que o <code>find</code> mostra a posição da primeira letra igual ao chute, e caso a letra não apareça na frase ele retorna -1.\n",
    "\n",
    "Entretanto, tomando o 'n' como exemplo, precisamos saber todas as posições em que a letra aparece, nesse caso vamos ter que verificar letra por letra e utilizaremos um <code>for</code>"
   ]
  },
  {
   "cell_type": "code",
   "execution_count": 7,
   "metadata": {},
   "outputs": [
    {
     "name": "stdout",
     "output_type": "stream",
     "text": [
      "b\n",
      "a\n",
      "n\n",
      "a\n",
      "n\n",
      "a\n"
     ]
    }
   ],
   "source": [
    "palavra = 'banana'\n",
    "\n",
    "for letra in palavra:\n",
    "    print(letra)"
   ]
  },
  {
   "cell_type": "markdown",
   "metadata": {},
   "source": [
    "Vamos utilizar o <code>for</code> para obter cada letra individualmente e um <code>if</code> para checar se a letra aparece e caso ela apareça iremos mostrar em qual posição a letra está."
   ]
  },
  {
   "cell_type": "code",
   "execution_count": 11,
   "metadata": {},
   "outputs": [],
   "source": [
    "def jogar():\n",
    "    print(\"*********************************\")\n",
    "    print(\"***Bem vindo ao jogo de Forca!***\")\n",
    "    print(\"*********************************\")\n",
    "    \n",
    "    palavra_secreta = 'banana'\n",
    "    \n",
    "    enforcou = False\n",
    "    acertou = False\n",
    "    \n",
    "    \n",
    "    while (not enforcou and not acertou):\n",
    "        \n",
    "        chute = input('Chute uma letra: ')\n",
    "        \n",
    "        index = 0 #servirá para mostrar em que posição a letra aparece\n",
    "        for letra in palavra: #passar por cada letra na palavra\n",
    "            if (chute == letra): #verifica se a letra do chute aparece na palavra\n",
    "                print('Encontrei a letra {} na posição {}'.format(letra, index))\n",
    "            index = index +1\n",
    "            \n",
    "        print ('jogando ...')\n",
    "        \n",
    "\n",
    "    print(\"Fim do jogo\")"
   ]
  },
  {
   "cell_type": "markdown",
   "metadata": {},
   "source": [
    "Uma limitação desse código no momento é que ele não encontra letras maíuscolas e nem letras com espaços. Para resolver esses problemas vamos utilizar algumas outra funções que podem ser utilizadas com strings\n",
    "\n",
    "Para resolver nossos problemas vamos utilizar a função <code>lower</code>, que deixa todos os caracteres de uma string em minúsculo. E também a função <code>strip</code> que retira os espaços em branco de uma string"
   ]
  },
  {
   "cell_type": "code",
   "execution_count": null,
   "metadata": {},
   "outputs": [],
   "source": [
    "def jogar():\n",
    "    print(\"*********************************\")\n",
    "    print(\"***Bem vindo ao jogo de Forca!***\")\n",
    "    print(\"*********************************\")\n",
    "    \n",
    "    palavra_secreta = 'banana'\n",
    "    \n",
    "    enforcou = False\n",
    "    acertou = False\n",
    "    \n",
    "    \n",
    "    while (not enforcou and not acertou):\n",
    "        \n",
    "        chute = input('Chute uma letra: ')\n",
    "        chute = chute.strip() #Aqui retiramos os epaços em branco\n",
    "        \n",
    "        index = 0\n",
    "        for letra in palavra:\n",
    "            if (chute.upper() == letra.upper()): #Aqui fazemos o chute e a letra sempre serem maiúscolas\n",
    "                print('Encontrei a letra {} na posição {}'.format(letra, index))\n",
    "            index = index +1\n",
    "            \n",
    "        print ('jogando ...')\n",
    "        \n",
    "\n",
    "    print(\"Fim do jogo\")"
   ]
  }
 ],
 "metadata": {
  "kernelspec": {
   "display_name": "Python 3",
   "language": "python",
   "name": "python3"
  },
  "language_info": {
   "codemirror_mode": {
    "name": "ipython",
    "version": 3
   },
   "file_extension": ".py",
   "mimetype": "text/x-python",
   "name": "python",
   "nbconvert_exporter": "python",
   "pygments_lexer": "ipython3",
   "version": "3.7.3"
  }
 },
 "nbformat": 4,
 "nbformat_minor": 2
}
