{
 "cells": [
  {
   "cell_type": "markdown",
   "metadata": {},
   "source": [
    "# Escrita e leitura de arquivos"
   ]
  },
  {
   "cell_type": "markdown",
   "metadata": {},
   "source": [
    "## Código Inicial"
   ]
  },
  {
   "cell_type": "code",
   "execution_count": 1,
   "metadata": {},
   "outputs": [],
   "source": [
    "def jogar():\n",
    "    print(\"*********************************\")\n",
    "    print(\"***Bem vindo ao jogo de Forca!***\")\n",
    "    print(\"*********************************\")\n",
    "    \n",
    "    palavra_secreta = 'banana'.upper()\n",
    "    letras_acertadas = ['_' for letra in palavra_secreta]\n",
    "    \n",
    "    enforcou = False\n",
    "    acertou = False\n",
    "    erros = 0\n",
    "        \n",
    "    print(letras_acertadas)\n",
    "    \n",
    "    while (not enforcou and not acertou):\n",
    "        \n",
    "        chute = input('Chute uma letra: ')\n",
    "        chute = chute.strip().upper()\n",
    "        \n",
    "        if(chute in palavra_secreta):\n",
    "            index = 0\n",
    "            for letra in palavra_secreta:\n",
    "                if (chute.upper() == letra.upper()):\n",
    "                    letras_acertadas[index] = letra\n",
    "                index += 1\n",
    "        else:\n",
    "            erros += 1\n",
    "            \n",
    "        enforcou = erros == 6\n",
    "        acertou = \"_\" not in letras_acertadas\n",
    "        \n",
    "        print (letras_acertadas)\n",
    "        \n",
    "    if (acertou):\n",
    "        print('Você ganhou!')\n",
    "    else:\n",
    "        print('Você errou!')\n",
    "    print(\"Fim do jogo\")"
   ]
  },
  {
   "cell_type": "markdown",
   "metadata": {},
   "source": [
    "Nosso jogo está basicamente pronto, entretanto a palavra secreta ainda é fixa e caso queiramos mudar a palavra secreta precisaremos acessar o código fonte para fazer essa alteração.\n",
    "\n",
    "Agora nós iremos criar um arquivo de texto separado contendo as nossas palavras que serão utilizadas. Utilizaremos algumas outras funções built-in chamadas <code>open()</code>, <code>write()</code> e <code>close()</code>"
   ]
  },
  {
   "cell_type": "markdown",
   "metadata": {},
   "source": [
    "Vamos criar um arquivo, escrever o nome de algumas frutas nele e depois fechá-lo\n",
    "\n",
    "Para isso utilizaremos a função <code>open()</code>, essa função recebe 2 parâmetros principais. O primeiro é o caminho do arquivo e o segundo é a forma como o <code>open()</code> será executado.\n",
    "\n",
    "Podemos executar o open das seguintes maneiras:\n",
    "- 'r': Ler o arquivo (default)\n",
    "- 'w': Criar um arquivo novo e escrever nele\n",
    "- 'x': Irá apenas criar um arquivo, caso o arquivo já exista irá dar erro\n",
    "- 'a': Irá adicionar informação ao final do arquivo se o arquivo existir\n",
    "- 'b': Modo binário (?)\n",
    "- 't': Modo de texto\n",
    "- '+': Abre para atualização, leitura e escrita"
   ]
  },
  {
   "cell_type": "code",
   "execution_count": 12,
   "metadata": {},
   "outputs": [],
   "source": [
    "#Abrindo o arquivo\n",
    "arquivo = open('palavras.txt', 'w')"
   ]
  },
  {
   "cell_type": "code",
   "execution_count": 13,
   "metadata": {},
   "outputs": [],
   "source": [
    "#Escrevendo algumas palavras e fechando o arquivo\n",
    "#Vamos sempre lembrar de adicionar um \\n no final, ele é como se dessemos um enter\n",
    "arquivo.write('banana\\n')\n",
    "arquivo.write('melancia\\n')\n",
    "arquivo.close()"
   ]
  },
  {
   "cell_type": "code",
   "execution_count": 14,
   "metadata": {},
   "outputs": [
    {
     "name": "stdout",
     "output_type": "stream",
     "text": [
      "banana\n",
      "melancia\n",
      "\n"
     ]
    }
   ],
   "source": [
    "#Vamos ler o nosso arquivo e fechar o arquivo\n",
    "arquivo = open('palavras.txt', 'r')\n",
    "print(arquivo.read())\n",
    "arquivo.close()"
   ]
  },
  {
   "cell_type": "code",
   "execution_count": 15,
   "metadata": {},
   "outputs": [
    {
     "name": "stdout",
     "output_type": "stream",
     "text": [
      "banana\n",
      "melancia\n",
      "morango\n",
      "maça\n",
      "\n"
     ]
    }
   ],
   "source": [
    "#Vamos adicionar mais algumas palavras ao arquivo\n",
    "arquivo = open('palavras.txt', 'a')\n",
    "arquivo.write('morango\\n')\n",
    "arquivo.write('maça\\n')\n",
    "arquivo.close()\n",
    "\n",
    "#E ver novamente como ele ficou\n",
    "arquivo = open('palavras.txt', 'r')\n",
    "print(arquivo.read())\n",
    "arquivo.close()"
   ]
  },
  {
   "cell_type": "markdown",
   "metadata": {},
   "source": [
    "Agora que já temos nosso arquivo com as palavras que desejamos iremos fazer com que a palavra secreta fique dinâmica"
   ]
  },
  {
   "cell_type": "code",
   "execution_count": 16,
   "metadata": {},
   "outputs": [],
   "source": [
    "def jogar():\n",
    "    import random #Vamos importar a biblioteca que gera numeros aleatórios\n",
    "    \n",
    "    print(\"*********************************\")\n",
    "    print(\"***Bem vindo ao jogo de Forca!***\")\n",
    "    print(\"*********************************\")\n",
    "    \n",
    "    arquivo = open('palavras.txt', 'r') #Abrindo o arquivo\n",
    "    palavras = [] #Criando uma lista para salvar as palavras do arquivo\n",
    "    \n",
    "    for linha in arquivo: #Fazendo um laço que pega cada uma das palavras e salva dentro da nossa lista\n",
    "        linha = linha.strip()\n",
    "        palavras.append(linha)\n",
    "    \n",
    "    arquivo.close() #Lembre-se de sempre fechar o arquivo\n",
    "    \n",
    "    numero = random.randrange(0,len(palavras)) #Criando os numeros aleatórios que podem ser escolhidos\n",
    "    \n",
    "    palavra_secreta = palavras[numero].upper() #Passando nossa variável palavra_secreta para algo dinâmico\n",
    "    letras_acertadas = ['_' for letra in palavra_secreta]\n",
    "    \n",
    "    enforcou = False\n",
    "    acertou = False\n",
    "    erros = 0\n",
    "        \n",
    "    print(letras_acertadas)\n",
    "    \n",
    "    while (not enforcou and not acertou):\n",
    "        \n",
    "        chute = input('Chute uma letra: ')\n",
    "        chute = chute.strip().upper()\n",
    "        \n",
    "        if(chute in palavra_secreta):\n",
    "            index = 0\n",
    "            for letra in palavra_secreta:\n",
    "                if (chute.upper() == letra.upper()):\n",
    "                    letras_acertadas[index] = letra\n",
    "                index += 1\n",
    "        else:\n",
    "            erros += 1\n",
    "            \n",
    "        enforcou = erros == 6\n",
    "        acertou = \"_\" not in letras_acertadas\n",
    "        \n",
    "        print (letras_acertadas)\n",
    "        \n",
    "    if (acertou):\n",
    "        print('Você ganhou!')\n",
    "    else:\n",
    "        print('Você errou!')\n",
    "    print(\"Fim do jogo\")"
   ]
  },
  {
   "cell_type": "code",
   "execution_count": null,
   "metadata": {},
   "outputs": [],
   "source": []
  }
 ],
 "metadata": {
  "kernelspec": {
   "display_name": "Python 3",
   "language": "python",
   "name": "python3"
  },
  "language_info": {
   "codemirror_mode": {
    "name": "ipython",
    "version": 3
   },
   "file_extension": ".py",
   "mimetype": "text/x-python",
   "name": "python",
   "nbconvert_exporter": "python",
   "pygments_lexer": "ipython3",
   "version": "3.7.3"
  }
 },
 "nbformat": 4,
 "nbformat_minor": 2
}
